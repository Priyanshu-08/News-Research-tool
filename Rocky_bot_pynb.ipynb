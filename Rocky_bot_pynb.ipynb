{
  "cells": [
    {
      "cell_type": "code",
      "execution_count": null,
      "metadata": {
        "id": "JmSHr7-VEqHS",
        "colab": {
          "base_uri": "https://localhost:8080/"
        },
        "outputId": "8c1c9d96-8118-466d-9512-041f6e9f3a98"
      },
      "outputs": [
        {
          "output_type": "stream",
          "name": "stdout",
          "text": [
            "\u001b[?25l   \u001b[90m━━━━━━━━━━━━━━━━━━━━━━━━━━━━━━━━━━━━━━━━\u001b[0m \u001b[32m0.0/2.4 MB\u001b[0m \u001b[31m?\u001b[0m eta \u001b[36m-:--:--\u001b[0m\r\u001b[2K   \u001b[90m━━━━━━━━━━━━━━━━━━━━━━━━━━━━━━━━━━━━━━━━\u001b[0m \u001b[32m2.4/2.4 MB\u001b[0m \u001b[31m74.4 MB/s\u001b[0m eta \u001b[36m0:00:00\u001b[0m\n",
            "\u001b[?25h\u001b[?25l   \u001b[90m━━━━━━━━━━━━━━━━━━━━━━━━━━━━━━━━━━━━━━━━\u001b[0m \u001b[32m0.0/1.0 MB\u001b[0m \u001b[31m?\u001b[0m eta \u001b[36m-:--:--\u001b[0m\r\u001b[2K   \u001b[90m━━━━━━━━━━━━━━━━━━━━━━━━━━━━━━━━━━━━━━━━\u001b[0m \u001b[32m1.0/1.0 MB\u001b[0m \u001b[31m63.1 MB/s\u001b[0m eta \u001b[36m0:00:00\u001b[0m\n",
            "\u001b[2K   \u001b[90m━━━━━━━━━━━━━━━━━━━━━━━━━━━━━━━━━━━━━━━━\u001b[0m \u001b[32m409.7/409.7 kB\u001b[0m \u001b[31m33.7 MB/s\u001b[0m eta \u001b[36m0:00:00\u001b[0m\n",
            "\u001b[2K   \u001b[90m━━━━━━━━━━━━━━━━━━━━━━━━━━━━━━━━━━━━━━━━\u001b[0m \u001b[32m49.5/49.5 kB\u001b[0m \u001b[31m4.2 MB/s\u001b[0m eta \u001b[36m0:00:00\u001b[0m\n",
            "\u001b[?25h"
          ]
        }
      ],
      "source": [
        "%pip install -U -q langchain_community pandas==2.2.2 langchain-text-splitters\n"
      ]
    },
    {
      "cell_type": "code",
      "execution_count": null,
      "metadata": {
        "id": "RzVtsM54KRXJ"
      },
      "outputs": [],
      "source": [
        "from langchain_community import document_loaders\n",
        "from langchain_community.document_loaders import TextLoader"
      ]
    },
    {
      "cell_type": "code",
      "execution_count": null,
      "metadata": {
        "colab": {
          "base_uri": "https://localhost:8080/"
        },
        "id": "JrP91OpiJN6M",
        "outputId": "8f56e6a0-f334-4005-d45c-141d3cce7fc1"
      },
      "outputs": [
        {
          "output_type": "stream",
          "name": "stdout",
          "text": [
            "[Document(metadata={'source': '/content/nvdia.txt'}, page_content='Latest NVIDIA AI, Robotics and Quantum Computing Software Comes to AWS\\nExpanding what’s possible for developers and enterprises in the cloud, NVIDIA and Amazon Web Services are converging at AWS re:Invent in Las Vegas this week to showcase new solutions designed to accelerate AI and robotics breakthroughs and simplify ...\\nRead Blog\\nDecember 03, 2024\\nNVIDIA Advances Physical AI With Accelerated Robotics Simulation on AWS\\nField AI is building robot brains that enable robots to autonomously manage a wide range of industrial processes. Vention creates pretrained skills to ease development of robotic tasks. And Cobot offers Proxie, an AI-powered cobot designed to handle ...\\nRead Blog\\nDecember 03, 2024\\nNew NVIDIA Certifications Expand Professionals’ Credentials in AI Infrastructure and Operations\\nAs generative AI continues to grow, implementing and managing the right infrastructure becomes even more critical to ensure the secure and efficient development and deployment of AI-based solutions. To meet these needs, NVIDIA has introduced two ...\\nRead Blog\\nDecember 03, 2024\\nHow AI Can Enhance Disability Inclusion, Special Education\\nA recent survey from the Special Olympics Global Center for Inclusion in Education shows that while a majority of students with an intellectual and developmental disability (IDD) and their parents view AI as a potentially transformative technology, ...\\nRead Blog\\nDecember 02, 2024\\nSiemens Healthineers Adopts MONAI Deploy for Medical Imaging AI\\n3.6 billion. That’s about how many medical imaging tests are performed annually worldwide to diagnose, monitor and treat various conditions. Speeding up the processing and evaluation of all these X-rays, CT scans, MRIs and ultrasounds is essential ...\\nRead Blog\\nNovember 28, 2024\\nGet the Power of GeForce-Powered Gaming in the Cloud Half Off With Black Friday Deal\\nTurn Black Friday into Green Thursday with a new deal on GeForce NOW Ultimate and Performance memberships this week. For a limited time, get 50% off new Ultimate or Performance memberships for the first three months to experience the power of ...\\nRead Blog\\nNovember 27, 2024\\nHow RTX AI PCs Unlock AI Agents That Solve Complex Problems Autonomously With Generative AI\\nGenerative AI has transformed the way people bring ideas to life.\\nRead Blog\\nNovember 26, 2024\\nTaste of Success: Zordi Plants AI and Robotics to Grow Flavorful Strawberries Indoors\\nWith startup Zordi, founder Gilwoo Lee’s enthusiasm for robotics, healthy eating, better produce and sustainable farming has taken root. Lee hadn’t even finished her Ph.D. in AI and robotics at the University of Washington when investors seeded her ...\\n')]\n"
          ]
        }
      ],
      "source": [
        "loader = TextLoader(\"/content/nvdia.txt\")\n",
        "data = loader.load()\n",
        "print(data)"
      ]
    },
    {
      "cell_type": "code",
      "execution_count": null,
      "metadata": {
        "colab": {
          "base_uri": "https://localhost:8080/"
        },
        "collapsed": true,
        "id": "oXaO5XZHLgLf",
        "outputId": "1f787b8f-4baf-4d8d-cd4c-0fb840d75271"
      },
      "outputs": [
        {
          "output_type": "execute_result",
          "data": {
            "text/plain": [
              "{'source': '/content/nvdia.txt'}"
            ]
          },
          "metadata": {},
          "execution_count": 4
        }
      ],
      "source": [
        "data[0].metadata"
      ]
    },
    {
      "cell_type": "code",
      "execution_count": null,
      "metadata": {
        "id": "tbk_FrP5L7s7"
      },
      "outputs": [],
      "source": [
        "from langchain_community.document_loaders.csv_loader import CSVLoader"
      ]
    },
    {
      "cell_type": "code",
      "execution_count": null,
      "metadata": {
        "colab": {
          "base_uri": "https://localhost:8080/"
        },
        "id": "6SSrgPhFNLLN",
        "outputId": "a8dd079e-fe79-447e-dd87-9b15c4427d2c"
      },
      "outputs": [
        {
          "output_type": "stream",
          "name": "stdout",
          "text": [
            "9\n"
          ]
        }
      ],
      "source": [
        "loader = CSVLoader(\"/content/movies.csv\", source_column = \"title\")\n",
        "data = loader.load()\n",
        "data\n",
        "print(len(data))"
      ]
    },
    {
      "cell_type": "code",
      "execution_count": null,
      "metadata": {
        "colab": {
          "base_uri": "https://localhost:8080/"
        },
        "id": "5XhR0ZU9Ou8W",
        "outputId": "262b59a6-3707-4044-86cb-821d99093988"
      },
      "outputs": [
        {
          "output_type": "execute_result",
          "data": {
            "text/plain": [
              "{'source': 'Thor: The Dark World', 'row': 2}"
            ]
          },
          "metadata": {},
          "execution_count": 7
        }
      ],
      "source": [
        "data[2].metadata"
      ]
    },
    {
      "cell_type": "code",
      "execution_count": null,
      "metadata": {
        "colab": {
          "base_uri": "https://localhost:8080/",
          "height": 1000
        },
        "id": "3pC1t305Frxp",
        "outputId": "eb1facd3-ed36-4de6-a7d2-df79091eeb56"
      },
      "outputs": [
        {
          "output_type": "stream",
          "name": "stdout",
          "text": [
            "Collecting langchain-unstructured\n",
            "  Downloading langchain_unstructured-0.1.6-py3-none-any.whl.metadata (3.3 kB)\n",
            "Collecting unstructured-client\n",
            "  Downloading unstructured_client-0.28.1-py3-none-any.whl.metadata (20 kB)\n",
            "Collecting unstructured\n",
            "  Downloading unstructured-0.16.11-py3-none-any.whl.metadata (24 kB)\n",
            "Collecting python-magic\n",
            "  Downloading python_magic-0.4.27-py2.py3-none-any.whl.metadata (5.8 kB)\n",
            "Requirement already satisfied: langchain-core<0.4.0,>=0.3.6 in /usr/local/lib/python3.10/dist-packages (from langchain-unstructured) (0.3.22)\n",
            "Collecting onnxruntime<=1.19.2,>=1.17.0 (from langchain-unstructured)\n",
            "  Downloading onnxruntime-1.19.2-cp310-cp310-manylinux_2_27_x86_64.manylinux_2_28_x86_64.whl.metadata (4.5 kB)\n",
            "Collecting aiofiles>=24.1.0 (from unstructured-client)\n",
            "  Downloading aiofiles-24.1.0-py3-none-any.whl.metadata (10 kB)\n",
            "Requirement already satisfied: cryptography>=3.1 in /usr/local/lib/python3.10/dist-packages (from unstructured-client) (43.0.3)\n",
            "Requirement already satisfied: eval-type-backport<0.3.0,>=0.2.0 in /usr/local/lib/python3.10/dist-packages (from unstructured-client) (0.2.0)\n",
            "Requirement already satisfied: httpx>=0.27.0 in /usr/local/lib/python3.10/dist-packages (from unstructured-client) (0.28.0)\n",
            "Collecting jsonpath-python<2.0.0,>=1.0.6 (from unstructured-client)\n",
            "  Downloading jsonpath_python-1.0.6-py3-none-any.whl.metadata (12 kB)\n",
            "Requirement already satisfied: nest-asyncio>=1.6.0 in /usr/local/lib/python3.10/dist-packages (from unstructured-client) (1.6.0)\n",
            "Collecting pydantic<2.10.0,>=2.9.2 (from unstructured-client)\n",
            "  Downloading pydantic-2.9.2-py3-none-any.whl.metadata (149 kB)\n",
            "\u001b[2K     \u001b[90m━━━━━━━━━━━━━━━━━━━━━━━━━━━━━━━━━━━━━━━━\u001b[0m \u001b[32m149.4/149.4 kB\u001b[0m \u001b[31m12.8 MB/s\u001b[0m eta \u001b[36m0:00:00\u001b[0m\n",
            "\u001b[?25hCollecting pypdf>=4.0 (from unstructured-client)\n",
            "  Downloading pypdf-5.1.0-py3-none-any.whl.metadata (7.2 kB)\n",
            "Requirement already satisfied: python-dateutil<3.0.0,>=2.8.2 in /usr/local/lib/python3.10/dist-packages (from unstructured-client) (2.8.2)\n",
            "Requirement already satisfied: requests-toolbelt>=1.0.0 in /usr/local/lib/python3.10/dist-packages (from unstructured-client) (1.0.0)\n",
            "Requirement already satisfied: typing-inspect<0.10.0,>=0.9.0 in /usr/local/lib/python3.10/dist-packages (from unstructured-client) (0.9.0)\n",
            "Requirement already satisfied: chardet in /usr/local/lib/python3.10/dist-packages (from unstructured) (5.2.0)\n",
            "Collecting filetype (from unstructured)\n",
            "  Downloading filetype-1.2.0-py2.py3-none-any.whl.metadata (6.5 kB)\n",
            "Requirement already satisfied: lxml in /usr/local/lib/python3.10/dist-packages (from unstructured) (5.3.0)\n",
            "Requirement already satisfied: nltk in /usr/local/lib/python3.10/dist-packages (from unstructured) (3.9.1)\n",
            "Requirement already satisfied: requests in /usr/local/lib/python3.10/dist-packages (from unstructured) (2.32.3)\n",
            "Requirement already satisfied: beautifulsoup4 in /usr/local/lib/python3.10/dist-packages (from unstructured) (4.12.3)\n",
            "Collecting emoji (from unstructured)\n",
            "  Downloading emoji-2.14.0-py3-none-any.whl.metadata (5.7 kB)\n",
            "Requirement already satisfied: dataclasses-json in /usr/local/lib/python3.10/dist-packages (from unstructured) (0.6.7)\n",
            "Collecting python-iso639 (from unstructured)\n",
            "  Downloading python_iso639-2024.10.22-py3-none-any.whl.metadata (13 kB)\n",
            "Collecting langdetect (from unstructured)\n",
            "  Downloading langdetect-1.0.9.tar.gz (981 kB)\n",
            "\u001b[2K     \u001b[90m━━━━━━━━━━━━━━━━━━━━━━━━━━━━━━━━━━━━━━━━\u001b[0m \u001b[32m981.5/981.5 kB\u001b[0m \u001b[31m44.3 MB/s\u001b[0m eta \u001b[36m0:00:00\u001b[0m\n",
            "\u001b[?25h  Preparing metadata (setup.py) ... \u001b[?25l\u001b[?25hdone\n",
            "Requirement already satisfied: numpy<2 in /usr/local/lib/python3.10/dist-packages (from unstructured) (1.26.4)\n",
            "Collecting rapidfuzz (from unstructured)\n",
            "  Downloading rapidfuzz-3.10.1-cp310-cp310-manylinux_2_17_x86_64.manylinux2014_x86_64.whl.metadata (11 kB)\n",
            "Collecting backoff (from unstructured)\n",
            "  Downloading backoff-2.2.1-py3-none-any.whl.metadata (14 kB)\n",
            "Requirement already satisfied: typing-extensions in /usr/local/lib/python3.10/dist-packages (from unstructured) (4.12.2)\n",
            "Requirement already satisfied: wrapt in /usr/local/lib/python3.10/dist-packages (from unstructured) (1.17.0)\n",
            "Requirement already satisfied: tqdm in /usr/local/lib/python3.10/dist-packages (from unstructured) (4.66.6)\n",
            "Requirement already satisfied: psutil in /usr/local/lib/python3.10/dist-packages (from unstructured) (5.9.5)\n",
            "Collecting python-oxmsg (from unstructured)\n",
            "  Downloading python_oxmsg-0.0.1-py3-none-any.whl.metadata (5.0 kB)\n",
            "Requirement already satisfied: html5lib in /usr/local/lib/python3.10/dist-packages (from unstructured) (1.1)\n",
            "Collecting onnx (from unstructured[pdf])\n",
            "  Downloading onnx-1.17.0-cp310-cp310-manylinux_2_17_x86_64.manylinux2014_x86_64.whl.metadata (16 kB)\n",
            "Collecting pdf2image (from unstructured[pdf])\n",
            "  Downloading pdf2image-1.17.0-py3-none-any.whl.metadata (6.2 kB)\n",
            "Collecting pdfminer.six (from unstructured[pdf])\n",
            "  Downloading pdfminer.six-20240706-py3-none-any.whl.metadata (4.1 kB)\n",
            "Collecting pikepdf (from unstructured[pdf])\n",
            "  Downloading pikepdf-9.4.2-cp310-cp310-manylinux_2_17_x86_64.manylinux2014_x86_64.whl.metadata (8.2 kB)\n",
            "Collecting pi-heif (from unstructured[pdf])\n",
            "  Downloading pi_heif-0.21.0-cp310-cp310-manylinux_2_17_x86_64.manylinux2014_x86_64.whl.metadata (6.5 kB)\n",
            "Collecting google-cloud-vision (from unstructured[pdf])\n",
            "  Downloading google_cloud_vision-3.8.1-py2.py3-none-any.whl.metadata (5.3 kB)\n",
            "Collecting effdet (from unstructured[pdf])\n",
            "  Downloading effdet-0.4.1-py3-none-any.whl.metadata (33 kB)\n",
            "Collecting unstructured-inference==0.8.1 (from unstructured[pdf])\n",
            "  Downloading unstructured_inference-0.8.1-py3-none-any.whl.metadata (5.9 kB)\n",
            "Collecting unstructured.pytesseract>=0.3.12 (from unstructured[pdf])\n",
            "  Downloading unstructured.pytesseract-0.3.13-py3-none-any.whl.metadata (11 kB)\n",
            "Collecting layoutparser (from unstructured-inference==0.8.1->unstructured[pdf])\n",
            "  Downloading layoutparser-0.3.4-py3-none-any.whl.metadata (7.7 kB)\n",
            "Collecting python-multipart (from unstructured-inference==0.8.1->unstructured[pdf])\n",
            "  Downloading python_multipart-0.0.19-py3-none-any.whl.metadata (1.8 kB)\n",
            "Requirement already satisfied: huggingface-hub in /usr/local/lib/python3.10/dist-packages (from unstructured-inference==0.8.1->unstructured[pdf]) (0.26.3)\n",
            "Requirement already satisfied: opencv-python!=4.7.0.68 in /usr/local/lib/python3.10/dist-packages (from unstructured-inference==0.8.1->unstructured[pdf]) (4.10.0.84)\n",
            "Requirement already satisfied: matplotlib in /usr/local/lib/python3.10/dist-packages (from unstructured-inference==0.8.1->unstructured[pdf]) (3.8.0)\n",
            "Requirement already satisfied: torch in /usr/local/lib/python3.10/dist-packages (from unstructured-inference==0.8.1->unstructured[pdf]) (2.5.1+cu121)\n",
            "Requirement already satisfied: timm in /usr/local/lib/python3.10/dist-packages (from unstructured-inference==0.8.1->unstructured[pdf]) (1.0.12)\n",
            "Requirement already satisfied: transformers>=4.25.1 in /usr/local/lib/python3.10/dist-packages (from unstructured-inference==0.8.1->unstructured[pdf]) (4.46.3)\n",
            "Requirement already satisfied: cffi>=1.12 in /usr/local/lib/python3.10/dist-packages (from cryptography>=3.1->unstructured-client) (1.17.1)\n",
            "Requirement already satisfied: anyio in /usr/local/lib/python3.10/dist-packages (from httpx>=0.27.0->unstructured-client) (3.7.1)\n",
            "Requirement already satisfied: certifi in /usr/local/lib/python3.10/dist-packages (from httpx>=0.27.0->unstructured-client) (2024.8.30)\n",
            "Requirement already satisfied: httpcore==1.* in /usr/local/lib/python3.10/dist-packages (from httpx>=0.27.0->unstructured-client) (1.0.7)\n",
            "Requirement already satisfied: idna in /usr/local/lib/python3.10/dist-packages (from httpx>=0.27.0->unstructured-client) (3.10)\n",
            "Requirement already satisfied: h11<0.15,>=0.13 in /usr/local/lib/python3.10/dist-packages (from httpcore==1.*->httpx>=0.27.0->unstructured-client) (0.14.0)\n",
            "Requirement already satisfied: PyYAML>=5.3 in /usr/local/lib/python3.10/dist-packages (from langchain-core<0.4.0,>=0.3.6->langchain-unstructured) (6.0.2)\n",
            "Requirement already satisfied: jsonpatch<2.0,>=1.33 in /usr/local/lib/python3.10/dist-packages (from langchain-core<0.4.0,>=0.3.6->langchain-unstructured) (1.33)\n",
            "Requirement already satisfied: langsmith<0.2.0,>=0.1.125 in /usr/local/lib/python3.10/dist-packages (from langchain-core<0.4.0,>=0.3.6->langchain-unstructured) (0.1.147)\n",
            "Requirement already satisfied: packaging<25,>=23.2 in /usr/local/lib/python3.10/dist-packages (from langchain-core<0.4.0,>=0.3.6->langchain-unstructured) (24.2)\n",
            "Requirement already satisfied: tenacity!=8.4.0,<10.0.0,>=8.1.0 in /usr/local/lib/python3.10/dist-packages (from langchain-core<0.4.0,>=0.3.6->langchain-unstructured) (9.0.0)\n",
            "Collecting coloredlogs (from onnxruntime<=1.19.2,>=1.17.0->langchain-unstructured)\n",
            "  Downloading coloredlogs-15.0.1-py2.py3-none-any.whl.metadata (12 kB)\n",
            "Requirement already satisfied: flatbuffers in /usr/local/lib/python3.10/dist-packages (from onnxruntime<=1.19.2,>=1.17.0->langchain-unstructured) (24.3.25)\n",
            "Requirement already satisfied: protobuf in /usr/local/lib/python3.10/dist-packages (from onnxruntime<=1.19.2,>=1.17.0->langchain-unstructured) (4.25.5)\n",
            "Requirement already satisfied: sympy in /usr/local/lib/python3.10/dist-packages (from onnxruntime<=1.19.2,>=1.17.0->langchain-unstructured) (1.13.1)\n",
            "Requirement already satisfied: annotated-types>=0.6.0 in /usr/local/lib/python3.10/dist-packages (from pydantic<2.10.0,>=2.9.2->unstructured-client) (0.7.0)\n",
            "Collecting pydantic-core==2.23.4 (from pydantic<2.10.0,>=2.9.2->unstructured-client)\n",
            "  Downloading pydantic_core-2.23.4-cp310-cp310-manylinux_2_17_x86_64.manylinux2014_x86_64.whl.metadata (6.6 kB)\n",
            "Requirement already satisfied: six>=1.5 in /usr/local/lib/python3.10/dist-packages (from python-dateutil<3.0.0,>=2.8.2->unstructured-client) (1.16.0)\n",
            "Requirement already satisfied: charset-normalizer<4,>=2 in /usr/local/lib/python3.10/dist-packages (from requests->unstructured) (3.4.0)\n",
            "Requirement already satisfied: urllib3<3,>=1.21.1 in /usr/local/lib/python3.10/dist-packages (from requests->unstructured) (2.2.3)\n",
            "Requirement already satisfied: mypy-extensions>=0.3.0 in /usr/local/lib/python3.10/dist-packages (from typing-inspect<0.10.0,>=0.9.0->unstructured-client) (1.0.0)\n",
            "Requirement already satisfied: Pillow>=8.0.0 in /usr/local/lib/python3.10/dist-packages (from unstructured.pytesseract>=0.3.12->unstructured[pdf]) (11.0.0)\n",
            "Requirement already satisfied: soupsieve>1.2 in /usr/local/lib/python3.10/dist-packages (from beautifulsoup4->unstructured) (2.6)\n",
            "Requirement already satisfied: marshmallow<4.0.0,>=3.18.0 in /usr/local/lib/python3.10/dist-packages (from dataclasses-json->unstructured) (3.23.1)\n",
            "Requirement already satisfied: torchvision in /usr/local/lib/python3.10/dist-packages (from effdet->unstructured[pdf]) (0.20.1+cu121)\n",
            "Requirement already satisfied: pycocotools>=2.0.2 in /usr/local/lib/python3.10/dist-packages (from effdet->unstructured[pdf]) (2.0.8)\n",
            "Collecting omegaconf>=2.0 (from effdet->unstructured[pdf])\n",
            "  Downloading omegaconf-2.3.0-py3-none-any.whl.metadata (3.9 kB)\n",
            "Requirement already satisfied: google-api-core!=2.0.*,!=2.1.*,!=2.10.*,!=2.2.*,!=2.3.*,!=2.4.*,!=2.5.*,!=2.6.*,!=2.7.*,!=2.8.*,!=2.9.*,<3.0.0dev,>=1.34.1 in /usr/local/lib/python3.10/dist-packages (from google-api-core[grpc]!=2.0.*,!=2.1.*,!=2.10.*,!=2.2.*,!=2.3.*,!=2.4.*,!=2.5.*,!=2.6.*,!=2.7.*,!=2.8.*,!=2.9.*,<3.0.0dev,>=1.34.1->google-cloud-vision->unstructured[pdf]) (2.19.2)\n",
            "Requirement already satisfied: google-auth!=2.24.0,!=2.25.0,<3.0.0dev,>=2.14.1 in /usr/local/lib/python3.10/dist-packages (from google-cloud-vision->unstructured[pdf]) (2.27.0)\n",
            "Requirement already satisfied: proto-plus<2.0.0dev,>=1.22.3 in /usr/local/lib/python3.10/dist-packages (from google-cloud-vision->unstructured[pdf]) (1.25.0)\n",
            "Requirement already satisfied: webencodings in /usr/local/lib/python3.10/dist-packages (from html5lib->unstructured) (0.5.1)\n",
            "Requirement already satisfied: click in /usr/local/lib/python3.10/dist-packages (from nltk->unstructured) (8.1.7)\n",
            "Requirement already satisfied: joblib in /usr/local/lib/python3.10/dist-packages (from nltk->unstructured) (1.4.2)\n",
            "Requirement already satisfied: regex>=2021.8.3 in /usr/local/lib/python3.10/dist-packages (from nltk->unstructured) (2024.9.11)\n",
            "Requirement already satisfied: Deprecated in /usr/local/lib/python3.10/dist-packages (from pikepdf->unstructured[pdf]) (1.2.15)\n",
            "Collecting olefile (from python-oxmsg->unstructured)\n",
            "  Downloading olefile-0.47-py2.py3-none-any.whl.metadata (9.7 kB)\n",
            "Requirement already satisfied: pycparser in /usr/local/lib/python3.10/dist-packages (from cffi>=1.12->cryptography>=3.1->unstructured-client) (2.22)\n",
            "Requirement already satisfied: googleapis-common-protos<2.0.dev0,>=1.56.2 in /usr/local/lib/python3.10/dist-packages (from google-api-core!=2.0.*,!=2.1.*,!=2.10.*,!=2.2.*,!=2.3.*,!=2.4.*,!=2.5.*,!=2.6.*,!=2.7.*,!=2.8.*,!=2.9.*,<3.0.0dev,>=1.34.1->google-api-core[grpc]!=2.0.*,!=2.1.*,!=2.10.*,!=2.2.*,!=2.3.*,!=2.4.*,!=2.5.*,!=2.6.*,!=2.7.*,!=2.8.*,!=2.9.*,<3.0.0dev,>=1.34.1->google-cloud-vision->unstructured[pdf]) (1.66.0)\n",
            "Requirement already satisfied: grpcio<2.0dev,>=1.33.2 in /usr/local/lib/python3.10/dist-packages (from google-api-core[grpc]!=2.0.*,!=2.1.*,!=2.10.*,!=2.2.*,!=2.3.*,!=2.4.*,!=2.5.*,!=2.6.*,!=2.7.*,!=2.8.*,!=2.9.*,<3.0.0dev,>=1.34.1->google-cloud-vision->unstructured[pdf]) (1.68.1)\n",
            "Requirement already satisfied: grpcio-status<2.0.dev0,>=1.33.2 in /usr/local/lib/python3.10/dist-packages (from google-api-core[grpc]!=2.0.*,!=2.1.*,!=2.10.*,!=2.2.*,!=2.3.*,!=2.4.*,!=2.5.*,!=2.6.*,!=2.7.*,!=2.8.*,!=2.9.*,<3.0.0dev,>=1.34.1->google-cloud-vision->unstructured[pdf]) (1.62.3)\n",
            "Requirement already satisfied: cachetools<6.0,>=2.0.0 in /usr/local/lib/python3.10/dist-packages (from google-auth!=2.24.0,!=2.25.0,<3.0.0dev,>=2.14.1->google-cloud-vision->unstructured[pdf]) (5.5.0)\n",
            "Requirement already satisfied: pyasn1-modules>=0.2.1 in /usr/local/lib/python3.10/dist-packages (from google-auth!=2.24.0,!=2.25.0,<3.0.0dev,>=2.14.1->google-cloud-vision->unstructured[pdf]) (0.4.1)\n",
            "Requirement already satisfied: rsa<5,>=3.1.4 in /usr/local/lib/python3.10/dist-packages (from google-auth!=2.24.0,!=2.25.0,<3.0.0dev,>=2.14.1->google-cloud-vision->unstructured[pdf]) (4.9)\n",
            "Requirement already satisfied: jsonpointer>=1.9 in /usr/local/lib/python3.10/dist-packages (from jsonpatch<2.0,>=1.33->langchain-core<0.4.0,>=0.3.6->langchain-unstructured) (3.0.0)\n",
            "Requirement already satisfied: orjson<4.0.0,>=3.9.14 in /usr/local/lib/python3.10/dist-packages (from langsmith<0.2.0,>=0.1.125->langchain-core<0.4.0,>=0.3.6->langchain-unstructured) (3.10.12)\n",
            "Collecting antlr4-python3-runtime==4.9.* (from omegaconf>=2.0->effdet->unstructured[pdf])\n",
            "  Downloading antlr4-python3-runtime-4.9.3.tar.gz (117 kB)\n",
            "\u001b[2K     \u001b[90m━━━━━━━━━━━━━━━━━━━━━━━━━━━━━━━━━━━━━━━━\u001b[0m \u001b[32m117.0/117.0 kB\u001b[0m \u001b[31m12.7 MB/s\u001b[0m eta \u001b[36m0:00:00\u001b[0m\n",
            "\u001b[?25h  Preparing metadata (setup.py) ... \u001b[?25l\u001b[?25hdone\n",
            "Requirement already satisfied: contourpy>=1.0.1 in /usr/local/lib/python3.10/dist-packages (from matplotlib->unstructured-inference==0.8.1->unstructured[pdf]) (1.3.1)\n",
            "Requirement already satisfied: cycler>=0.10 in /usr/local/lib/python3.10/dist-packages (from matplotlib->unstructured-inference==0.8.1->unstructured[pdf]) (0.12.1)\n",
            "Requirement already satisfied: fonttools>=4.22.0 in /usr/local/lib/python3.10/dist-packages (from matplotlib->unstructured-inference==0.8.1->unstructured[pdf]) (4.55.1)\n",
            "Requirement already satisfied: kiwisolver>=1.0.1 in /usr/local/lib/python3.10/dist-packages (from matplotlib->unstructured-inference==0.8.1->unstructured[pdf]) (1.4.7)\n",
            "Requirement already satisfied: pyparsing>=2.3.1 in /usr/local/lib/python3.10/dist-packages (from matplotlib->unstructured-inference==0.8.1->unstructured[pdf]) (3.2.0)\n",
            "Requirement already satisfied: safetensors in /usr/local/lib/python3.10/dist-packages (from timm->unstructured-inference==0.8.1->unstructured[pdf]) (0.4.5)\n",
            "Requirement already satisfied: filelock in /usr/local/lib/python3.10/dist-packages (from torch->unstructured-inference==0.8.1->unstructured[pdf]) (3.16.1)\n",
            "Requirement already satisfied: networkx in /usr/local/lib/python3.10/dist-packages (from torch->unstructured-inference==0.8.1->unstructured[pdf]) (3.4.2)\n",
            "Requirement already satisfied: jinja2 in /usr/local/lib/python3.10/dist-packages (from torch->unstructured-inference==0.8.1->unstructured[pdf]) (3.1.4)\n",
            "Requirement already satisfied: fsspec in /usr/local/lib/python3.10/dist-packages (from torch->unstructured-inference==0.8.1->unstructured[pdf]) (2024.10.0)\n",
            "Requirement already satisfied: mpmath<1.4,>=1.1.0 in /usr/local/lib/python3.10/dist-packages (from sympy->onnxruntime<=1.19.2,>=1.17.0->langchain-unstructured) (1.3.0)\n",
            "Requirement already satisfied: tokenizers<0.21,>=0.20 in /usr/local/lib/python3.10/dist-packages (from transformers>=4.25.1->unstructured-inference==0.8.1->unstructured[pdf]) (0.20.3)\n",
            "Requirement already satisfied: sniffio>=1.1 in /usr/local/lib/python3.10/dist-packages (from anyio->httpx>=0.27.0->unstructured-client) (1.3.1)\n",
            "Requirement already satisfied: exceptiongroup in /usr/local/lib/python3.10/dist-packages (from anyio->httpx>=0.27.0->unstructured-client) (1.2.2)\n",
            "Collecting humanfriendly>=9.1 (from coloredlogs->onnxruntime<=1.19.2,>=1.17.0->langchain-unstructured)\n",
            "  Downloading humanfriendly-10.0-py2.py3-none-any.whl.metadata (9.2 kB)\n",
            "Requirement already satisfied: scipy in /usr/local/lib/python3.10/dist-packages (from layoutparser->unstructured-inference==0.8.1->unstructured[pdf]) (1.13.1)\n",
            "Requirement already satisfied: pandas in /usr/local/lib/python3.10/dist-packages (from layoutparser->unstructured-inference==0.8.1->unstructured[pdf]) (2.2.2)\n",
            "Collecting iopath (from layoutparser->unstructured-inference==0.8.1->unstructured[pdf])\n",
            "  Downloading iopath-0.1.10.tar.gz (42 kB)\n",
            "\u001b[2K     \u001b[90m━━━━━━━━━━━━━━━━━━━━━━━━━━━━━━━━━━━━━━━━\u001b[0m \u001b[32m42.2/42.2 kB\u001b[0m \u001b[31m4.0 MB/s\u001b[0m eta \u001b[36m0:00:00\u001b[0m\n",
            "\u001b[?25h  Preparing metadata (setup.py) ... \u001b[?25l\u001b[?25hdone\n",
            "Collecting pdfplumber (from layoutparser->unstructured-inference==0.8.1->unstructured[pdf])\n",
            "  Downloading pdfplumber-0.11.4-py3-none-any.whl.metadata (41 kB)\n",
            "\u001b[2K     \u001b[90m━━━━━━━━━━━━━━━━━━━━━━━━━━━━━━━━━━━━━━━━\u001b[0m \u001b[32m42.0/42.0 kB\u001b[0m \u001b[31m3.4 MB/s\u001b[0m eta \u001b[36m0:00:00\u001b[0m\n",
            "\u001b[?25hRequirement already satisfied: pyasn1<0.7.0,>=0.4.6 in /usr/local/lib/python3.10/dist-packages (from pyasn1-modules>=0.2.1->google-auth!=2.24.0,!=2.25.0,<3.0.0dev,>=2.14.1->google-cloud-vision->unstructured[pdf]) (0.6.1)\n",
            "Collecting portalocker (from iopath->layoutparser->unstructured-inference==0.8.1->unstructured[pdf])\n",
            "  Downloading portalocker-3.0.0-py3-none-any.whl.metadata (8.5 kB)\n",
            "Requirement already satisfied: MarkupSafe>=2.0 in /usr/local/lib/python3.10/dist-packages (from jinja2->torch->unstructured-inference==0.8.1->unstructured[pdf]) (3.0.2)\n",
            "Requirement already satisfied: pytz>=2020.1 in /usr/local/lib/python3.10/dist-packages (from pandas->layoutparser->unstructured-inference==0.8.1->unstructured[pdf]) (2024.2)\n",
            "Requirement already satisfied: tzdata>=2022.7 in /usr/local/lib/python3.10/dist-packages (from pandas->layoutparser->unstructured-inference==0.8.1->unstructured[pdf]) (2024.2)\n",
            "Collecting pdfminer.six (from unstructured[pdf])\n",
            "  Downloading pdfminer.six-20231228-py3-none-any.whl.metadata (4.2 kB)\n",
            "Collecting pypdfium2>=4.18.0 (from pdfplumber->layoutparser->unstructured-inference==0.8.1->unstructured[pdf])\n",
            "  Downloading pypdfium2-4.30.0-py3-none-manylinux_2_17_x86_64.manylinux2014_x86_64.whl.metadata (48 kB)\n",
            "\u001b[2K     \u001b[90m━━━━━━━━━━━━━━━━━━━━━━━━━━━━━━━━━━━━━━━━\u001b[0m \u001b[32m48.5/48.5 kB\u001b[0m \u001b[31m4.3 MB/s\u001b[0m eta \u001b[36m0:00:00\u001b[0m\n",
            "\u001b[?25hDownloading langchain_unstructured-0.1.6-py3-none-any.whl (7.0 kB)\n",
            "Downloading unstructured_client-0.28.1-py3-none-any.whl (62 kB)\n",
            "\u001b[2K   \u001b[90m━━━━━━━━━━━━━━━━━━━━━━━━━━━━━━━━━━━━━━━━\u001b[0m \u001b[32m62.9/62.9 kB\u001b[0m \u001b[31m6.7 MB/s\u001b[0m eta \u001b[36m0:00:00\u001b[0m\n",
            "\u001b[?25hDownloading unstructured-0.16.11-py3-none-any.whl (1.7 MB)\n",
            "\u001b[2K   \u001b[90m━━━━━━━━━━━━━━━━━━━━━━━━━━━━━━━━━━━━━━━━\u001b[0m \u001b[32m1.7/1.7 MB\u001b[0m \u001b[31m81.2 MB/s\u001b[0m eta \u001b[36m0:00:00\u001b[0m\n",
            "\u001b[?25hDownloading unstructured_inference-0.8.1-py3-none-any.whl (48 kB)\n",
            "\u001b[2K   \u001b[90m━━━━━━━━━━━━━━━━━━━━━━━━━━━━━━━━━━━━━━━━\u001b[0m \u001b[32m48.4/48.4 kB\u001b[0m \u001b[31m4.9 MB/s\u001b[0m eta \u001b[36m0:00:00\u001b[0m\n",
            "\u001b[?25hDownloading python_magic-0.4.27-py2.py3-none-any.whl (13 kB)\n",
            "Downloading aiofiles-24.1.0-py3-none-any.whl (15 kB)\n",
            "Downloading jsonpath_python-1.0.6-py3-none-any.whl (7.6 kB)\n",
            "Downloading onnxruntime-1.19.2-cp310-cp310-manylinux_2_27_x86_64.manylinux_2_28_x86_64.whl (13.2 MB)\n",
            "\u001b[2K   \u001b[90m━━━━━━━━━━━━━━━━━━━━━━━━━━━━━━━━━━━━━━━━\u001b[0m \u001b[32m13.2/13.2 MB\u001b[0m \u001b[31m71.7 MB/s\u001b[0m eta \u001b[36m0:00:00\u001b[0m\n",
            "\u001b[?25hDownloading pydantic-2.9.2-py3-none-any.whl (434 kB)\n",
            "\u001b[2K   \u001b[90m━━━━━━━━━━━━━━━━━━━━━━━━━━━━━━━━━━━━━━━━\u001b[0m \u001b[32m434.9/434.9 kB\u001b[0m \u001b[31m37.5 MB/s\u001b[0m eta \u001b[36m0:00:00\u001b[0m\n",
            "\u001b[?25hDownloading pydantic_core-2.23.4-cp310-cp310-manylinux_2_17_x86_64.manylinux2014_x86_64.whl (2.1 MB)\n",
            "\u001b[2K   \u001b[90m━━━━━━━━━━━━━━━━━━━━━━━━━━━━━━━━━━━━━━━━\u001b[0m \u001b[32m2.1/2.1 MB\u001b[0m \u001b[31m83.0 MB/s\u001b[0m eta \u001b[36m0:00:00\u001b[0m\n",
            "\u001b[?25hDownloading pypdf-5.1.0-py3-none-any.whl (297 kB)\n",
            "\u001b[2K   \u001b[90m━━━━━━━━━━━━━━━━━━━━━━━━━━━━━━━━━━━━━━━━\u001b[0m \u001b[32m298.0/298.0 kB\u001b[0m \u001b[31m28.5 MB/s\u001b[0m eta \u001b[36m0:00:00\u001b[0m\n",
            "\u001b[?25hDownloading unstructured.pytesseract-0.3.13-py3-none-any.whl (14 kB)\n",
            "Downloading backoff-2.2.1-py3-none-any.whl (15 kB)\n",
            "Downloading effdet-0.4.1-py3-none-any.whl (112 kB)\n",
            "\u001b[2K   \u001b[90m━━━━━━━━━━━━━━━━━━━━━━━━━━━━━━━━━━━━━━━━\u001b[0m \u001b[32m112.5/112.5 kB\u001b[0m \u001b[31m12.6 MB/s\u001b[0m eta \u001b[36m0:00:00\u001b[0m\n",
            "\u001b[?25hDownloading emoji-2.14.0-py3-none-any.whl (586 kB)\n",
            "\u001b[2K   \u001b[90m━━━━━━━━━━━━━━━━━━━━━━━━━━━━━━━━━━━━━━━━\u001b[0m \u001b[32m586.9/586.9 kB\u001b[0m \u001b[31m46.9 MB/s\u001b[0m eta \u001b[36m0:00:00\u001b[0m\n",
            "\u001b[?25hDownloading filetype-1.2.0-py2.py3-none-any.whl (19 kB)\n",
            "Downloading google_cloud_vision-3.8.1-py2.py3-none-any.whl (486 kB)\n",
            "\u001b[2K   \u001b[90m━━━━━━━━━━━━━━━━━━━━━━━━━━━━━━━━━━━━━━━━\u001b[0m \u001b[32m486.9/486.9 kB\u001b[0m \u001b[31m36.9 MB/s\u001b[0m eta \u001b[36m0:00:00\u001b[0m\n",
            "\u001b[?25hDownloading onnx-1.17.0-cp310-cp310-manylinux_2_17_x86_64.manylinux2014_x86_64.whl (16.0 MB)\n",
            "\u001b[2K   \u001b[90m━━━━━━━━━━━━━━━━━━━━━━━━━━━━━━━━━━━━━━━━\u001b[0m \u001b[32m16.0/16.0 MB\u001b[0m \u001b[31m99.2 MB/s\u001b[0m eta \u001b[36m0:00:00\u001b[0m\n",
            "\u001b[?25hDownloading pdf2image-1.17.0-py3-none-any.whl (11 kB)\n",
            "Downloading pi_heif-0.21.0-cp310-cp310-manylinux_2_17_x86_64.manylinux2014_x86_64.whl (1.2 MB)\n",
            "\u001b[2K   \u001b[90m━━━━━━━━━━━━━━━━━━━━━━━━━━━━━━━━━━━━━━━━\u001b[0m \u001b[32m1.2/1.2 MB\u001b[0m \u001b[31m22.5 MB/s\u001b[0m eta \u001b[36m0:00:00\u001b[0m\n",
            "\u001b[?25hDownloading pikepdf-9.4.2-cp310-cp310-manylinux_2_17_x86_64.manylinux2014_x86_64.whl (2.4 MB)\n",
            "\u001b[2K   \u001b[90m━━━━━━━━━━━━━━━━━━━━━━━━━━━━━━━━━━━━━━━━\u001b[0m \u001b[32m2.4/2.4 MB\u001b[0m \u001b[31m67.8 MB/s\u001b[0m eta \u001b[36m0:00:00\u001b[0m\n",
            "\u001b[?25hDownloading python_iso639-2024.10.22-py3-none-any.whl (274 kB)\n",
            "\u001b[2K   \u001b[90m━━━━━━━━━━━━━━━━━━━━━━━━━━━━━━━━━━━━━━━━\u001b[0m \u001b[32m274.9/274.9 kB\u001b[0m \u001b[31m26.2 MB/s\u001b[0m eta \u001b[36m0:00:00\u001b[0m\n",
            "\u001b[?25hDownloading python_oxmsg-0.0.1-py3-none-any.whl (31 kB)\n",
            "Downloading rapidfuzz-3.10.1-cp310-cp310-manylinux_2_17_x86_64.manylinux2014_x86_64.whl (3.1 MB)\n",
            "\u001b[2K   \u001b[90m━━━━━━━━━━━━━━━━━━━━━━━━━━━━━━━━━━━━━━━━\u001b[0m \u001b[32m3.1/3.1 MB\u001b[0m \u001b[31m99.6 MB/s\u001b[0m eta \u001b[36m0:00:00\u001b[0m\n",
            "\u001b[?25hDownloading omegaconf-2.3.0-py3-none-any.whl (79 kB)\n",
            "\u001b[2K   \u001b[90m━━━━━━━━━━━━━━━━━━━━━━━━━━━━━━━━━━━━━━━━\u001b[0m \u001b[32m79.5/79.5 kB\u001b[0m \u001b[31m6.7 MB/s\u001b[0m eta \u001b[36m0:00:00\u001b[0m\n",
            "\u001b[?25hDownloading coloredlogs-15.0.1-py2.py3-none-any.whl (46 kB)\n",
            "\u001b[2K   \u001b[90m━━━━━━━━━━━━━━━━━━━━━━━━━━━━━━━━━━━━━━━━\u001b[0m \u001b[32m46.0/46.0 kB\u001b[0m \u001b[31m4.5 MB/s\u001b[0m eta \u001b[36m0:00:00\u001b[0m\n",
            "\u001b[?25hDownloading layoutparser-0.3.4-py3-none-any.whl (19.2 MB)\n",
            "\u001b[2K   \u001b[90m━━━━━━━━━━━━━━━━━━━━━━━━━━━━━━━━━━━━━━━━\u001b[0m \u001b[32m19.2/19.2 MB\u001b[0m \u001b[31m34.7 MB/s\u001b[0m eta \u001b[36m0:00:00\u001b[0m\n",
            "\u001b[?25hDownloading olefile-0.47-py2.py3-none-any.whl (114 kB)\n",
            "\u001b[2K   \u001b[90m━━━━━━━━━━━━━━━━━━━━━━━━━━━━━━━━━━━━━━━━\u001b[0m \u001b[32m114.6/114.6 kB\u001b[0m \u001b[31m6.8 MB/s\u001b[0m eta \u001b[36m0:00:00\u001b[0m\n",
            "\u001b[?25hDownloading python_multipart-0.0.19-py3-none-any.whl (24 kB)\n",
            "Downloading humanfriendly-10.0-py2.py3-none-any.whl (86 kB)\n",
            "\u001b[2K   \u001b[90m━━━━━━━━━━━━━━━━━━━━━━━━━━━━━━━━━━━━━━━━\u001b[0m \u001b[32m86.8/86.8 kB\u001b[0m \u001b[31m8.5 MB/s\u001b[0m eta \u001b[36m0:00:00\u001b[0m\n",
            "\u001b[?25hDownloading pdfplumber-0.11.4-py3-none-any.whl (59 kB)\n",
            "\u001b[2K   \u001b[90m━━━━━━━━━━━━━━━━━━━━━━━━━━━━━━━━━━━━━━━━\u001b[0m \u001b[32m59.2/59.2 kB\u001b[0m \u001b[31m5.0 MB/s\u001b[0m eta \u001b[36m0:00:00\u001b[0m\n",
            "\u001b[?25hDownloading pdfminer.six-20231228-py3-none-any.whl (5.6 MB)\n",
            "\u001b[2K   \u001b[90m━━━━━━━━━━━━━━━━━━━━━━━━━━━━━━━━━━━━━━━━\u001b[0m \u001b[32m5.6/5.6 MB\u001b[0m \u001b[31m106.0 MB/s\u001b[0m eta \u001b[36m0:00:00\u001b[0m\n",
            "\u001b[?25hDownloading pypdfium2-4.30.0-py3-none-manylinux_2_17_x86_64.manylinux2014_x86_64.whl (2.8 MB)\n",
            "\u001b[2K   \u001b[90m━━━━━━━━━━━━━━━━━━━━━━━━━━━━━━━━━━━━━━━━\u001b[0m \u001b[32m2.8/2.8 MB\u001b[0m \u001b[31m92.2 MB/s\u001b[0m eta \u001b[36m0:00:00\u001b[0m\n",
            "\u001b[?25hDownloading portalocker-3.0.0-py3-none-any.whl (19 kB)\n",
            "Building wheels for collected packages: langdetect, antlr4-python3-runtime, iopath\n",
            "  Building wheel for langdetect (setup.py) ... \u001b[?25l\u001b[?25hdone\n",
            "  Created wheel for langdetect: filename=langdetect-1.0.9-py3-none-any.whl size=993222 sha256=8ef6dc73410f1531813f2776721151ca44b147ad5dbf6580245023ae465a142d\n",
            "  Stored in directory: /root/.cache/pip/wheels/95/03/7d/59ea870c70ce4e5a370638b5462a7711ab78fba2f655d05106\n",
            "  Building wheel for antlr4-python3-runtime (setup.py) ... \u001b[?25l\u001b[?25hdone\n",
            "  Created wheel for antlr4-python3-runtime: filename=antlr4_python3_runtime-4.9.3-py3-none-any.whl size=144555 sha256=d9c19db1a95af4b069104f5617b9033c8af419cde0d4de70a62e23b793499085\n",
            "  Stored in directory: /root/.cache/pip/wheels/12/93/dd/1f6a127edc45659556564c5730f6d4e300888f4bca2d4c5a88\n",
            "  Building wheel for iopath (setup.py) ... \u001b[?25l\u001b[?25hdone\n",
            "  Created wheel for iopath: filename=iopath-0.1.10-py3-none-any.whl size=31528 sha256=0932655077c0fe62daacf56f1eb4a805374a4b9a4080754b223a3754914dc9a6\n",
            "  Stored in directory: /root/.cache/pip/wheels/9a/a3/b6/ac0fcd1b4ed5cfeb3db92e6a0e476cfd48ed0df92b91080c1d\n",
            "Successfully built langdetect antlr4-python3-runtime iopath\n",
            "Installing collected packages: filetype, antlr4-python3-runtime, unstructured.pytesseract, rapidfuzz, python-multipart, python-magic, python-iso639, pypdfium2, pypdf, pydantic-core, portalocker, pi-heif, pdf2image, onnx, omegaconf, olefile, langdetect, jsonpath-python, humanfriendly, emoji, backoff, aiofiles, python-oxmsg, pydantic, pikepdf, iopath, coloredlogs, unstructured-client, pdfminer.six, onnxruntime, unstructured, pdfplumber, layoutparser, langchain-unstructured, google-cloud-vision, effdet, unstructured-inference\n",
            "  Attempting uninstall: pydantic-core\n",
            "    Found existing installation: pydantic_core 2.27.1\n",
            "    Uninstalling pydantic_core-2.27.1:\n",
            "      Successfully uninstalled pydantic_core-2.27.1\n",
            "  Attempting uninstall: pydantic\n",
            "    Found existing installation: pydantic 2.10.3\n",
            "    Uninstalling pydantic-2.10.3:\n",
            "      Successfully uninstalled pydantic-2.10.3\n",
            "Successfully installed aiofiles-24.1.0 antlr4-python3-runtime-4.9.3 backoff-2.2.1 coloredlogs-15.0.1 effdet-0.4.1 emoji-2.14.0 filetype-1.2.0 google-cloud-vision-3.8.1 humanfriendly-10.0 iopath-0.1.10 jsonpath-python-1.0.6 langchain-unstructured-0.1.6 langdetect-1.0.9 layoutparser-0.3.4 olefile-0.47 omegaconf-2.3.0 onnx-1.17.0 onnxruntime-1.19.2 pdf2image-1.17.0 pdfminer.six-20231228 pdfplumber-0.11.4 pi-heif-0.21.0 pikepdf-9.4.2 portalocker-3.0.0 pydantic-2.9.2 pydantic-core-2.23.4 pypdf-5.1.0 pypdfium2-4.30.0 python-iso639-2024.10.22 python-magic-0.4.27 python-multipart-0.0.19 python-oxmsg-0.0.1 rapidfuzz-3.10.1 unstructured-0.16.11 unstructured-client-0.28.1 unstructured-inference-0.8.1 unstructured.pytesseract-0.3.13\n"
          ]
        },
        {
          "output_type": "display_data",
          "data": {
            "application/vnd.colab-display-data+json": {
              "pip_warning": {
                "packages": [
                  "google",
                  "pydevd_plugins"
                ]
              },
              "id": "e99fe68b365941d6888a80a2db4889db"
            }
          },
          "metadata": {}
        }
      ],
      "source": [
        "%pip install -U langchain-unstructured unstructured-client unstructured \"unstructured[pdf]\" python-magic"
      ]
    },
    {
      "cell_type": "code",
      "execution_count": null,
      "metadata": {
        "colab": {
          "base_uri": "https://localhost:8080/"
        },
        "id": "6nhi9Jv0Q11i",
        "outputId": "86a6d580-6dbc-4d67-84ec-2cddda453159"
      },
      "outputs": [
        {
          "output_type": "stream",
          "name": "stdout",
          "text": [
            "[Document(metadata={'source': 'https://nvidianews.nvidia.com/news/latest'}, page_content='December 09, 2024\\n\\nCrowning Achievement: NVIDIA Research Model Enables Fast, Efficient Dynamic Scene Reconstruction\\n\\nContent streaming and engagement are entering a new dimension with QUEEN, an AI model by NVIDIA Research and the University of Maryland that makes it possible to stream free-viewpoint video, which lets viewers experience a 3D scene from any angle. ...\\n\\nRead Blog\\n\\nDecember 06, 2024\\n\\nThailand and Vietnam Embrace Sovereign AI to Drive Economic Growth\\n\\nSoutheast Asia is embracing sovereign AI. The prime ministers of Thailand and Vietnam this week met with NVIDIA founder and CEO Jensen Huang to discuss initiatives that will accelerate AI innovation in their countries. During his visit to the ...\\n\\nRead Blog\\n\\nDecember 05, 2024\\n\\nNVIDIA to Open Vietnam R&D Center to Bolster AI Development\\n\\nNVIDIA announced today it is opening its first Vietnam research and development center, signaling its confidence in the country’s bright artificial intelligence future.\\n\\nRead Press Release\\n\\nDecember 05, 2024\\n\\n2025 Predictions: Enterprises, Researchers and Startups Home In on Humanoids, AI Agents as Generative AI Crosses the Chasm\\n\\nFrom boardroom to break room, generative AI took this year by storm, stirring discussion across industries about how to best harness the technology to enhance innovation and creativity, improve customer service, transform product development and ...\\n\\nRead Blog\\n\\nDecember 05, 2024\\n\\nStream ‘Indiana Jones and the Great Circle’ at Launch With RTX Power in the Cloud at up to 50% Off\\n\\nGeForce NOW is wrapping a sleigh-full of gaming gifts this month, stuffing members’ cloud gaming stockings with new titles and fresh offers to keep holiday gaming spirits merry and bright. Adventure calls and whip-cracking action awaits in the ...\\n\\nRead Blog\\n\\nDecember 04, 2024\\n\\nNVIDIA NIM on AWS Supercharges AI Inference\\n\\nGenerative AI is rapidly transforming industries, driving demand for secure, high-performance inference solutions to scale increasingly complex models efficiently and cost-effectively. Expanding its collaboration with NVIDIA, Amazon Web Services ...\\n\\nRead Blog\\n\\nDecember 03, 2024\\n\\nLatest NVIDIA AI, Robotics and Quantum Computing Software Comes to AWS\\n\\nExpanding what’s possible for developers and enterprises in the cloud, NVIDIA and Amazon Web Services are converging at AWS re:Invent in Las Vegas this week to showcase new solutions designed to accelerate AI and robotics breakthroughs and simplify ...\\n\\nRead Blog\\n\\nDecember 03, 2024\\n\\nNVIDIA Advances Physical AI With Accelerated Robotics Simulation on AWS\\n\\nField AI is building robot brains that enable robots to autonomously manage a wide range of industrial processes. Vention creates pretrained skills to ease development of robotic tasks. And Cobot offers Proxie, an AI-powered cobot designed to handle ...\\n\\nRead Blog\\n\\nDecember 03, 2024\\n\\nNew NVIDIA Certifications Expand Professionals’ Credentials in AI Infrastructure and Operations\\n\\nAs generative AI continues to grow, implementing and managing the right infrastructure becomes even more critical to ensure the secure and efficient development and deployment of AI-based solutions. To meet these needs, NVIDIA has introduced two ...\\n\\nRead Blog\\n\\nDecember 03, 2024\\n\\nHow AI Can Enhance Disability Inclusion, Special Education\\n\\nA recent survey from the Special Olympics Global Center for Inclusion in Education shows that while a majority of students with an intellectual and developmental disability (IDD) and their parents view AI as a potentially transformative technology, ...\\n\\nRead Blog\\n\\nDecember 02, 2024\\n\\nSiemens Healthineers Adopts MONAI Deploy for Medical Imaging AI\\n\\n3.6 billion. That’s about how many medical imaging tests are performed annually worldwide to diagnose, monitor and treat various conditions. Speeding up the processing and evaluation of all these X-rays, CT scans, MRIs and ultrasounds is essential ...\\n\\nRead Blog\\n\\nNovember 28, 2024\\n\\nGet the Power of GeForce-Powered Gaming in the Cloud Half Off With Black Friday Deal\\n\\nTurn Black Friday into Green Thursday with a new deal on GeForce NOW Ultimate and Performance memberships this week. For a limited time, get 50% off new Ultimate or Performance memberships for the first three months to experience the power of ...\\n\\nRead Blog\\n\\nNovember 27, 2024\\n\\nHow RTX AI PCs Unlock AI Agents That Solve Complex Problems Autonomously With Generative AI\\n\\nGenerative AI has transformed the way people bring ideas to life.\\n\\nRead Blog\\n\\nNovember 26, 2024\\n\\nTaste of Success: Zordi Plants AI and Robotics to Grow Flavorful Strawberries Indoors\\n\\nWith startup Zordi, founder Gilwoo Lee’s enthusiasm for robotics, healthy eating, better produce and sustainable farming has taken root. Lee hadn’t even finished her Ph.D. in AI and robotics at the University of Washington when investors seeded her ...\\n\\nRead Blog\\n\\nNovember 25, 2024\\n\\nWhy Workforce Development Is Key to Reaping AI Benefits\\n\\nAI is changing industries and economies worldwide. Workforce development is central to ensuring the changes benefit all of us, as Louis Stewart, head of strategic initiatives for NVIDIA’s global developer ecosystem, explains in the latest AI ...\\n\\nRead Blog\\n\\nNovember 25, 2024\\n\\nNow Hear This: World’s Most Flexible Sound Machine Debuts\\n\\nA team of generative AI researchers created a Swiss Army knife for sound, one that allows users to control the audio output simply using text. While some AI models can compose a song or modify a voice, none have the dexterity of the new offering. ...\\n\\nRead Blog\\n\\nNovember 21, 2024\\n\\nNVIDIA Announces Upcoming Events for Financial Community\\n\\nSANTA CLARA, Calif., Nov. 21, 2024 -- NVIDIA will present at the following events for the financial community: UBS Global Technology and AI Conference Tuesday, Dec. 3, 6:35 a.m. Pacific...\\n\\nRead Press Release\\n\\nNovember 21, 2024\\n\\nEfficiency Meets Personalization: How AI Agents Improve Customer Service\\n\\nEditor’s note: This post is the first in the AI On blog series, which explores the latest techniques and real-world applications of agentic AI, chatbots and copilots. The series will also highlight the NVIDIA software and hardware powering advanced ...\\n\\nRead Blog\\n\\nNovember 21, 2024\\n\\nInto the Omniverse: How Generative AI Fuels Personalized, Brand-Accurate Visuals With OpenUSD\\n\\nInteractive 3D tools built by NVIDIA Omniverse developers are helping brands deliver tailored, high-quality marketing content at scale.\\n\\nRead Blog\\n\\nNovember 21, 2024\\n\\nFirst ‘Star Wars Outlaws’ Story Pack Hits GeForce NOW\\n\\nGet ready to dive deeper into the criminal underworld of a galaxy far, far away as GeForce NOW brings the first major story pack for Star Wars Outlaws to the cloud this week. The season of giving continues — GeForce NOW members can access a new free ...\\n\\nRead Blog\\n\\nNovember 20, 2024\\n\\nNVIDIA Announces Financial Results for Third Quarter Fiscal 2025\\n\\nRecord quarterly revenue of $35.1 billion, up 17% from Q2 and up 94% from a year agoRecord quarterly Data Center revenue of $30.8 billion, up 17% from Q2 and up 112% from a year ago SANTA ...\\n\\nRead Press Release\\n\\nNovember 20, 2024\\n\\nThe Need for Speed: NVIDIA Accelerates Majority of World’s Supercomputers to Drive Advancements in Science and Technology\\n\\nStarting with the release of CUDA in 2006, NVIDIA has driven advancements in AI and accelerated computing — and the most recent TOP500 list of the world’s most powerful supercomputers highlights the culmination of the company’s achievements in the ...\\n\\nRead Blog\\n\\nNovember 19, 2024\\n\\nAI at COP29: Balancing Innovation and Sustainability\\n\\nAs COP29 attendees gather in Baku, Azerbaijan, to tackle climate change, the role AI plays in environmental sustainability is front and center. A panel hosted by Deloitte brought together industry leaders to explore ways to reduce AI’s environmental ...\\n\\nRead Blog\\n\\nNovember 19, 2024\\n\\nHow the Department of Energy’s AI Initiatives Are Transforming Science, Industry and Government\\n\\nThe U.S. Department of Energy oversees national energy policy and production. As big a job as that is, the DOE also does so much more — enough to have earned the nickname “Department of Everything.” In this episode of the NVIDIA AI Podcast, Helena ...\\n\\nRead Blog\\n\\nNovember 19, 2024\\n\\nNVIDIA and Microsoft Showcase Blackwell Preview, Omniverse Industrial AI and RTX AI PCs at Microsoft Ignite\\n\\nNVIDIA and Microsoft today unveiled product integrations designed to advance full-stack NVIDIA AI development on Microsoft platforms and applications. At Microsoft Ignite, Microsoft announced the launch of the first cloud private preview of the ...\\n\\nRead Blog\\n\\n1\\n\\n2\\n\\n3\\n\\n4\\n\\n5\\n\\n6\\n\\n... 431\\n\\nNext\\n\\nLast\\n\\nMedia Contacts\\n\\nGlobal contacts for media inquiries.\\n\\nAll Contacts\\n\\nStay Informed\\n\\nNewsroom updates delivered to your inbox.\\n\\nSubscribe\\n\\nCorporate Information\\n\\nAbout NVIDIA\\n\\nCorporate Overview\\n\\nTechnologies\\n\\nNVIDIA Research\\n\\nInvestors\\n\\nSocial Responsibility\\n\\nNVIDIA Foundation\\n\\nGet Involved\\n\\nForums\\n\\nCareers\\n\\nDeveloper Home\\n\\nJoin the Developer Program\\n\\nNVIDIA Partner Network\\n\\nNVIDIA Inception\\n\\nResources for Venture Capitalists\\n\\nVenture Capital (NVentures)\\n\\nTechnical Training\\n\\nTraining for IT Professionals\\n\\nProfessional Services for Data Science\\n\\nNews & Events\\n\\nNewsroom\\n\\nNVIDIA Blog\\n\\nNVIDIA Technical Blog\\n\\nWebinars\\n\\nStay Informed\\n\\nEvents Calendar\\n\\nNVIDIA GTC\\n\\nNVIDIA On-Demand\\n\\nSign Up for NVIDIA News\\n\\nSubscribe\\n\\nFollow NVIDIA\\n\\nUSA - United States\\n\\nPrivacy Policy\\n\\nCookie Notice\\n\\nLegal\\n\\nAccessibility\\n\\nProduct Security\\n\\nContact\\n\\nCopyright © 2024 NVIDIA Corporation'), Document(metadata={'source': 'https://indianexpress.com/about/microsoft/'}, page_content='Access Denied\\n\\nYou don\\'t have permission to access \"http://indianexpress.com/about/microsoft/\" on this server.\\n\\nReference #18.54e51cb8.1733819854.71348b86\\n\\nhttps://errors.edgesuite.net/18.54e51cb8.1733819854.71348b86')]\n"
          ]
        }
      ],
      "source": [
        "from langchain_community.document_loaders import UnstructuredURLLoader\n",
        "loader = UnstructuredURLLoader( urls= [\"https://nvidianews.nvidia.com/news/latest\",\n",
        "\"https://indianexpress.com/about/microsoft/\"])\n",
        "data = loader.load()\n",
        "print(data)"
      ]
    },
    {
      "cell_type": "code",
      "execution_count": null,
      "metadata": {
        "colab": {
          "base_uri": "https://localhost:8080/"
        },
        "id": "gVAy92mUw-oq",
        "outputId": "72798ce3-2a0a-4a4d-9ba6-429ddd7b47a4"
      },
      "outputs": [
        {
          "output_type": "execute_result",
          "data": {
            "text/plain": [
              "{'source': 'https://nvidianews.nvidia.com/news/latest'}"
            ]
          },
          "metadata": {},
          "execution_count": 10
        }
      ],
      "source": [
        "data[0].metadata"
      ]
    },
    {
      "cell_type": "code",
      "execution_count": null,
      "metadata": {
        "colab": {
          "base_uri": "https://localhost:8080/"
        },
        "id": "MCo3SQnfUdWR",
        "outputId": "1844b585-7bb8-4295-d535-97479a831356"
      },
      "outputs": [
        {
          "output_type": "execute_result",
          "data": {
            "text/plain": [
              "2"
            ]
          },
          "metadata": {},
          "execution_count": 11
        }
      ],
      "source": [
        "len(data)"
      ]
    },
    {
      "cell_type": "code",
      "execution_count": null,
      "metadata": {
        "id": "0jCgroi2xmjA"
      },
      "outputs": [],
      "source": [
        "text = '''This post is the first in the AI On blog series, which explores the latest techniques and real-world applications of agentic AI, chatbots and copilots. The series will also highlight the NVIDIA software and hardware powering advanced AI agents, which form the foundation of AI query engines that gather insights and perform tasks to transform everyday experiences and reshape industries.\n",
        "\n",
        "Whether it’s getting a complex service claim resolved or having a simple purchase inquiry answered, customers expect timely, accurate responses to their requests.\n",
        "\n",
        "AI agents can help organizations meet this need. And they can grow in scope and scale as businesses grow, helping keep customers from taking their business elsewhere.\n",
        "\n",
        "AI agents can be used as virtual assistants, which use artificial intelligence and natural language processing to handle high volumes of customer service requests. By automating routine tasks, AI agents ease the workload on human agents, allowing them to focus on tasks requi'''"
      ]
    },
    {
      "cell_type": "code",
      "execution_count": null,
      "metadata": {
        "colab": {
          "base_uri": "https://localhost:8080/"
        },
        "id": "G6LqyOEzx6zv",
        "outputId": "c5fe42e1-babb-4188-ce5e-57cb80e0c786"
      },
      "outputs": [
        {
          "output_type": "execute_result",
          "data": {
            "text/plain": [
              "996"
            ]
          },
          "metadata": {},
          "execution_count": 13
        }
      ],
      "source": [
        "len(text)"
      ]
    },
    {
      "cell_type": "code",
      "execution_count": null,
      "metadata": {
        "colab": {
          "base_uri": "https://localhost:8080/"
        },
        "id": "7wJDcWzczXHo",
        "outputId": "571da767-9e3a-4884-ad66-1bd071f5aea3"
      },
      "outputs": [
        {
          "output_type": "execute_result",
          "data": {
            "text/plain": [
              "Document(metadata={'source': 'https://nvidianews.nvidia.com/news/latest'}, page_content='December 09, 2024\\n\\nCrowning Achievement: NVIDIA Research Model Enables Fast, Efficient Dynamic Scene Reconstruction\\n\\nContent streaming and engagement are entering a new dimension with QUEEN, an AI model by NVIDIA Research and the University of Maryland that makes it possible to stream free-viewpoint video, which lets viewers experience a 3D scene from any angle. ...\\n\\nRead Blog\\n\\nDecember 06, 2024\\n\\nThailand and Vietnam Embrace Sovereign AI to Drive Economic Growth\\n\\nSoutheast Asia is embracing sovereign AI. The prime ministers of Thailand and Vietnam this week met with NVIDIA founder and CEO Jensen Huang to discuss initiatives that will accelerate AI innovation in their countries. During his visit to the ...\\n\\nRead Blog\\n\\nDecember 05, 2024\\n\\nNVIDIA to Open Vietnam R&D Center to Bolster AI Development\\n\\nNVIDIA announced today it is opening its first Vietnam research and development center, signaling its confidence in the country’s bright artificial intelligence future.\\n\\nRead Press Release\\n\\nDecember 05, 2024\\n\\n2025 Predictions: Enterprises, Researchers and Startups Home In on Humanoids, AI Agents as Generative AI Crosses the Chasm\\n\\nFrom boardroom to break room, generative AI took this year by storm, stirring discussion across industries about how to best harness the technology to enhance innovation and creativity, improve customer service, transform product development and ...\\n\\nRead Blog\\n\\nDecember 05, 2024\\n\\nStream ‘Indiana Jones and the Great Circle’ at Launch With RTX Power in the Cloud at up to 50% Off\\n\\nGeForce NOW is wrapping a sleigh-full of gaming gifts this month, stuffing members’ cloud gaming stockings with new titles and fresh offers to keep holiday gaming spirits merry and bright. Adventure calls and whip-cracking action awaits in the ...\\n\\nRead Blog\\n\\nDecember 04, 2024\\n\\nNVIDIA NIM on AWS Supercharges AI Inference\\n\\nGenerative AI is rapidly transforming industries, driving demand for secure, high-performance inference solutions to scale increasingly complex models efficiently and cost-effectively. Expanding its collaboration with NVIDIA, Amazon Web Services ...\\n\\nRead Blog\\n\\nDecember 03, 2024\\n\\nLatest NVIDIA AI, Robotics and Quantum Computing Software Comes to AWS\\n\\nExpanding what’s possible for developers and enterprises in the cloud, NVIDIA and Amazon Web Services are converging at AWS re:Invent in Las Vegas this week to showcase new solutions designed to accelerate AI and robotics breakthroughs and simplify ...\\n\\nRead Blog\\n\\nDecember 03, 2024\\n\\nNVIDIA Advances Physical AI With Accelerated Robotics Simulation on AWS\\n\\nField AI is building robot brains that enable robots to autonomously manage a wide range of industrial processes. Vention creates pretrained skills to ease development of robotic tasks. And Cobot offers Proxie, an AI-powered cobot designed to handle ...\\n\\nRead Blog\\n\\nDecember 03, 2024\\n\\nNew NVIDIA Certifications Expand Professionals’ Credentials in AI Infrastructure and Operations\\n\\nAs generative AI continues to grow, implementing and managing the right infrastructure becomes even more critical to ensure the secure and efficient development and deployment of AI-based solutions. To meet these needs, NVIDIA has introduced two ...\\n\\nRead Blog\\n\\nDecember 03, 2024\\n\\nHow AI Can Enhance Disability Inclusion, Special Education\\n\\nA recent survey from the Special Olympics Global Center for Inclusion in Education shows that while a majority of students with an intellectual and developmental disability (IDD) and their parents view AI as a potentially transformative technology, ...\\n\\nRead Blog\\n\\nDecember 02, 2024\\n\\nSiemens Healthineers Adopts MONAI Deploy for Medical Imaging AI\\n\\n3.6 billion. That’s about how many medical imaging tests are performed annually worldwide to diagnose, monitor and treat various conditions. Speeding up the processing and evaluation of all these X-rays, CT scans, MRIs and ultrasounds is essential ...\\n\\nRead Blog\\n\\nNovember 28, 2024\\n\\nGet the Power of GeForce-Powered Gaming in the Cloud Half Off With Black Friday Deal\\n\\nTurn Black Friday into Green Thursday with a new deal on GeForce NOW Ultimate and Performance memberships this week. For a limited time, get 50% off new Ultimate or Performance memberships for the first three months to experience the power of ...\\n\\nRead Blog\\n\\nNovember 27, 2024\\n\\nHow RTX AI PCs Unlock AI Agents That Solve Complex Problems Autonomously With Generative AI\\n\\nGenerative AI has transformed the way people bring ideas to life.\\n\\nRead Blog\\n\\nNovember 26, 2024\\n\\nTaste of Success: Zordi Plants AI and Robotics to Grow Flavorful Strawberries Indoors\\n\\nWith startup Zordi, founder Gilwoo Lee’s enthusiasm for robotics, healthy eating, better produce and sustainable farming has taken root. Lee hadn’t even finished her Ph.D. in AI and robotics at the University of Washington when investors seeded her ...\\n\\nRead Blog\\n\\nNovember 25, 2024\\n\\nWhy Workforce Development Is Key to Reaping AI Benefits\\n\\nAI is changing industries and economies worldwide. Workforce development is central to ensuring the changes benefit all of us, as Louis Stewart, head of strategic initiatives for NVIDIA’s global developer ecosystem, explains in the latest AI ...\\n\\nRead Blog\\n\\nNovember 25, 2024\\n\\nNow Hear This: World’s Most Flexible Sound Machine Debuts\\n\\nA team of generative AI researchers created a Swiss Army knife for sound, one that allows users to control the audio output simply using text. While some AI models can compose a song or modify a voice, none have the dexterity of the new offering. ...\\n\\nRead Blog\\n\\nNovember 21, 2024\\n\\nNVIDIA Announces Upcoming Events for Financial Community\\n\\nSANTA CLARA, Calif., Nov. 21, 2024 -- NVIDIA will present at the following events for the financial community: UBS Global Technology and AI Conference Tuesday, Dec. 3, 6:35 a.m. Pacific...\\n\\nRead Press Release\\n\\nNovember 21, 2024\\n\\nEfficiency Meets Personalization: How AI Agents Improve Customer Service\\n\\nEditor’s note: This post is the first in the AI On blog series, which explores the latest techniques and real-world applications of agentic AI, chatbots and copilots. The series will also highlight the NVIDIA software and hardware powering advanced ...\\n\\nRead Blog\\n\\nNovember 21, 2024\\n\\nInto the Omniverse: How Generative AI Fuels Personalized, Brand-Accurate Visuals With OpenUSD\\n\\nInteractive 3D tools built by NVIDIA Omniverse developers are helping brands deliver tailored, high-quality marketing content at scale.\\n\\nRead Blog\\n\\nNovember 21, 2024\\n\\nFirst ‘Star Wars Outlaws’ Story Pack Hits GeForce NOW\\n\\nGet ready to dive deeper into the criminal underworld of a galaxy far, far away as GeForce NOW brings the first major story pack for Star Wars Outlaws to the cloud this week. The season of giving continues — GeForce NOW members can access a new free ...\\n\\nRead Blog\\n\\nNovember 20, 2024\\n\\nNVIDIA Announces Financial Results for Third Quarter Fiscal 2025\\n\\nRecord quarterly revenue of $35.1 billion, up 17% from Q2 and up 94% from a year agoRecord quarterly Data Center revenue of $30.8 billion, up 17% from Q2 and up 112% from a year ago SANTA ...\\n\\nRead Press Release\\n\\nNovember 20, 2024\\n\\nThe Need for Speed: NVIDIA Accelerates Majority of World’s Supercomputers to Drive Advancements in Science and Technology\\n\\nStarting with the release of CUDA in 2006, NVIDIA has driven advancements in AI and accelerated computing — and the most recent TOP500 list of the world’s most powerful supercomputers highlights the culmination of the company’s achievements in the ...\\n\\nRead Blog\\n\\nNovember 19, 2024\\n\\nAI at COP29: Balancing Innovation and Sustainability\\n\\nAs COP29 attendees gather in Baku, Azerbaijan, to tackle climate change, the role AI plays in environmental sustainability is front and center. A panel hosted by Deloitte brought together industry leaders to explore ways to reduce AI’s environmental ...\\n\\nRead Blog\\n\\nNovember 19, 2024\\n\\nHow the Department of Energy’s AI Initiatives Are Transforming Science, Industry and Government\\n\\nThe U.S. Department of Energy oversees national energy policy and production. As big a job as that is, the DOE also does so much more — enough to have earned the nickname “Department of Everything.” In this episode of the NVIDIA AI Podcast, Helena ...\\n\\nRead Blog\\n\\nNovember 19, 2024\\n\\nNVIDIA and Microsoft Showcase Blackwell Preview, Omniverse Industrial AI and RTX AI PCs at Microsoft Ignite\\n\\nNVIDIA and Microsoft today unveiled product integrations designed to advance full-stack NVIDIA AI development on Microsoft platforms and applications. At Microsoft Ignite, Microsoft announced the launch of the first cloud private preview of the ...\\n\\nRead Blog\\n\\n1\\n\\n2\\n\\n3\\n\\n4\\n\\n5\\n\\n6\\n\\n... 431\\n\\nNext\\n\\nLast\\n\\nMedia Contacts\\n\\nGlobal contacts for media inquiries.\\n\\nAll Contacts\\n\\nStay Informed\\n\\nNewsroom updates delivered to your inbox.\\n\\nSubscribe\\n\\nCorporate Information\\n\\nAbout NVIDIA\\n\\nCorporate Overview\\n\\nTechnologies\\n\\nNVIDIA Research\\n\\nInvestors\\n\\nSocial Responsibility\\n\\nNVIDIA Foundation\\n\\nGet Involved\\n\\nForums\\n\\nCareers\\n\\nDeveloper Home\\n\\nJoin the Developer Program\\n\\nNVIDIA Partner Network\\n\\nNVIDIA Inception\\n\\nResources for Venture Capitalists\\n\\nVenture Capital (NVentures)\\n\\nTechnical Training\\n\\nTraining for IT Professionals\\n\\nProfessional Services for Data Science\\n\\nNews & Events\\n\\nNewsroom\\n\\nNVIDIA Blog\\n\\nNVIDIA Technical Blog\\n\\nWebinars\\n\\nStay Informed\\n\\nEvents Calendar\\n\\nNVIDIA GTC\\n\\nNVIDIA On-Demand\\n\\nSign Up for NVIDIA News\\n\\nSubscribe\\n\\nFollow NVIDIA\\n\\nUSA - United States\\n\\nPrivacy Policy\\n\\nCookie Notice\\n\\nLegal\\n\\nAccessibility\\n\\nProduct Security\\n\\nContact\\n\\nCopyright © 2024 NVIDIA Corporation')"
            ]
          },
          "metadata": {},
          "execution_count": 14
        }
      ],
      "source": [
        "data[0]"
      ]
    },
    {
      "cell_type": "code",
      "execution_count": null,
      "metadata": {
        "colab": {
          "base_uri": "https://localhost:8080/"
        },
        "id": "NeDmC19BzaSP",
        "outputId": "3dddbec7-aee4-4ca6-981f-cfaf6b6f6658"
      },
      "outputs": [
        {
          "output_type": "stream",
          "name": "stdout",
          "text": [
            "[Document(metadata={'source': 'https://nvidianews.nvidia.com/news/latest'}, page_content='December 09, 2024\\n\\nCrowning Achievement: NVIDIA Research Model Enables Fast, Efficient Dynamic Scene Reconstruction\\n\\nContent streaming and engagement are entering a new dimension with QUEEN, an AI model by NVIDIA Research and the University of Maryland that makes it possible to stream free-viewpoint video, which lets viewers experience a 3D scene from any angle. ...\\n\\nRead Blog\\n\\nDecember 06, 2024\\n\\nThailand and Vietnam Embrace Sovereign AI to Drive Economic Growth\\n\\nSoutheast Asia is embracing sovereign AI. The prime ministers of Thailand and Vietnam this week met with NVIDIA founder and CEO Jensen Huang to discuss initiatives that will accelerate AI innovation in their countries. During his visit to the ...\\n\\nRead Blog\\n\\nDecember 05, 2024\\n\\nNVIDIA to Open Vietnam R&D Center to Bolster AI Development\\n\\nNVIDIA announced today it is opening its first Vietnam research and development center, signaling its confidence in the country’s bright artificial intelligence future.\\n\\nRead Press Release\\n\\nDecember 05, 2024\\n\\n2025 Predictions: Enterprises, Researchers and Startups Home In on Humanoids, AI Agents as Generative AI Crosses the Chasm\\n\\nFrom boardroom to break room, generative AI took this year by storm, stirring discussion across industries about how to best harness the technology to enhance innovation and creativity, improve customer service, transform product development and ...\\n\\nRead Blog\\n\\nDecember 05, 2024\\n\\nStream ‘Indiana Jones and the Great Circle’ at Launch With RTX Power in the Cloud at up to 50% Off\\n\\nGeForce NOW is wrapping a sleigh-full of gaming gifts this month, stuffing members’ cloud gaming stockings with new titles and fresh offers to keep holiday gaming spirits merry and bright. Adventure calls and whip-cracking action awaits in the ...\\n\\nRead Blog\\n\\nDecember 04, 2024\\n\\nNVIDIA NIM on AWS Supercharges AI Inference\\n\\nGenerative AI is rapidly transforming industries, driving demand for secure, high-performance inference solutions to scale increasingly complex models efficiently and cost-effectively. Expanding its collaboration with NVIDIA, Amazon Web Services ...\\n\\nRead Blog\\n\\nDecember 03, 2024\\n\\nLatest NVIDIA AI, Robotics and Quantum Computing Software Comes to AWS\\n\\nExpanding what’s possible for developers and enterprises in the cloud, NVIDIA and Amazon Web Services are converging at AWS re:Invent in Las Vegas this week to showcase new solutions designed to accelerate AI and robotics breakthroughs and simplify ...\\n\\nRead Blog\\n\\nDecember 03, 2024\\n\\nNVIDIA Advances Physical AI With Accelerated Robotics Simulation on AWS\\n\\nField AI is building robot brains that enable robots to autonomously manage a wide range of industrial processes. Vention creates pretrained skills to ease development of robotic tasks. And Cobot offers Proxie, an AI-powered cobot designed to handle ...\\n\\nRead Blog\\n\\nDecember 03, 2024\\n\\nNew NVIDIA Certifications Expand Professionals’ Credentials in AI Infrastructure and Operations\\n\\nAs generative AI continues to grow, implementing and managing the right infrastructure becomes even more critical to ensure the secure and efficient development and deployment of AI-based solutions. To meet these needs, NVIDIA has introduced two ...\\n\\nRead Blog\\n\\nDecember 03, 2024\\n\\nHow AI Can Enhance Disability Inclusion, Special Education\\n\\nA recent survey from the Special Olympics Global Center for Inclusion in Education shows that while a majority of students with an intellectual and developmental disability (IDD) and their parents view AI as a potentially transformative technology, ...\\n\\nRead Blog\\n\\nDecember 02, 2024\\n\\nSiemens Healthineers Adopts MONAI Deploy for Medical Imaging AI\\n\\n3.6 billion. That’s about how many medical imaging tests are performed annually worldwide to diagnose, monitor and treat various conditions. Speeding up the processing and evaluation of all these X-rays, CT scans, MRIs and ultrasounds is essential ...\\n\\nRead Blog\\n\\nNovember 28, 2024\\n\\nGet the Power of GeForce-Powered Gaming in the Cloud Half Off With Black Friday Deal\\n\\nTurn Black Friday into Green Thursday with a new deal on GeForce NOW Ultimate and Performance memberships this week. For a limited time, get 50% off new Ultimate or Performance memberships for the first three months to experience the power of ...\\n\\nRead Blog\\n\\nNovember 27, 2024\\n\\nHow RTX AI PCs Unlock AI Agents That Solve Complex Problems Autonomously With Generative AI\\n\\nGenerative AI has transformed the way people bring ideas to life.\\n\\nRead Blog\\n\\nNovember 26, 2024\\n\\nTaste of Success: Zordi Plants AI and Robotics to Grow Flavorful Strawberries Indoors\\n\\nWith startup Zordi, founder Gilwoo Lee’s enthusiasm for robotics, healthy eating, better produce and sustainable farming has taken root. Lee hadn’t even finished her Ph.D. in AI and robotics at the University of Washington when investors seeded her ...\\n\\nRead Blog\\n\\nNovember 25, 2024\\n\\nWhy Workforce Development Is Key to Reaping AI Benefits\\n\\nAI is changing industries and economies worldwide. Workforce development is central to ensuring the changes benefit all of us, as Louis Stewart, head of strategic initiatives for NVIDIA’s global developer ecosystem, explains in the latest AI ...\\n\\nRead Blog\\n\\nNovember 25, 2024\\n\\nNow Hear This: World’s Most Flexible Sound Machine Debuts\\n\\nA team of generative AI researchers created a Swiss Army knife for sound, one that allows users to control the audio output simply using text. While some AI models can compose a song or modify a voice, none have the dexterity of the new offering. ...\\n\\nRead Blog\\n\\nNovember 21, 2024\\n\\nNVIDIA Announces Upcoming Events for Financial Community\\n\\nSANTA CLARA, Calif., Nov. 21, 2024 -- NVIDIA will present at the following events for the financial community: UBS Global Technology and AI Conference Tuesday, Dec. 3, 6:35 a.m. Pacific...\\n\\nRead Press Release\\n\\nNovember 21, 2024\\n\\nEfficiency Meets Personalization: How AI Agents Improve Customer Service\\n\\nEditor’s note: This post is the first in the AI On blog series, which explores the latest techniques and real-world applications of agentic AI, chatbots and copilots. The series will also highlight the NVIDIA software and hardware powering advanced ...\\n\\nRead Blog\\n\\nNovember 21, 2024\\n\\nInto the Omniverse: How Generative AI Fuels Personalized, Brand-Accurate Visuals With OpenUSD\\n\\nInteractive 3D tools built by NVIDIA Omniverse developers are helping brands deliver tailored, high-quality marketing content at scale.\\n\\nRead Blog\\n\\nNovember 21, 2024\\n\\nFirst ‘Star Wars Outlaws’ Story Pack Hits GeForce NOW\\n\\nGet ready to dive deeper into the criminal underworld of a galaxy far, far away as GeForce NOW brings the first major story pack for Star Wars Outlaws to the cloud this week. The season of giving continues — GeForce NOW members can access a new free ...\\n\\nRead Blog\\n\\nNovember 20, 2024\\n\\nNVIDIA Announces Financial Results for Third Quarter Fiscal 2025\\n\\nRecord quarterly revenue of $35.1 billion, up 17% from Q2 and up 94% from a year agoRecord quarterly Data Center revenue of $30.8 billion, up 17% from Q2 and up 112% from a year ago SANTA ...\\n\\nRead Press Release\\n\\nNovember 20, 2024\\n\\nThe Need for Speed: NVIDIA Accelerates Majority of World’s Supercomputers to Drive Advancements in Science and Technology\\n\\nStarting with the release of CUDA in 2006, NVIDIA has driven advancements in AI and accelerated computing — and the most recent TOP500 list of the world’s most powerful supercomputers highlights the culmination of the company’s achievements in the ...\\n\\nRead Blog\\n\\nNovember 19, 2024\\n\\nAI at COP29: Balancing Innovation and Sustainability\\n\\nAs COP29 attendees gather in Baku, Azerbaijan, to tackle climate change, the role AI plays in environmental sustainability is front and center. A panel hosted by Deloitte brought together industry leaders to explore ways to reduce AI’s environmental ...\\n\\nRead Blog\\n\\nNovember 19, 2024\\n\\nHow the Department of Energy’s AI Initiatives Are Transforming Science, Industry and Government\\n\\nThe U.S. Department of Energy oversees national energy policy and production. As big a job as that is, the DOE also does so much more — enough to have earned the nickname “Department of Everything.” In this episode of the NVIDIA AI Podcast, Helena ...\\n\\nRead Blog\\n\\nNovember 19, 2024\\n\\nNVIDIA and Microsoft Showcase Blackwell Preview, Omniverse Industrial AI and RTX AI PCs at Microsoft Ignite\\n\\nNVIDIA and Microsoft today unveiled product integrations designed to advance full-stack NVIDIA AI development on Microsoft platforms and applications. At Microsoft Ignite, Microsoft announced the launch of the first cloud private preview of the ...\\n\\nRead Blog\\n\\n1\\n\\n2\\n\\n3\\n\\n4\\n\\n5\\n\\n6\\n\\n... 431\\n\\nNext\\n\\nLast\\n\\nMedia Contacts\\n\\nGlobal contacts for media inquiries.\\n\\nAll Contacts\\n\\nStay Informed\\n\\nNewsroom updates delivered to your inbox.\\n\\nSubscribe\\n\\nCorporate Information\\n\\nAbout NVIDIA\\n\\nCorporate Overview\\n\\nTechnologies\\n\\nNVIDIA Research\\n\\nInvestors\\n\\nSocial Responsibility\\n\\nNVIDIA Foundation\\n\\nGet Involved\\n\\nForums\\n\\nCareers\\n\\nDeveloper Home\\n\\nJoin the Developer Program\\n\\nNVIDIA Partner Network\\n\\nNVIDIA Inception\\n\\nResources for Venture Capitalists\\n\\nVenture Capital (NVentures)\\n\\nTechnical Training\\n\\nTraining for IT Professionals\\n\\nProfessional Services for Data Science\\n\\nNews & Events\\n\\nNewsroom\\n\\nNVIDIA Blog\\n\\nNVIDIA Technical Blog\\n\\nWebinars\\n\\nStay Informed\\n\\nEvents Calendar\\n\\nNVIDIA GTC\\n\\nNVIDIA On-Demand\\n\\nSign Up for NVIDIA News\\n\\nSubscribe\\n\\nFollow NVIDIA\\n\\nUSA - United States\\n\\nPrivacy Policy\\n\\nCookie Notice\\n\\nLegal\\n\\nAccessibility\\n\\nProduct Security\\n\\nContact\\n\\nCopyright © 2024 NVIDIA Corporation'), Document(metadata={'source': 'https://indianexpress.com/about/microsoft/'}, page_content='Access Denied\\n\\nYou don\\'t have permission to access \"http://indianexpress.com/about/microsoft/\" on this server.\\n\\nReference #18.54e51cb8.1733819854.71348b86\\n\\nhttps://errors.edgesuite.net/18.54e51cb8.1733819854.71348b86')]\n"
          ]
        }
      ],
      "source": [
        "textt = data\n",
        "print(textt)"
      ]
    },
    {
      "cell_type": "code",
      "execution_count": null,
      "metadata": {
        "id": "dsjupmeQYyik"
      },
      "outputs": [],
      "source": [
        "from langchain_text_splitters import CharacterTextSplitter\n"
      ]
    },
    {
      "cell_type": "code",
      "execution_count": null,
      "metadata": {
        "colab": {
          "base_uri": "https://localhost:8080/"
        },
        "id": "Y9oxv7WNn03W",
        "outputId": "707d567e-37e8-4e1b-e227-6a5a22abe611"
      },
      "outputs": [
        {
          "output_type": "stream",
          "name": "stderr",
          "text": [
            "WARNING:langchain_text_splitters.base:Created a chunk of size 387, which is longer than the specified 200\n"
          ]
        },
        {
          "output_type": "stream",
          "name": "stdout",
          "text": [
            "['This post is the first in the AI On blog series, which explores the latest techniques and real-world applications of agentic AI, chatbots and copilots. The series will also highlight the NVIDIA software and hardware powering advanced AI agents, which form the foundation of AI query engines that gather insights and perform tasks to transform everyday experiences and reshape industries.', 'Whether it’s getting a complex service claim resolved or having a simple purchase inquiry answered, customers expect timely, accurate responses to their requests.', 'AI agents can help organizations meet this need. And they can grow in scope and scale as businesses grow, helping keep customers from taking their business elsewhere.', 'AI agents can be used as virtual assistants, which use artificial intelligence and natural language processing to handle high volumes of customer service requests. By automating routine tasks, AI agents ease the workload on human agents, allowing them to focus on tasks requi']\n"
          ]
        }
      ],
      "source": [
        "text_splitter = CharacterTextSplitter(\n",
        "    separator = \"\\n\",\n",
        "    chunk_size = 200,\n",
        "    chunk_overlap = 0\n",
        ")\n",
        "chunks = text_splitter.split_text(text)\n",
        "print(chunks)"
      ]
    },
    {
      "cell_type": "code",
      "execution_count": null,
      "metadata": {
        "colab": {
          "base_uri": "https://localhost:8080/"
        },
        "id": "qTZhIRAxyEJ5",
        "outputId": "87630ac8-5316-428c-80f6-f0bee8aa5ff5"
      },
      "outputs": [
        {
          "output_type": "execute_result",
          "data": {
            "text/plain": [
              "4"
            ]
          },
          "metadata": {},
          "execution_count": 18
        }
      ],
      "source": [
        "len(chunks)"
      ]
    },
    {
      "cell_type": "code",
      "execution_count": null,
      "metadata": {
        "colab": {
          "base_uri": "https://localhost:8080/"
        },
        "id": "fGhq2FCXyYGX",
        "outputId": "e17d48bf-2d16-4038-b79a-410f253571a4"
      },
      "outputs": [
        {
          "output_type": "stream",
          "name": "stdout",
          "text": [
            "387\n",
            "162\n",
            "166\n",
            "275\n"
          ]
        }
      ],
      "source": [
        "for chunk in chunks :\n",
        "   print(len(chunk))"
      ]
    },
    {
      "cell_type": "code",
      "execution_count": null,
      "metadata": {
        "id": "uJte33-Ayrzk"
      },
      "outputs": [],
      "source": [
        "from langchain_text_splitters import RecursiveCharacterTextSplitter"
      ]
    },
    {
      "cell_type": "code",
      "execution_count": null,
      "metadata": {
        "colab": {
          "base_uri": "https://localhost:8080/"
        },
        "id": "uXGCh4my1rxv",
        "outputId": "c0962d57-a10a-4a47-b24e-f4eaf59503b8"
      },
      "outputs": [
        {
          "output_type": "stream",
          "name": "stdout",
          "text": [
            "['This post is the first in the AI On blog series, which explores the latest techniques and real-world', 'applications of agentic AI, chatbots and copilots. The series will also highlight the NVIDIA', 'software and hardware powering advanced AI agents, which form the foundation of AI query engines', 'that gather insights and perform tasks to transform everyday experiences and reshape industries.', 'Whether it’s getting a complex service claim resolved or having a simple purchase inquiry answered,', 'customers expect timely, accurate responses to their requests.', 'AI agents can help organizations meet this need. And they can grow in scope and scale as businesses', 'grow, helping keep customers from taking their business elsewhere.', 'AI agents can be used as virtual assistants, which use artificial intelligence and natural language', 'processing to handle high volumes of customer service requests. By automating routine tasks, AI', 'agents ease the workload on human agents, allowing them to focus on tasks requi']\n"
          ]
        }
      ],
      "source": [
        "t_splitter = RecursiveCharacterTextSplitter(\n",
        "    separators = [\"\\n\\n\",\"\\n\",\" \"],\n",
        "    chunk_size = 100,\n",
        "    chunk_overlap = 0\n",
        ")\n",
        "chunks = t_splitter.split_text(text)\n",
        "print(chunks)"
      ]
    },
    {
      "cell_type": "code",
      "execution_count": null,
      "metadata": {
        "colab": {
          "base_uri": "https://localhost:8080/"
        },
        "id": "MoVJhxdz2n9e",
        "outputId": "d9a70eb7-5dfe-4da7-e05d-4aa859fab38e"
      },
      "outputs": [
        {
          "output_type": "execute_result",
          "data": {
            "text/plain": [
              "11"
            ]
          },
          "metadata": {},
          "execution_count": 22
        }
      ],
      "source": [
        "len(chunks)"
      ]
    },
    {
      "cell_type": "code",
      "execution_count": null,
      "metadata": {
        "colab": {
          "base_uri": "https://localhost:8080/"
        },
        "id": "ARK81LAF2ram",
        "outputId": "8f2df09e-263e-4ab6-e284-3bc2c47ffe19"
      },
      "outputs": [
        {
          "output_type": "stream",
          "name": "stdout",
          "text": [
            "100\n",
            "92\n",
            "96\n",
            "96\n",
            "99\n",
            "62\n",
            "99\n",
            "66\n",
            "99\n",
            "95\n",
            "79\n"
          ]
        }
      ],
      "source": [
        "for chunk in chunks :\n",
        "  print (len(chunk))"
      ]
    },
    {
      "cell_type": "code",
      "execution_count": null,
      "metadata": {
        "colab": {
          "base_uri": "https://localhost:8080/"
        },
        "collapsed": true,
        "id": "u1osx64x2-cH",
        "outputId": "f60ab0a2-dc98-45b9-c08e-1b9236179d83"
      },
      "outputs": [
        {
          "output_type": "stream",
          "name": "stdout",
          "text": [
            "387\n",
            "162\n",
            "166\n",
            "275\n"
          ]
        }
      ],
      "source": [
        "chunks = text.split(\"\\n\\n\")\n",
        "for chunk in chunks :\n",
        "  print(len(chunk))"
      ]
    },
    {
      "cell_type": "code",
      "execution_count": null,
      "metadata": {
        "colab": {
          "base_uri": "https://localhost:8080/"
        },
        "id": "HocPjsP84T6i",
        "outputId": "6a310af8-5984-4f29-e459-b564592c28ee"
      },
      "outputs": [
        {
          "output_type": "stream",
          "name": "stdout",
          "text": [
            "387\n"
          ]
        }
      ],
      "source": [
        "first_split = chunks[0]\n",
        "print(len(first_split))"
      ]
    },
    {
      "cell_type": "code",
      "execution_count": null,
      "metadata": {
        "colab": {
          "base_uri": "https://localhost:8080/"
        },
        "id": "ofyagNMJ6jhO",
        "outputId": "5845450c-f64d-4d7f-e2f1-7341e53fa0dc"
      },
      "outputs": [
        {
          "output_type": "stream",
          "name": "stdout",
          "text": [
            "['This post is the first in the AI On blog series, which explores the latest techniques and real-world applications of agentic AI, chatbots and copilots. The series will also highlight the NVIDIA software and hardware powering advanced AI agents, which form the foundation of AI query engines that gather insights and perform tasks to transform everyday experiences and reshape industries.']\n",
            "This post is the first in the AI On blog series, which explores the latest techniques and real-world applications of agentic AI, chatbots and copilots. The series will also highlight the NVIDIA software and hardware powering advanced AI agents, which form the foundation of AI query engines that gather insights and perform tasks to transform everyday experiences and reshape industries.\n"
          ]
        }
      ],
      "source": [
        "second_split = first_split.split(\"\\n\")\n",
        "print(second_split)\n",
        "print(second_split[0])"
      ]
    },
    {
      "cell_type": "code",
      "execution_count": null,
      "metadata": {
        "colab": {
          "base_uri": "https://localhost:8080/"
        },
        "id": "b0bb66k37RDc",
        "outputId": "672619e1-35eb-41a7-e0fd-8df82bc90eee"
      },
      "outputs": [
        {
          "output_type": "stream",
          "name": "stdout",
          "text": [
            "['This', 'post', 'is', 'the', 'first', 'in', 'the', 'AI', 'On', 'blog', 'series,', 'which', 'explores', 'the', 'latest', 'techniques', 'and', 'real-world', 'applications', 'of', 'agentic', 'AI,', 'chatbots', 'and', 'copilots.', 'The', 'series', 'will', 'also', 'highlight', 'the', 'NVIDIA', 'software', 'and', 'hardware', 'powering', 'advanced', 'AI', 'agents,', 'which', 'form', 'the', 'foundation', 'of', 'AI', 'query', 'engines', 'that', 'gather', 'insights', 'and', 'perform', 'tasks', 'to', 'transform', 'everyday', 'experiences', 'and', 'reshape', 'industries.']\n"
          ]
        },
        {
          "output_type": "execute_result",
          "data": {
            "text/plain": [
              "60"
            ]
          },
          "metadata": {},
          "execution_count": 27
        }
      ],
      "source": [
        "third_split = second_split[0].split(\" \")\n",
        "print(third_split)\n",
        "len(third_split)"
      ]
    },
    {
      "cell_type": "code",
      "execution_count": null,
      "metadata": {
        "colab": {
          "base_uri": "https://localhost:8080/"
        },
        "id": "umM_Mv7b8biM",
        "outputId": "65a2bb00-65bf-46c8-ac44-25139ddc95f2"
      },
      "outputs": [
        {
          "output_type": "stream",
          "name": "stdout",
          "text": [
            "Collecting faiss-cpu\n",
            "  Downloading faiss_cpu-1.9.0.post1-cp310-cp310-manylinux_2_17_x86_64.manylinux2014_x86_64.whl.metadata (4.4 kB)\n",
            "Requirement already satisfied: sentence-transformers in /usr/local/lib/python3.10/dist-packages (3.2.1)\n",
            "Requirement already satisfied: numpy<3.0,>=1.25.0 in /usr/local/lib/python3.10/dist-packages (from faiss-cpu) (1.26.4)\n",
            "Requirement already satisfied: packaging in /usr/local/lib/python3.10/dist-packages (from faiss-cpu) (24.2)\n",
            "Requirement already satisfied: transformers<5.0.0,>=4.41.0 in /usr/local/lib/python3.10/dist-packages (from sentence-transformers) (4.46.3)\n",
            "Requirement already satisfied: tqdm in /usr/local/lib/python3.10/dist-packages (from sentence-transformers) (4.66.6)\n",
            "Requirement already satisfied: torch>=1.11.0 in /usr/local/lib/python3.10/dist-packages (from sentence-transformers) (2.5.1+cu121)\n",
            "Requirement already satisfied: scikit-learn in /usr/local/lib/python3.10/dist-packages (from sentence-transformers) (1.5.2)\n",
            "Requirement already satisfied: scipy in /usr/local/lib/python3.10/dist-packages (from sentence-transformers) (1.13.1)\n",
            "Requirement already satisfied: huggingface-hub>=0.20.0 in /usr/local/lib/python3.10/dist-packages (from sentence-transformers) (0.26.3)\n",
            "Requirement already satisfied: Pillow in /usr/local/lib/python3.10/dist-packages (from sentence-transformers) (11.0.0)\n",
            "Requirement already satisfied: filelock in /usr/local/lib/python3.10/dist-packages (from huggingface-hub>=0.20.0->sentence-transformers) (3.16.1)\n",
            "Requirement already satisfied: fsspec>=2023.5.0 in /usr/local/lib/python3.10/dist-packages (from huggingface-hub>=0.20.0->sentence-transformers) (2024.10.0)\n",
            "Requirement already satisfied: pyyaml>=5.1 in /usr/local/lib/python3.10/dist-packages (from huggingface-hub>=0.20.0->sentence-transformers) (6.0.2)\n",
            "Requirement already satisfied: requests in /usr/local/lib/python3.10/dist-packages (from huggingface-hub>=0.20.0->sentence-transformers) (2.32.3)\n",
            "Requirement already satisfied: typing-extensions>=3.7.4.3 in /usr/local/lib/python3.10/dist-packages (from huggingface-hub>=0.20.0->sentence-transformers) (4.12.2)\n",
            "Requirement already satisfied: networkx in /usr/local/lib/python3.10/dist-packages (from torch>=1.11.0->sentence-transformers) (3.4.2)\n",
            "Requirement already satisfied: jinja2 in /usr/local/lib/python3.10/dist-packages (from torch>=1.11.0->sentence-transformers) (3.1.4)\n",
            "Requirement already satisfied: sympy==1.13.1 in /usr/local/lib/python3.10/dist-packages (from torch>=1.11.0->sentence-transformers) (1.13.1)\n",
            "Requirement already satisfied: mpmath<1.4,>=1.1.0 in /usr/local/lib/python3.10/dist-packages (from sympy==1.13.1->torch>=1.11.0->sentence-transformers) (1.3.0)\n",
            "Requirement already satisfied: regex!=2019.12.17 in /usr/local/lib/python3.10/dist-packages (from transformers<5.0.0,>=4.41.0->sentence-transformers) (2024.9.11)\n",
            "Requirement already satisfied: tokenizers<0.21,>=0.20 in /usr/local/lib/python3.10/dist-packages (from transformers<5.0.0,>=4.41.0->sentence-transformers) (0.20.3)\n",
            "Requirement already satisfied: safetensors>=0.4.1 in /usr/local/lib/python3.10/dist-packages (from transformers<5.0.0,>=4.41.0->sentence-transformers) (0.4.5)\n",
            "Requirement already satisfied: joblib>=1.2.0 in /usr/local/lib/python3.10/dist-packages (from scikit-learn->sentence-transformers) (1.4.2)\n",
            "Requirement already satisfied: threadpoolctl>=3.1.0 in /usr/local/lib/python3.10/dist-packages (from scikit-learn->sentence-transformers) (3.5.0)\n",
            "Requirement already satisfied: MarkupSafe>=2.0 in /usr/local/lib/python3.10/dist-packages (from jinja2->torch>=1.11.0->sentence-transformers) (3.0.2)\n",
            "Requirement already satisfied: charset-normalizer<4,>=2 in /usr/local/lib/python3.10/dist-packages (from requests->huggingface-hub>=0.20.0->sentence-transformers) (3.4.0)\n",
            "Requirement already satisfied: idna<4,>=2.5 in /usr/local/lib/python3.10/dist-packages (from requests->huggingface-hub>=0.20.0->sentence-transformers) (3.10)\n",
            "Requirement already satisfied: urllib3<3,>=1.21.1 in /usr/local/lib/python3.10/dist-packages (from requests->huggingface-hub>=0.20.0->sentence-transformers) (2.2.3)\n",
            "Requirement already satisfied: certifi>=2017.4.17 in /usr/local/lib/python3.10/dist-packages (from requests->huggingface-hub>=0.20.0->sentence-transformers) (2024.8.30)\n",
            "Downloading faiss_cpu-1.9.0.post1-cp310-cp310-manylinux_2_17_x86_64.manylinux2014_x86_64.whl (27.5 MB)\n",
            "\u001b[2K   \u001b[90m━━━━━━━━━━━━━━━━━━━━━━━━━━━━━━━━━━━━━━━━\u001b[0m \u001b[32m27.5/27.5 MB\u001b[0m \u001b[31m44.6 MB/s\u001b[0m eta \u001b[36m0:00:00\u001b[0m\n",
            "\u001b[?25hInstalling collected packages: faiss-cpu\n",
            "Successfully installed faiss-cpu-1.9.0.post1\n"
          ]
        }
      ],
      "source": [
        "%pip install faiss-cpu sentence-transformers"
      ]
    },
    {
      "cell_type": "code",
      "execution_count": null,
      "metadata": {
        "colab": {
          "base_uri": "https://localhost:8080/"
        },
        "id": "tp0P0ATB_RI-",
        "outputId": "2acc7f45-4d90-4a8b-e04c-14b1f6cb9d2d"
      },
      "outputs": [
        {
          "output_type": "stream",
          "name": "stdout",
          "text": [
            "                                                text category\n",
            "0      Meditation and yoga can improve mental health   Health\n",
            "1  Fruits, whole grains and vegetables helps cont...   Health\n",
            "2  These are the latest fashion trends for this week  Fashion\n",
            "3  Vibrant color jeans for male are becoming a trend  Fashion\n",
            "4                 The concert starts at 7 PM tonight    Event\n",
            "5  Navaratri dandiya program at Expo center in Mu...    Event\n",
            "6  Exciting vacation destinations for your next trip   Travel\n",
            "7  Maldives and Srilanka are gaining popularity i...   Travel\n"
          ]
        }
      ],
      "source": [
        "import pandas as pd\n",
        "data = pd.read_csv(\"/content/sample_text.csv\")\n",
        "print(data)"
      ]
    },
    {
      "cell_type": "code",
      "execution_count": null,
      "metadata": {
        "colab": {
          "base_uri": "https://localhost:8080/"
        },
        "id": "ZjFUYY8JAfeb",
        "outputId": "dc26b020-9f73-4eff-af7a-fad8eee62a56"
      },
      "outputs": [
        {
          "output_type": "execute_result",
          "data": {
            "text/plain": [
              "(8, 2)"
            ]
          },
          "metadata": {},
          "execution_count": 30
        }
      ],
      "source": [
        "data.shape"
      ]
    },
    {
      "cell_type": "code",
      "execution_count": null,
      "metadata": {
        "colab": {
          "base_uri": "https://localhost:8080/",
          "height": 545,
          "referenced_widgets": [
            "486d98d935fa4a94bd7b5327a64949a4",
            "791f2336db5c4481a71af4abd7b1300d",
            "ca2a9db2755846a0b959c4f0bdb7ed51",
            "35eecd6d2cab49f0b856df6fa1eae728",
            "682fa33ad61f42cf9cb94546d5bfe349",
            "c0afc68c656b43e2a528dc5f474b0c89",
            "d5167f3a1cfd447ea8731b19892e4aef",
            "dab0367e614c458d8440f95f752134fe",
            "fcc178156a074cc2b5075ba6a9851ee8",
            "e5df1f418e384023baa020ab543b9a3a",
            "238ae3a12dbb4bd4b77efcace6b75847",
            "b102758ad4154bd59e10285a908f8da5",
            "81e9e41890564b5d90353e864e9c3ccc",
            "7fe47150093647cea6923d655009a737",
            "f84ee4ffe4204c6a96596a5106ec023a",
            "ba539c4be32a4570b08f763f7b0e9e83",
            "48e013c6a10f477fa3d7f8ca48d30e3d",
            "e7901d300db143c5afd0f6d9fde615d7",
            "a824c921ff1b4e3d89d052eba18b5ca3",
            "913271be4ac348aa879a525668a7ea7b",
            "d308dc81ac8049b98e19d18babe0ca43",
            "53d5cafe492d436db351a45e7bc832aa",
            "20d0dad4d0a442f08edbe8898907713b",
            "c5170280a7eb481999bbc8cbc724aae2",
            "ce0cd0bc410240ef89523700560ec7be",
            "973a481df4754cd599556bbe19026675",
            "e66080f7d0d24c109d6075b691c4d9d9",
            "6987bf0bf1934b0b8a6b0a812e8b44f7",
            "ab79539c452345aab8a65ae947fb0a53",
            "afe3343b328f4b50b6db973f91d8684f",
            "e9e97495b6a4497186366059142105f5",
            "54f9a3c8441141fdb5f1132cf418498e",
            "4affd4780cf545f6aa1e9bf07c63c845",
            "c098288ea1f644e0a955a49fb372eafd",
            "5cb4c1aa8a3446738f2c93d511f3ca39",
            "e1f5b980525f4865b3a804ac2c3df991",
            "8157d55f5a0e4ba7819e5541d0f93428",
            "de885e7507454084afea98741aa485d4",
            "eb695d2772104964a064d87e11f42e96",
            "9817b08b700b409f867af72e40f9db01",
            "a7a350a814fd41aa967c27c23de763c0",
            "2c2aa8dc79df4319bf45c5eeba80b38c",
            "5ff6a39a86c545f9ac7ad7a086af7ffe",
            "56377f56d3134496beef2bb9c01762a7",
            "9f272db94ec0476b98c2ab2f94fcd1a7",
            "c0302579dd40458f9b8958e2e0671ab3",
            "29db3c9164a141a0a0f12ab052470eff",
            "d60b94de64514c50803c371cede302a7",
            "358ba68aa35c416d8dcccfabf8d4e8ee",
            "362ec1685aba41ab8fed556f2596feeb",
            "a9b04d57a90d480a93bddc108a8f2923",
            "004e6a4daf474ecebf37682635d52067",
            "be411211d9474531832edaec0b2adac8",
            "5989edb9f3214399b273e54c086283a8",
            "c4f8071d5a954b308e6add370faaec7c",
            "2138cee02f044357bfc10f392aae7c1f",
            "f7da411a71da4c88940f2db87b7a4e4d",
            "f3d2abf87b41410d961bbb51545c57bf",
            "a2356e88a39c4e6899a67e5e5c913e77",
            "c064a44e14a141f6beda412583ff0db7",
            "516deaccecab4bde80f5a0778c37b0b3",
            "76ff425616b94629ba2b617fc835156e",
            "f46a767ca19c43d19e3e9d773e26291a",
            "3e0fd5b52ff94d759fdb14e7eda63d6f",
            "69d1b9ede6714783b107fd15bfa7658c",
            "665fc59f3a0b4ef8bef7ab3da4f237d6",
            "8be22fce9e98473999a7ea78293e67ed",
            "1a982f3ef3cc4ce7a84a35410a2a079f",
            "5fb8c4b123874361b2c4b553e0379647",
            "51adb453ba3f45b9805dd7d82e90e83e",
            "282912e9c6e04a49a03ddcbe4017476d",
            "e1d5a4d2cfce46468830ddd5f85e1938",
            "a49f675557294ed49fbc5dc5aa2ec9af",
            "5964b6c49e4f4b9491fa3de06dcaafef",
            "e90b54dee4f34b8f8df210e03170c483",
            "2022615d33d14f51a6227018b17a62f5",
            "2fd213fbd83f41fdad9d68cf1f15eea9",
            "6ed6e920dea64331bd31e1a02d2168ec",
            "9d12f71184854a949b8ad32d65831b52",
            "abd37a70eefd4e12a8106ede66bdce93",
            "1051a6e46a11422195c1b86659b4a483",
            "c310c6a5aa5346b2b5656049d022aac0",
            "f7357f61987f41afae7cd84b1601d0d6",
            "a2272037113c47a09a23dbd769429af3",
            "ac54de11dfb543e5afe0f856a270a72a",
            "5981dfce2d43426aa5d9bf81804ce6a5",
            "1bd34a4653fa4a4fa00743bf0e76e508",
            "fc0b57db747342b18dfd35718382cd83",
            "42f37b403488410cbc74d4624291c2a1",
            "e2e17e442c3e4246a7cafa3115fff192",
            "e025683af65a45f9ab07995c12badc25",
            "7c724fb874854286ba6c8b752d6a458e",
            "4533fa4ba9b54b2d9cd3f70a101d590a",
            "702af5acda65458c8b76436984171bd0",
            "dc7797dcc203450abebf9b799a2c2715",
            "b9787eb450064a43a3a167561a98a3f0",
            "c4fe6d1c767b41bea3c25664423610b0",
            "2338e20fbf5e47f893a3064c702ce09f",
            "e2c479bbbe924244b81755dfcf81c107",
            "754170ac77f040408f86b2df7696f4b6",
            "2543e8f7ac2a4dca96b12295f3b3174f",
            "5d35637852ab497ab01fe44a0d5fab64",
            "583acbcf2f0c41c7a80af69e91899cd3",
            "25f240dae8804d0683cc10887739bf0b",
            "eb54a3bc1b3a41958e1fc509bb97b388",
            "c89af08e6d004d1fb06388285f07e008",
            "f23086f180044a91ba0a7cd730fe1935",
            "6f96a9ba436f4aeb9fd4c42c0e8451c9",
            "b8f708b6df46469db7945cb23a485beb",
            "e088874dd9ce45b494b071ec4bbb782e",
            "f12423a093ce4d2fb4b53b8b510c8880",
            "1d50ea41e3594141a346bfa4ffca1af1",
            "70bf60746b6042ec9819b2134ad5a175",
            "86c39c0a73b247ae8099dc17a430403a",
            "88b633563cd54c5f9fb607eb8f252979",
            "ea15c2d5576a45c0aef6aea4a8988a85",
            "3d9e634617ea4a999255da469f790a9c",
            "26553e08158d469fa4f7472103eda218",
            "d2245f9d489c45bea3033abfb671e9c5",
            "dfb40530be0147e1a8fb032a2d11b8d3",
            "ce6cf50c50c34722a902a2277c275354"
          ]
        },
        "id": "Rd04_V9MAiYo",
        "outputId": "b68eda41-ef2f-48ba-8d3e-8d528373a869"
      },
      "outputs": [
        {
          "output_type": "stream",
          "name": "stderr",
          "text": [
            "/usr/local/lib/python3.10/dist-packages/sentence_transformers/cross_encoder/CrossEncoder.py:13: TqdmExperimentalWarning: Using `tqdm.autonotebook.tqdm` in notebook mode. Use `tqdm.tqdm` instead to force console mode (e.g. in jupyter console)\n",
            "  from tqdm.autonotebook import tqdm, trange\n",
            "/usr/local/lib/python3.10/dist-packages/huggingface_hub/utils/_auth.py:94: UserWarning: \n",
            "The secret `HF_TOKEN` does not exist in your Colab secrets.\n",
            "To authenticate with the Hugging Face Hub, create a token in your settings tab (https://huggingface.co/settings/tokens), set it as secret in your Google Colab and restart your session.\n",
            "You will be able to reuse this secret in all of your notebooks.\n",
            "Please note that authentication is recommended but still optional to access public models or datasets.\n",
            "  warnings.warn(\n"
          ]
        },
        {
          "output_type": "display_data",
          "data": {
            "text/plain": [
              "modules.json:   0%|          | 0.00/229 [00:00<?, ?B/s]"
            ],
            "application/vnd.jupyter.widget-view+json": {
              "version_major": 2,
              "version_minor": 0,
              "model_id": "486d98d935fa4a94bd7b5327a64949a4"
            }
          },
          "metadata": {}
        },
        {
          "output_type": "display_data",
          "data": {
            "text/plain": [
              "config_sentence_transformers.json:   0%|          | 0.00/122 [00:00<?, ?B/s]"
            ],
            "application/vnd.jupyter.widget-view+json": {
              "version_major": 2,
              "version_minor": 0,
              "model_id": "b102758ad4154bd59e10285a908f8da5"
            }
          },
          "metadata": {}
        },
        {
          "output_type": "display_data",
          "data": {
            "text/plain": [
              "README.md:   0%|          | 0.00/3.73k [00:00<?, ?B/s]"
            ],
            "application/vnd.jupyter.widget-view+json": {
              "version_major": 2,
              "version_minor": 0,
              "model_id": "20d0dad4d0a442f08edbe8898907713b"
            }
          },
          "metadata": {}
        },
        {
          "output_type": "display_data",
          "data": {
            "text/plain": [
              "sentence_bert_config.json:   0%|          | 0.00/53.0 [00:00<?, ?B/s]"
            ],
            "application/vnd.jupyter.widget-view+json": {
              "version_major": 2,
              "version_minor": 0,
              "model_id": "c098288ea1f644e0a955a49fb372eafd"
            }
          },
          "metadata": {}
        },
        {
          "output_type": "display_data",
          "data": {
            "text/plain": [
              "config.json:   0%|          | 0.00/629 [00:00<?, ?B/s]"
            ],
            "application/vnd.jupyter.widget-view+json": {
              "version_major": 2,
              "version_minor": 0,
              "model_id": "9f272db94ec0476b98c2ab2f94fcd1a7"
            }
          },
          "metadata": {}
        },
        {
          "output_type": "display_data",
          "data": {
            "text/plain": [
              "model.safetensors:   0%|          | 0.00/90.9M [00:00<?, ?B/s]"
            ],
            "application/vnd.jupyter.widget-view+json": {
              "version_major": 2,
              "version_minor": 0,
              "model_id": "2138cee02f044357bfc10f392aae7c1f"
            }
          },
          "metadata": {}
        },
        {
          "output_type": "display_data",
          "data": {
            "text/plain": [
              "tokenizer_config.json:   0%|          | 0.00/314 [00:00<?, ?B/s]"
            ],
            "application/vnd.jupyter.widget-view+json": {
              "version_major": 2,
              "version_minor": 0,
              "model_id": "8be22fce9e98473999a7ea78293e67ed"
            }
          },
          "metadata": {}
        },
        {
          "output_type": "display_data",
          "data": {
            "text/plain": [
              "vocab.txt:   0%|          | 0.00/232k [00:00<?, ?B/s]"
            ],
            "application/vnd.jupyter.widget-view+json": {
              "version_major": 2,
              "version_minor": 0,
              "model_id": "6ed6e920dea64331bd31e1a02d2168ec"
            }
          },
          "metadata": {}
        },
        {
          "output_type": "display_data",
          "data": {
            "text/plain": [
              "tokenizer.json:   0%|          | 0.00/466k [00:00<?, ?B/s]"
            ],
            "application/vnd.jupyter.widget-view+json": {
              "version_major": 2,
              "version_minor": 0,
              "model_id": "42f37b403488410cbc74d4624291c2a1"
            }
          },
          "metadata": {}
        },
        {
          "output_type": "display_data",
          "data": {
            "text/plain": [
              "special_tokens_map.json:   0%|          | 0.00/112 [00:00<?, ?B/s]"
            ],
            "application/vnd.jupyter.widget-view+json": {
              "version_major": 2,
              "version_minor": 0,
              "model_id": "754170ac77f040408f86b2df7696f4b6"
            }
          },
          "metadata": {}
        },
        {
          "output_type": "display_data",
          "data": {
            "text/plain": [
              "1_Pooling/config.json:   0%|          | 0.00/190 [00:00<?, ?B/s]"
            ],
            "application/vnd.jupyter.widget-view+json": {
              "version_major": 2,
              "version_minor": 0,
              "model_id": "f12423a093ce4d2fb4b53b8b510c8880"
            }
          },
          "metadata": {}
        },
        {
          "output_type": "stream",
          "name": "stdout",
          "text": [
            "(8, 384)\n"
          ]
        }
      ],
      "source": [
        "from sentence_transformers import SentenceTransformer\n",
        "model = SentenceTransformer(\"paraphrase-MiniLM-L6-v2\")\n",
        "embedding = model.encode(data.text)\n",
        "print(embedding.shape)"
      ]
    },
    {
      "cell_type": "code",
      "execution_count": null,
      "metadata": {
        "collapsed": true,
        "id": "kZVyNyxGBuGG"
      },
      "outputs": [],
      "source": [
        "dim = embedding.shape[1]"
      ]
    },
    {
      "cell_type": "code",
      "execution_count": null,
      "metadata": {
        "colab": {
          "base_uri": "https://localhost:8080/"
        },
        "id": "7_qH9igIDGaF",
        "outputId": "bf22b995-6a19-4e2e-dca7-314a12ef5fb3"
      },
      "outputs": [
        {
          "output_type": "execute_result",
          "data": {
            "text/plain": [
              "<faiss.swigfaiss_avx512.IndexFlatL2; proxy of <Swig Object of type 'faiss::IndexFlatL2 *' at 0x782102469ad0> >"
            ]
          },
          "metadata": {},
          "execution_count": 33
        }
      ],
      "source": [
        "import faiss\n",
        "index = faiss.IndexFlatL2(dim)\n",
        "index"
      ]
    },
    {
      "cell_type": "code",
      "execution_count": null,
      "metadata": {
        "id": "QmMwxtqhFrH5"
      },
      "outputs": [],
      "source": [
        "index.add(embedding)"
      ]
    },
    {
      "cell_type": "code",
      "execution_count": null,
      "metadata": {
        "colab": {
          "base_uri": "https://localhost:8080/"
        },
        "id": "p0ktQFxeFzMO",
        "outputId": "77ce57a8-a648-44f0-8860-f2c5a9afc25a"
      },
      "outputs": [
        {
          "output_type": "stream",
          "name": "stdout",
          "text": [
            "(384,)\n"
          ]
        }
      ],
      "source": [
        "query = \"I want to buy a polo brand shirt\"\n",
        "query_vector = model.encode(query)\n",
        "print(query_vector.shape)"
      ]
    },
    {
      "cell_type": "code",
      "execution_count": null,
      "metadata": {
        "colab": {
          "base_uri": "https://localhost:8080/"
        },
        "id": "YceSwWhxHF5w",
        "outputId": "8a865840-1606-4c93-c074-dda4f32bf6e0"
      },
      "outputs": [
        {
          "output_type": "stream",
          "name": "stdout",
          "text": [
            "Requirement already satisfied: numpy in /usr/local/lib/python3.10/dist-packages (1.26.4)\n"
          ]
        }
      ],
      "source": [
        "%pip install numpy"
      ]
    },
    {
      "cell_type": "code",
      "execution_count": null,
      "metadata": {
        "colab": {
          "base_uri": "https://localhost:8080/"
        },
        "id": "6TWf0dNpGeGQ",
        "outputId": "b7a69294-4e93-47dd-a17c-2ea569a7570e"
      },
      "outputs": [
        {
          "output_type": "execute_result",
          "data": {
            "text/plain": [
              "(1, 384)"
            ]
          },
          "metadata": {},
          "execution_count": 37
        }
      ],
      "source": [
        "import numpy as np\n",
        "svec = np.array(query_vector).reshape(1,-1)\n",
        "svec.shape"
      ]
    },
    {
      "cell_type": "code",
      "execution_count": null,
      "metadata": {
        "colab": {
          "base_uri": "https://localhost:8080/"
        },
        "id": "FFdAVRCOHVw5",
        "outputId": "d277769f-86de-423d-b1cc-8e3c44b845cf"
      },
      "outputs": [
        {
          "output_type": "execute_result",
          "data": {
            "text/plain": [
              "array([[2, 3]])"
            ]
          },
          "metadata": {},
          "execution_count": 38
        }
      ],
      "source": [
        "Distance,I = index.search(svec,k=2)\n",
        "I"
      ]
    },
    {
      "cell_type": "code",
      "execution_count": null,
      "metadata": {
        "colab": {
          "base_uri": "https://localhost:8080/",
          "height": 112
        },
        "id": "6o2Bwq7jIYCT",
        "outputId": "aff03158-f7ea-49b6-8eb9-f92592c2dfdf"
      },
      "outputs": [
        {
          "output_type": "execute_result",
          "data": {
            "text/plain": [
              "                                                text category\n",
              "2  These are the latest fashion trends for this week  Fashion\n",
              "3  Vibrant color jeans for male are becoming a trend  Fashion"
            ],
            "text/html": [
              "\n",
              "  <div id=\"df-04b839c1-a867-4c56-8784-f9c55c592bb0\" class=\"colab-df-container\">\n",
              "    <div>\n",
              "<style scoped>\n",
              "    .dataframe tbody tr th:only-of-type {\n",
              "        vertical-align: middle;\n",
              "    }\n",
              "\n",
              "    .dataframe tbody tr th {\n",
              "        vertical-align: top;\n",
              "    }\n",
              "\n",
              "    .dataframe thead th {\n",
              "        text-align: right;\n",
              "    }\n",
              "</style>\n",
              "<table border=\"1\" class=\"dataframe\">\n",
              "  <thead>\n",
              "    <tr style=\"text-align: right;\">\n",
              "      <th></th>\n",
              "      <th>text</th>\n",
              "      <th>category</th>\n",
              "    </tr>\n",
              "  </thead>\n",
              "  <tbody>\n",
              "    <tr>\n",
              "      <th>2</th>\n",
              "      <td>These are the latest fashion trends for this week</td>\n",
              "      <td>Fashion</td>\n",
              "    </tr>\n",
              "    <tr>\n",
              "      <th>3</th>\n",
              "      <td>Vibrant color jeans for male are becoming a trend</td>\n",
              "      <td>Fashion</td>\n",
              "    </tr>\n",
              "  </tbody>\n",
              "</table>\n",
              "</div>\n",
              "    <div class=\"colab-df-buttons\">\n",
              "\n",
              "  <div class=\"colab-df-container\">\n",
              "    <button class=\"colab-df-convert\" onclick=\"convertToInteractive('df-04b839c1-a867-4c56-8784-f9c55c592bb0')\"\n",
              "            title=\"Convert this dataframe to an interactive table.\"\n",
              "            style=\"display:none;\">\n",
              "\n",
              "  <svg xmlns=\"http://www.w3.org/2000/svg\" height=\"24px\" viewBox=\"0 -960 960 960\">\n",
              "    <path d=\"M120-120v-720h720v720H120Zm60-500h600v-160H180v160Zm220 220h160v-160H400v160Zm0 220h160v-160H400v160ZM180-400h160v-160H180v160Zm440 0h160v-160H620v160ZM180-180h160v-160H180v160Zm440 0h160v-160H620v160Z\"/>\n",
              "  </svg>\n",
              "    </button>\n",
              "\n",
              "  <style>\n",
              "    .colab-df-container {\n",
              "      display:flex;\n",
              "      gap: 12px;\n",
              "    }\n",
              "\n",
              "    .colab-df-convert {\n",
              "      background-color: #E8F0FE;\n",
              "      border: none;\n",
              "      border-radius: 50%;\n",
              "      cursor: pointer;\n",
              "      display: none;\n",
              "      fill: #1967D2;\n",
              "      height: 32px;\n",
              "      padding: 0 0 0 0;\n",
              "      width: 32px;\n",
              "    }\n",
              "\n",
              "    .colab-df-convert:hover {\n",
              "      background-color: #E2EBFA;\n",
              "      box-shadow: 0px 1px 2px rgba(60, 64, 67, 0.3), 0px 1px 3px 1px rgba(60, 64, 67, 0.15);\n",
              "      fill: #174EA6;\n",
              "    }\n",
              "\n",
              "    .colab-df-buttons div {\n",
              "      margin-bottom: 4px;\n",
              "    }\n",
              "\n",
              "    [theme=dark] .colab-df-convert {\n",
              "      background-color: #3B4455;\n",
              "      fill: #D2E3FC;\n",
              "    }\n",
              "\n",
              "    [theme=dark] .colab-df-convert:hover {\n",
              "      background-color: #434B5C;\n",
              "      box-shadow: 0px 1px 3px 1px rgba(0, 0, 0, 0.15);\n",
              "      filter: drop-shadow(0px 1px 2px rgba(0, 0, 0, 0.3));\n",
              "      fill: #FFFFFF;\n",
              "    }\n",
              "  </style>\n",
              "\n",
              "    <script>\n",
              "      const buttonEl =\n",
              "        document.querySelector('#df-04b839c1-a867-4c56-8784-f9c55c592bb0 button.colab-df-convert');\n",
              "      buttonEl.style.display =\n",
              "        google.colab.kernel.accessAllowed ? 'block' : 'none';\n",
              "\n",
              "      async function convertToInteractive(key) {\n",
              "        const element = document.querySelector('#df-04b839c1-a867-4c56-8784-f9c55c592bb0');\n",
              "        const dataTable =\n",
              "          await google.colab.kernel.invokeFunction('convertToInteractive',\n",
              "                                                    [key], {});\n",
              "        if (!dataTable) return;\n",
              "\n",
              "        const docLinkHtml = 'Like what you see? Visit the ' +\n",
              "          '<a target=\"_blank\" href=https://colab.research.google.com/notebooks/data_table.ipynb>data table notebook</a>'\n",
              "          + ' to learn more about interactive tables.';\n",
              "        element.innerHTML = '';\n",
              "        dataTable['output_type'] = 'display_data';\n",
              "        await google.colab.output.renderOutput(dataTable, element);\n",
              "        const docLink = document.createElement('div');\n",
              "        docLink.innerHTML = docLinkHtml;\n",
              "        element.appendChild(docLink);\n",
              "      }\n",
              "    </script>\n",
              "  </div>\n",
              "\n",
              "\n",
              "<div id=\"df-4775c374-8b19-45e1-a466-95477da283e1\">\n",
              "  <button class=\"colab-df-quickchart\" onclick=\"quickchart('df-4775c374-8b19-45e1-a466-95477da283e1')\"\n",
              "            title=\"Suggest charts\"\n",
              "            style=\"display:none;\">\n",
              "\n",
              "<svg xmlns=\"http://www.w3.org/2000/svg\" height=\"24px\"viewBox=\"0 0 24 24\"\n",
              "     width=\"24px\">\n",
              "    <g>\n",
              "        <path d=\"M19 3H5c-1.1 0-2 .9-2 2v14c0 1.1.9 2 2 2h14c1.1 0 2-.9 2-2V5c0-1.1-.9-2-2-2zM9 17H7v-7h2v7zm4 0h-2V7h2v10zm4 0h-2v-4h2v4z\"/>\n",
              "    </g>\n",
              "</svg>\n",
              "  </button>\n",
              "\n",
              "<style>\n",
              "  .colab-df-quickchart {\n",
              "      --bg-color: #E8F0FE;\n",
              "      --fill-color: #1967D2;\n",
              "      --hover-bg-color: #E2EBFA;\n",
              "      --hover-fill-color: #174EA6;\n",
              "      --disabled-fill-color: #AAA;\n",
              "      --disabled-bg-color: #DDD;\n",
              "  }\n",
              "\n",
              "  [theme=dark] .colab-df-quickchart {\n",
              "      --bg-color: #3B4455;\n",
              "      --fill-color: #D2E3FC;\n",
              "      --hover-bg-color: #434B5C;\n",
              "      --hover-fill-color: #FFFFFF;\n",
              "      --disabled-bg-color: #3B4455;\n",
              "      --disabled-fill-color: #666;\n",
              "  }\n",
              "\n",
              "  .colab-df-quickchart {\n",
              "    background-color: var(--bg-color);\n",
              "    border: none;\n",
              "    border-radius: 50%;\n",
              "    cursor: pointer;\n",
              "    display: none;\n",
              "    fill: var(--fill-color);\n",
              "    height: 32px;\n",
              "    padding: 0;\n",
              "    width: 32px;\n",
              "  }\n",
              "\n",
              "  .colab-df-quickchart:hover {\n",
              "    background-color: var(--hover-bg-color);\n",
              "    box-shadow: 0 1px 2px rgba(60, 64, 67, 0.3), 0 1px 3px 1px rgba(60, 64, 67, 0.15);\n",
              "    fill: var(--button-hover-fill-color);\n",
              "  }\n",
              "\n",
              "  .colab-df-quickchart-complete:disabled,\n",
              "  .colab-df-quickchart-complete:disabled:hover {\n",
              "    background-color: var(--disabled-bg-color);\n",
              "    fill: var(--disabled-fill-color);\n",
              "    box-shadow: none;\n",
              "  }\n",
              "\n",
              "  .colab-df-spinner {\n",
              "    border: 2px solid var(--fill-color);\n",
              "    border-color: transparent;\n",
              "    border-bottom-color: var(--fill-color);\n",
              "    animation:\n",
              "      spin 1s steps(1) infinite;\n",
              "  }\n",
              "\n",
              "  @keyframes spin {\n",
              "    0% {\n",
              "      border-color: transparent;\n",
              "      border-bottom-color: var(--fill-color);\n",
              "      border-left-color: var(--fill-color);\n",
              "    }\n",
              "    20% {\n",
              "      border-color: transparent;\n",
              "      border-left-color: var(--fill-color);\n",
              "      border-top-color: var(--fill-color);\n",
              "    }\n",
              "    30% {\n",
              "      border-color: transparent;\n",
              "      border-left-color: var(--fill-color);\n",
              "      border-top-color: var(--fill-color);\n",
              "      border-right-color: var(--fill-color);\n",
              "    }\n",
              "    40% {\n",
              "      border-color: transparent;\n",
              "      border-right-color: var(--fill-color);\n",
              "      border-top-color: var(--fill-color);\n",
              "    }\n",
              "    60% {\n",
              "      border-color: transparent;\n",
              "      border-right-color: var(--fill-color);\n",
              "    }\n",
              "    80% {\n",
              "      border-color: transparent;\n",
              "      border-right-color: var(--fill-color);\n",
              "      border-bottom-color: var(--fill-color);\n",
              "    }\n",
              "    90% {\n",
              "      border-color: transparent;\n",
              "      border-bottom-color: var(--fill-color);\n",
              "    }\n",
              "  }\n",
              "</style>\n",
              "\n",
              "  <script>\n",
              "    async function quickchart(key) {\n",
              "      const quickchartButtonEl =\n",
              "        document.querySelector('#' + key + ' button');\n",
              "      quickchartButtonEl.disabled = true;  // To prevent multiple clicks.\n",
              "      quickchartButtonEl.classList.add('colab-df-spinner');\n",
              "      try {\n",
              "        const charts = await google.colab.kernel.invokeFunction(\n",
              "            'suggestCharts', [key], {});\n",
              "      } catch (error) {\n",
              "        console.error('Error during call to suggestCharts:', error);\n",
              "      }\n",
              "      quickchartButtonEl.classList.remove('colab-df-spinner');\n",
              "      quickchartButtonEl.classList.add('colab-df-quickchart-complete');\n",
              "    }\n",
              "    (() => {\n",
              "      let quickchartButtonEl =\n",
              "        document.querySelector('#df-4775c374-8b19-45e1-a466-95477da283e1 button');\n",
              "      quickchartButtonEl.style.display =\n",
              "        google.colab.kernel.accessAllowed ? 'block' : 'none';\n",
              "    })();\n",
              "  </script>\n",
              "</div>\n",
              "\n",
              "    </div>\n",
              "  </div>\n"
            ],
            "application/vnd.google.colaboratory.intrinsic+json": {
              "type": "dataframe",
              "summary": "{\n  \"name\": \"data\",\n  \"rows\": 2,\n  \"fields\": [\n    {\n      \"column\": \"text\",\n      \"properties\": {\n        \"dtype\": \"string\",\n        \"num_unique_values\": 2,\n        \"samples\": [\n          \"Vibrant color jeans for male are becoming a trend\",\n          \"These are the latest fashion trends for this week\"\n        ],\n        \"semantic_type\": \"\",\n        \"description\": \"\"\n      }\n    },\n    {\n      \"column\": \"category\",\n      \"properties\": {\n        \"dtype\": \"string\",\n        \"num_unique_values\": 1,\n        \"samples\": [\n          \"Fashion\"\n        ],\n        \"semantic_type\": \"\",\n        \"description\": \"\"\n      }\n    }\n  ]\n}"
            }
          },
          "metadata": {},
          "execution_count": 39
        }
      ],
      "source": [
        "data.loc[I[0]]"
      ]
    },
    {
      "cell_type": "code",
      "execution_count": null,
      "metadata": {
        "id": "yxH1W1FQozIc"
      },
      "outputs": [],
      "source": [
        "import os"
      ]
    },
    {
      "cell_type": "code",
      "execution_count": null,
      "metadata": {
        "id": "hzFp1rfMuHif"
      },
      "outputs": [],
      "source": [
        "from google.colab import userdata\n",
        "MISTRAL_API_KEY = userdata.get('MISTRAL_API_KEY')\n",
        "os.environ[\"MISTRAL API KEY\"] = MISTRAL_API_KEY"
      ]
    },
    {
      "cell_type": "code",
      "execution_count": null,
      "metadata": {
        "colab": {
          "base_uri": "https://localhost:8080/"
        },
        "id": "aobQa7ASu8tt",
        "outputId": "67844ad0-87c5-4e9b-b389-187bcca260ed"
      },
      "outputs": [
        {
          "output_type": "execute_result",
          "data": {
            "text/plain": [
              "[Document(metadata={'source': 'https://blogs.nvidia.com/blog/ai-agents-customer-service/'}, page_content='Efficiency Meets Personalization: How AI Agents Improve Customer Service\\n\\nNovember 21, 2024 by Amanda Saunders\\n\\nShare\\n\\nEmail0\\n\\nEditor’s note: This post is the first in the AI On blog series, which explores the latest techniques and real-world applications of agentic AI, chatbots and copilots. The series will also highlight the NVIDIA software and hardware powering advanced AI agents, which form the foundation of AI query engines that gather insights and perform tasks to transform everyday experiences and reshape industries.\\n\\nWhether it’s getting a complex service claim resolved or having a simple purchase inquiry answered, customers expect timely, accurate responses to their requests.\\n\\nAI agents can help organizations meet this need. And they can grow in scope and scale as businesses grow, helping keep customers from taking their business elsewhere.\\n\\nAI agents can be used as virtual assistants, which use artificial intelligence and natural language processing to handle high volumes of customer service requests. By automating routine tasks, AI agents ease the workload on human agents, allowing them to focus on tasks requiring a more personal touch.\\n\\nAI-powered customer service tools like chatbots have become table stakes across every industry looking to increase efficiency and keep buyers happy. According to a recent IDC study on conversational AI, 41% of organizations use AI-powered copilots for customer service and 60% have implemented them for IT help desks.\\n\\nNow, many of those same industries are looking to adopt agentic AI, semi-autonomous tools that have the ability to perceive, reason and act on more complex problems.\\n\\nHow AI Agents Enhance Customer Service\\n\\nA primary value of AI-powered systems is the time they free up by automating routine tasks. AI agents can perform specific tasks, or agentic operations, essentially becoming part of an organization’s workforce — working alongside humans who can focus on more complex customer issues.\\n\\nAI agents can handle predictive tasks and problem-solve, can be trained to understand industry-specific terms and can pull relevant information from an organization’s knowledge bases, wherever that data resides.\\n\\nWith AI agents, companies can:\\n\\nBoost efficiency: AI agents handle common questions and repetitive tasks, allowing support teams to prioritize more complicated cases. This is especially useful during high-demand periods.\\n\\nIncrease customer satisfaction: Faster, more personalized interactions result in happier and more loyal customers. Consistent and accurate support improves customer sentiment and experience.\\n\\nScale Easily: Equipped to handle high volumes of customer support requests, AI agents scale effortlessly with growing businesses, reducing customer wait times and resolving issues faster.\\n\\nAI Agents for Customer Service Across Industries\\n\\nAI agents are transforming customer service across sectors, helping companies enhance customer conversations, achieve high-resolution rates and improve human representative productivity.\\n\\nFor instance, ServiceNow recently introduced IT and customer service management AI agents to boost productivity by autonomously solving many employee and customer issues. Its agents can understand context, create step-by-step resolutions and get live agent approvals when needed.\\n\\nTo improve patient care and reduce preprocedure anxiety, The Ottawa Hospital is using AI agents that have consistent, accurate and continuous access to information. The agent has the potential to improve patient care and reduce administrative tasks for doctors and nurses.\\n\\nThe city of Amarillo, Texas, uses a multilingual digital assistant named Emma to provide its residents with 24/7 support. Emma brings more effective and efficient disbursement of important information to all residents, including the one-quarter who don’t speak English.\\n\\nAI agents meet current customer service demands while preparing organizations for the future.\\n\\nKey Steps for Designing AI Virtual Assistants for Customer Support\\n\\nAI agents for customer service come in a wide range of designs, from simple text-based virtual assistants that resolve customer issues, to animated avatars that can provide a more human-like experience.\\n\\nDigital human interfaces can add warmth and personality to the customer experience. These agents respond with spoken language and even animated avatars, enhancing service interactions with a touch of real-world flair. A digital human interface lets companies customize the assistant’s appearance and tone, aligning it with the brand’s identity.\\n\\nThere are three key building blocks to creating an effective AI agent for customer service:\\n\\nCollect and organize customer data: AI agents need a solid base of customer data (such as profiles, past interactions, and transaction histories) to provide accurate, context-aware responses.\\n\\nUse memory functions for personalization: Advanced AI systems remember past interactions, allowing agents to deliver personalized support that feels human.\\n\\nBuild an operations pipeline: Customer service teams should regularly review feedback and update the AI agent’s responses to ensure it’s always improving and aligned with business goals.\\n\\nPowering AI Agents With NVIDIA NIM Microservices\\n\\nNVIDIA NIM microservices power AI agents by enabling natural language processing, contextual retrieval and multilingual communication. This allows AI agents to deliver fast, personalized and accurate support tailored to diverse customer needs.\\n\\nKey NVIDIA NIM microservices for customer service agents include:\\n\\nNVIDIA NIM for Large Language Models — Microservices that bring advanced language models to applications and enable complex reasoning, so AI agents can understand complicated customer queries.\\n\\nNVIDIA NeMo Retriever NIM — Embedding and reranking microservices that support retrieval-augmented generation pipelines allow virtual assistants to quickly access enterprise knowledge bases and boost retrieval performance by ranking relevant knowledge-base articles and improving context accuracy.\\n\\nNVIDIA NIM for Digital Humans — Microservices that enable intelligent, interactive avatars to understand speech and respond in a natural way. NVIDIA Riva NIM microservices for text-to-speech, automatic speech recognition (ASR), and translation services enable AI agents to communicate naturally across languages. The recently released Riva NIM microservices for ASR enable additional multilingual enhancements. To build realistic avatars, Audio2Face NIM converts streamed audio to facial movements for real-time lip syncing. 2D and 3D Audio2Face NIM microservices support varying use cases.\\n\\nGetting Started With AI Agents for Customer Service\\n\\nNVIDIA AI Blueprints make it easy to start building and setting up virtual assistants by offering ready-made workflows and tools to accelerate deployment. Whether for a simple AI-powered chatbot or a fully animated digital human interface, the blueprints offer resources to create AI assistants that are scalable, aligned with an organization’s brand and deliver a responsive, efficient customer support experience.\\n\\nEditor’s note: IDC figures are sourced to IDC, Market Analysis Perspective: Worldwide Conversational AI Tools and Technologies, 2024 US51619524, Sept 2024\\n\\nCategories: Generative AI\\n\\nTags: Artificial Intelligence | Conversational AI | NVIDIA AI Blueprint | NVIDIA NeMo | NVIDIA NIM | Riva\\n\\nAll NVIDIA News\\n\\nCrowning Achievement: NVIDIA Research Model Enables Fast, Efficient Dynamic Scene Reconstruction\\n\\nThailand and Vietnam Embrace Sovereign AI to Drive Economic Growth\\n\\nWarp Speed: NVIDIA Open-Source Framework Accelerates Scientific Computing in Python\\n\\n2025 Predictions: Enterprises, Researchers and Startups Home In on Humanoids, AI Agents as Generative AI Crosses the Chasm\\n\\nMeet an NVIDIA Deep Learning Engineer Helping Shape the Future of AI'),\n",
              " Document(metadata={'source': 'https://www.moneycontrol.com/news/opinion/india-s-gst-model-is-set-to-get-more-lopsided-12883240.html'}, page_content=\"English\\n\\nHindi\\n\\nGujarati\\n\\nSpecials\\n\\nHello, Login\\n\\nHello, Login\\n\\nLog-inor Sign-Up\\n\\nMy Account\\n\\nMy Profile\\n\\nMy Portfolio\\n\\nMy Watchlist\\n\\nMy Alerts\\n\\nMy Messages\\n\\nPrice Alerts\\n\\nMy Profile\\n\\nMy PRO\\n\\nMy Portfolio\\n\\nMy Watchlist\\n\\nMy Alerts\\n\\nMy Messages\\n\\nPrice Alerts\\n\\nLogout\\n\\nLoans up to ₹15 LAKHS\\n\\nFixed Deposits\\n\\nCredit CardsLifetime Free\\n\\nCredit Score\\n\\nChat with Us\\n\\nDownload App\\n\\nFollow us on:\\n\\nGo Ad-Free\\n\\nMy Alerts\\n\\n>->MC_ENG_DESKTOP/MC_ENG_NEWS/MC_ENG_OPINION_AS/MC_ENG_ROS_NWS_OPIN_AS_ATF_728\\n\\nGo PRO @₹99 PRO\\n\\nAdvertisement\\n\\nRemove Ad\\n\\nBusiness\\n\\nMarkets\\n\\nStocks\\n\\nEconomy\\n\\nCompanies\\n\\nTrends\\n\\nIPO\\n\\nOpinion\\n\\nEV Special\\n\\nHomeNewsOpinionIndia’s GST model is set to get more lopsided\\n\\nIndia’s GST model is set to get more lopsided\\n\\nCreating a new a GST slab of 35 percent for some so-called sin goods will only complicate the rate structure. The GST Council however has left itself with no option as it lowered the average GST rate even when governments were under fiscal pressure because of economic shocks. Today, we are left with a system that levies a marginal tax on most of the GST base and compensates with almost punitive rates on a small proportion of the base.\\n\\nSanjiv Shankaran\\n\\nDecember 04, 2024 / 16:31 IST\\n\\nThe committee hoped that the GST structure would trend towards a single rate in future.\\n\\nThe Goods and Services Tax structure may soon get a new tax rate. GST Council’s group of ministers which is dealing with rationalisation of rates is expected to propose a slab of 35 percent for items such as cigarettes and aerated beverages which presently attract a tax rate of 28 percent.\\n\\nAt present, items which fall within the ambit of GST are classified into seven categories: nil-rated items such as milk, 0.25 percent, 3 percent, 5 percent, 12 percent, 18 percent and 28 percent. For some items in the 28 percent slab, there’s a cess levied which results in a higher effective tax.\\n\\nStory continues below Advertisement\\n\\nRemove Ad\\n\\nAdding another slab to this structure will make it more complicated and represents a regression from the initial hope of moving towards fewer slabs that would lead to a one-rate structure in the medium-term. One way of making sense of this trend is to take a look at how the GST Council has worked towards reducing the average rate even when both the union government and states have had to deal economic shocks after the rollout of GST in 2017. In trying to reconcile a reduction in the average GST rate with fiscal pressure arising from shocks, the GST Council has no choice but to create a new slab above the 28 percent category.\\n\\nAverage rate trends downward\\n\\nIn May 2017, a Reserve Bank of India study estimated that the weighted average GST rate was 14.4 percent. On December 2, finance minister Nirmala Sitharaman informed Parliament that the weighted average rate for 2023-24 was 11.64 percent. The average rate has declined almost three percentage points since GST was rolled out in 2017.\\n\\nRelated stories\\n\\nMC Poll | Inflation likely to have eased to 5.5% in Nov, industrial growth up at 3.6%\\n\\nWall Street’s complex debt bonanza hits fastest pace since 2007\\n\\nCrypto doesn’t deserve a tax exemption\\n\\nLopsided structure\\n\\nAn important reason for the decline in the average GST rate is that there have been many instances of taxes items being moved to a lower slab. A consequence is that more than half of the average monthly per capita expenditure is taxed at 5 percent or lower.\\n\\nSacchidananda Mukherjee of the National Institute of Public Finance and Policy used CMIE’s Consumer Pyramids Household Survey for 2021-22 to distribute all-India average monthly per capita expenditure (MPCE) spread over 123 items of household consumption across GST tax slabs.\\n\\nStory continues below Advertisement\\n\\nRemove Ad\\n\\n. The outcome was that up to 57.6 percent of average MPCE attracted a tax rate of 5 percent or lower. Almost 25 percent of MPCE attracts no GST. Another 14.5 percent of average MPCE constitutes items which are outside the purview of GST. This for all practical purposes leaves just 28 percent of average MPCE items which can attract a tax rate of above 5 percent.\\n\\nThis lop-sidedness means that while the average GST rate in 2023-24 was 11.64 percent, about 70-75 percent of the GST revenue came from the 18 percent slab rate. The tax base that attracts a GST rate below the 11.64 percent average is so large that the GST Council has left itself with no option but to create a new slab around three times the average rate in an effort to generate adequate revenue.\\n\\nPundits run into political economy realities\\n\\nPrior to GST’s roll out, a committee headed by then chief economic advisor Arvind Subramanian recommended a revenue neutral rate of 15-15.5 percent in December 2015. RNR represents a single rate which preserves revenue at current levels. In practice, there will be a structure of rates, said the Subramanian committee.\\n\\nThis committee hoped that the GST structure would trend towards a single rate in future.\\n\\nWe are moving in the other direction as the rate structure is likely to soon get another slab. Tax pundits are likely to criticise this trend but it reflects the reality of India’s political economy. GST Council, where all the major political parties of the country are represented, complicates matters through consensus. The gulf between what politicians confront, followed by their default response, and what pundits desire cannot be bridged.\\n\\nSanjiv Shankaran is Editor - Opinions, Editorials, Features at Moneycontrol. (Views are personal and do not represent the stand of this publication.)\\n\\nfirst published: Dec 4, 2024 04:31 pm\\n\\nDiscover the latest business news, Sensex, and Nifty updates. Obtain Personal Finance insights, tax queries, and expert opinions on Moneycontrol or download the Moneycontrol App to stay updated!\\n\\nAdvertisement\\n\\nRemove Ad\\n\\nTrending news\\n\\nYesMadam didn't fire its employees for being stressed: 'Social media posts were a planned effort'\\n\\nSundar Pichai announces Google's quantum chip Willow, wows Elon Musk. Their exchange is viral\\n\\nPassenger attacks cabin crew, attempts to hijack plane to US. Viral video from Mexico\\n\\nWoman rejects job offer after CEO compares copywriting to ChatGPT, shares red flags. Viral post\\n\\nUP dairy trader makes 500 litre fake milk with 1 litre chemicals, held. Watch\\n\\nAdvisory Alert:\\n\\nForum Facebook Twitter Instagram Linkedin RSS\\n\\nPortfolio\\n\\nMarkets\\n\\nLoans up to ₹15 LAKHS\\n\\nWatchlist\\n\\nLive TV Show\\n\\nCurrencies\\n\\nCredit CardsLifetime Free\\n\\nCredit Score\\n\\nFinance Tracker\\n\\nCommodities\\n\\nFixed Deposits\\n\\nFixed Income\\n\\nPersonal Finance\\n\\nMutual Fund\\n\\nPre-Market\\n\\nIPO\\n\\nGlobal Market\\n\\nBudget 2024\\n\\nElections 2024\\n\\nGold Rate\\n\\nBSE Sensex\\n\\nForum\\n\\nMC 30\\n\\nNews\\n\\nBusiness\\n\\nMarkets\\n\\nStocks\\n\\nIncome Tax Calculator\\n\\nElection Schedule 2024\\n\\nIndia News\\n\\nEconomy\\n\\nMutual Funds\\n\\nPersonal Finance\\n\\nIPO News\\n\\nStartups\\n\\nStocks: A | B | C | D | E | F | G | H | I | J | K | L | M | N | O | P | Q | R | S | T | U | V | W | X | Y | Z | Others\\n\\nMutual Funds: A | B | C | D | E | F | G | H | I | J | K | L | M | N | O | P | Q | R | S | T | U | V | W | X | Y | Z\\n\\nVisit the App Store to see all our apps:\\n\\nDownload from Google PlayDownload from APP StoreDownload from Windows Phone\\n\\nTools\\n\\nRetirement Planning\\n\\nEMI Calculator\\n\\nSIP Calculator\\n\\nSIP Planner\\n\\nUseful Links\\n\\nCrypto News\\n\\nBank Holidays in India\\n\\nGold Rate Today\\n\\nSilver Rate Today\\n\\nTrending News\\n\\nStartups\\n\\nNational News\\n\\nMC Videos\\n\\nMC You Tube\\n\\nHouse Purchase Index\\n\\nBest Portfolio Manager\\n\\nSmall Savings Schemes\\n\\nBonds\\n\\nTopperLearning\\n\\nClear Study Doubts\\n\\nEducation Franchisee Opportunity\\n\\nSpecials\\n\\nMaster Your Money\\n\\nGame Changers\\n\\nInvestment Watch\\n\\nPowerYourTrade\\n\\nFocus\\n\\nSME Step Up\\n\\nNetwork 18 Sites\\n\\nNews18\\n\\nFirstpost\\n\\nCNBC TV18\\n\\nNews18 Hindi\\n\\nCricketnext\\n\\nOverdrive\\n\\nTopper Learning\\n\\nAbout us | Contact Us | Advisory Alert | Advertise with Us | Support | Disclaimer | Privacy Policy | Cookie Policy | Terms & Conditions | Careers | Financial Terms (Glossary) | FAQs | Sitemap | RSS Feed | Investors\\n\\nCopyright © Network18 Media & Investments Limited. All rights reserved. Reproduction of news articles, photos, videos or any other content in whole or in part in any form or medium without express writtern permission of moneycontrol.com is prohibited.\\n\\nYou got 30 Day’s Trial of\\n\\nGrab it Now\\n\\nAd-Free Experience\\n\\nTop Articles from Financial Times\\n\\nActionable Insights\\n\\nMC Research\\n\\nEconomic Calendar\\n\\n& Many More\\n\\nYou are already a Moneycontrol Pro user.\\n\\nNamrata Agarwal\")]"
            ]
          },
          "metadata": {},
          "execution_count": 42
        }
      ],
      "source": [
        "loader = UnstructuredURLLoader(urls = [\"https://blogs.nvidia.com/blog/ai-agents-customer-service/\",\n",
        "                                      \"https://www.moneycontrol.com/news/opinion/india-s-gst-model-is-set-to-get-more-lopsided-12883240.html\"])\n",
        "data = loader.load()\n",
        "data"
      ]
    },
    {
      "cell_type": "code",
      "execution_count": null,
      "metadata": {
        "colab": {
          "base_uri": "https://localhost:8080/"
        },
        "id": "qLC1Vfh_xFDg",
        "outputId": "ef34aa2f-74e4-4ef3-8536-7d4dd2654535"
      },
      "outputs": [
        {
          "output_type": "stream",
          "name": "stdout",
          "text": [
            "23\n"
          ]
        }
      ],
      "source": [
        "text_splitter = RecursiveCharacterTextSplitter(\n",
        "    separators = [\"\\n\\n\",\"\\n\"],\n",
        "    chunk_size = 1000,\n",
        "    chunk_overlap = 200\n",
        ")\n",
        "text = text_splitter.split_documents(data)\n",
        "print(len(text))\n"
      ]
    },
    {
      "cell_type": "code",
      "execution_count": null,
      "metadata": {
        "colab": {
          "base_uri": "https://localhost:8080/"
        },
        "id": "uy3NxzDKyeMs",
        "outputId": "f74702bc-1a3c-4b2a-ac5f-a99cee626148"
      },
      "outputs": [
        {
          "output_type": "execute_result",
          "data": {
            "text/plain": [
              "[Document(metadata={'source': 'https://blogs.nvidia.com/blog/ai-agents-customer-service/'}, page_content='Efficiency Meets Personalization: How AI Agents Improve Customer Service\\n\\nNovember 21, 2024 by Amanda Saunders\\n\\nShare\\n\\nEmail0\\n\\nEditor’s note: This post is the first in the AI On blog series, which explores the latest techniques and real-world applications of agentic AI, chatbots and copilots. The series will also highlight the NVIDIA software and hardware powering advanced AI agents, which form the foundation of AI query engines that gather insights and perform tasks to transform everyday experiences and reshape industries.\\n\\nWhether it’s getting a complex service claim resolved or having a simple purchase inquiry answered, customers expect timely, accurate responses to their requests.\\n\\nAI agents can help organizations meet this need. And they can grow in scope and scale as businesses grow, helping keep customers from taking their business elsewhere.'),\n",
              " Document(metadata={'source': 'https://blogs.nvidia.com/blog/ai-agents-customer-service/'}, page_content='AI agents can help organizations meet this need. And they can grow in scope and scale as businesses grow, helping keep customers from taking their business elsewhere.\\n\\nAI agents can be used as virtual assistants, which use artificial intelligence and natural language processing to handle high volumes of customer service requests. By automating routine tasks, AI agents ease the workload on human agents, allowing them to focus on tasks requiring a more personal touch.\\n\\nAI-powered customer service tools like chatbots have become table stakes across every industry looking to increase efficiency and keep buyers happy. According to a recent IDC study on conversational AI, 41% of organizations use AI-powered copilots for customer service and 60% have implemented them for IT help desks.\\n\\nNow, many of those same industries are looking to adopt agentic AI, semi-autonomous tools that have the ability to perceive, reason and act on more complex problems.\\n\\nHow AI Agents Enhance Customer Service'),\n",
              " Document(metadata={'source': 'https://blogs.nvidia.com/blog/ai-agents-customer-service/'}, page_content='How AI Agents Enhance Customer Service\\n\\nA primary value of AI-powered systems is the time they free up by automating routine tasks. AI agents can perform specific tasks, or agentic operations, essentially becoming part of an organization’s workforce — working alongside humans who can focus on more complex customer issues.\\n\\nAI agents can handle predictive tasks and problem-solve, can be trained to understand industry-specific terms and can pull relevant information from an organization’s knowledge bases, wherever that data resides.\\n\\nWith AI agents, companies can:\\n\\nBoost efficiency: AI agents handle common questions and repetitive tasks, allowing support teams to prioritize more complicated cases. This is especially useful during high-demand periods.\\n\\nIncrease customer satisfaction: Faster, more personalized interactions result in happier and more loyal customers. Consistent and accurate support improves customer sentiment and experience.'),\n",
              " Document(metadata={'source': 'https://blogs.nvidia.com/blog/ai-agents-customer-service/'}, page_content='Increase customer satisfaction: Faster, more personalized interactions result in happier and more loyal customers. Consistent and accurate support improves customer sentiment and experience.\\n\\nScale Easily: Equipped to handle high volumes of customer support requests, AI agents scale effortlessly with growing businesses, reducing customer wait times and resolving issues faster.\\n\\nAI Agents for Customer Service Across Industries\\n\\nAI agents are transforming customer service across sectors, helping companies enhance customer conversations, achieve high-resolution rates and improve human representative productivity.\\n\\nFor instance, ServiceNow recently introduced IT and customer service management AI agents to boost productivity by autonomously solving many employee and customer issues. Its agents can understand context, create step-by-step resolutions and get live agent approvals when needed.'),\n",
              " Document(metadata={'source': 'https://blogs.nvidia.com/blog/ai-agents-customer-service/'}, page_content='To improve patient care and reduce preprocedure anxiety, The Ottawa Hospital is using AI agents that have consistent, accurate and continuous access to information. The agent has the potential to improve patient care and reduce administrative tasks for doctors and nurses.\\n\\nThe city of Amarillo, Texas, uses a multilingual digital assistant named Emma to provide its residents with 24/7 support. Emma brings more effective and efficient disbursement of important information to all residents, including the one-quarter who don’t speak English.\\n\\nAI agents meet current customer service demands while preparing organizations for the future.\\n\\nKey Steps for Designing AI Virtual Assistants for Customer Support\\n\\nAI agents for customer service come in a wide range of designs, from simple text-based virtual assistants that resolve customer issues, to animated avatars that can provide a more human-like experience.'),\n",
              " Document(metadata={'source': 'https://blogs.nvidia.com/blog/ai-agents-customer-service/'}, page_content='Digital human interfaces can add warmth and personality to the customer experience. These agents respond with spoken language and even animated avatars, enhancing service interactions with a touch of real-world flair. A digital human interface lets companies customize the assistant’s appearance and tone, aligning it with the brand’s identity.\\n\\nThere are three key building blocks to creating an effective AI agent for customer service:\\n\\nCollect and organize customer data: AI agents need a solid base of customer data (such as profiles, past interactions, and transaction histories) to provide accurate, context-aware responses.\\n\\nUse memory functions for personalization: Advanced AI systems remember past interactions, allowing agents to deliver personalized support that feels human.\\n\\nBuild an operations pipeline: Customer service teams should regularly review feedback and update the AI agent’s responses to ensure it’s always improving and aligned with business goals.'),\n",
              " Document(metadata={'source': 'https://blogs.nvidia.com/blog/ai-agents-customer-service/'}, page_content='Build an operations pipeline: Customer service teams should regularly review feedback and update the AI agent’s responses to ensure it’s always improving and aligned with business goals.\\n\\nPowering AI Agents With NVIDIA NIM Microservices\\n\\nNVIDIA NIM microservices power AI agents by enabling natural language processing, contextual retrieval and multilingual communication. This allows AI agents to deliver fast, personalized and accurate support tailored to diverse customer needs.\\n\\nKey NVIDIA NIM microservices for customer service agents include:\\n\\nNVIDIA NIM for Large Language Models — Microservices that bring advanced language models to applications and enable complex reasoning, so AI agents can understand complicated customer queries.'),\n",
              " Document(metadata={'source': 'https://blogs.nvidia.com/blog/ai-agents-customer-service/'}, page_content='NVIDIA NIM for Large Language Models — Microservices that bring advanced language models to applications and enable complex reasoning, so AI agents can understand complicated customer queries.\\n\\nNVIDIA NeMo Retriever NIM — Embedding and reranking microservices that support retrieval-augmented generation pipelines allow virtual assistants to quickly access enterprise knowledge bases and boost retrieval performance by ranking relevant knowledge-base articles and improving context accuracy.'),\n",
              " Document(metadata={'source': 'https://blogs.nvidia.com/blog/ai-agents-customer-service/'}, page_content='NVIDIA NIM for Digital Humans — Microservices that enable intelligent, interactive avatars to understand speech and respond in a natural way. NVIDIA Riva NIM microservices for text-to-speech, automatic speech recognition (ASR), and translation services enable AI agents to communicate naturally across languages. The recently released Riva NIM microservices for ASR enable additional multilingual enhancements. To build realistic avatars, Audio2Face NIM converts streamed audio to facial movements for real-time lip syncing. 2D and 3D Audio2Face NIM microservices support varying use cases.\\n\\nGetting Started With AI Agents for Customer Service'),\n",
              " Document(metadata={'source': 'https://blogs.nvidia.com/blog/ai-agents-customer-service/'}, page_content='Getting Started With AI Agents for Customer Service\\n\\nNVIDIA AI Blueprints make it easy to start building and setting up virtual assistants by offering ready-made workflows and tools to accelerate deployment. Whether for a simple AI-powered chatbot or a fully animated digital human interface, the blueprints offer resources to create AI assistants that are scalable, aligned with an organization’s brand and deliver a responsive, efficient customer support experience.\\n\\nEditor’s note: IDC figures are sourced to IDC, Market Analysis Perspective: Worldwide Conversational AI Tools and Technologies, 2024 US51619524, Sept 2024\\n\\nCategories: Generative AI\\n\\nTags: Artificial Intelligence | Conversational AI | NVIDIA AI Blueprint | NVIDIA NeMo | NVIDIA NIM | Riva\\n\\nAll NVIDIA News\\n\\nCrowning Achievement: NVIDIA Research Model Enables Fast, Efficient Dynamic Scene Reconstruction\\n\\nThailand and Vietnam Embrace Sovereign AI to Drive Economic Growth'),\n",
              " Document(metadata={'source': 'https://blogs.nvidia.com/blog/ai-agents-customer-service/'}, page_content='All NVIDIA News\\n\\nCrowning Achievement: NVIDIA Research Model Enables Fast, Efficient Dynamic Scene Reconstruction\\n\\nThailand and Vietnam Embrace Sovereign AI to Drive Economic Growth\\n\\nWarp Speed: NVIDIA Open-Source Framework Accelerates Scientific Computing in Python\\n\\n2025 Predictions: Enterprises, Researchers and Startups Home In on Humanoids, AI Agents as Generative AI Crosses the Chasm\\n\\nMeet an NVIDIA Deep Learning Engineer Helping Shape the Future of AI'),\n",
              " Document(metadata={'source': 'https://www.moneycontrol.com/news/opinion/india-s-gst-model-is-set-to-get-more-lopsided-12883240.html'}, page_content='English\\n\\nHindi\\n\\nGujarati\\n\\nSpecials\\n\\nHello, Login\\n\\nHello, Login\\n\\nLog-inor Sign-Up\\n\\nMy Account\\n\\nMy Profile\\n\\nMy Portfolio\\n\\nMy Watchlist\\n\\nMy Alerts\\n\\nMy Messages\\n\\nPrice Alerts\\n\\nMy Profile\\n\\nMy PRO\\n\\nMy Portfolio\\n\\nMy Watchlist\\n\\nMy Alerts\\n\\nMy Messages\\n\\nPrice Alerts\\n\\nLogout\\n\\nLoans up to ₹15 LAKHS\\n\\nFixed Deposits\\n\\nCredit CardsLifetime Free\\n\\nCredit Score\\n\\nChat with Us\\n\\nDownload App\\n\\nFollow us on:\\n\\nGo Ad-Free\\n\\nMy Alerts\\n\\n>->MC_ENG_DESKTOP/MC_ENG_NEWS/MC_ENG_OPINION_AS/MC_ENG_ROS_NWS_OPIN_AS_ATF_728\\n\\nGo PRO @₹99 PRO\\n\\nAdvertisement\\n\\nRemove Ad\\n\\nBusiness\\n\\nMarkets\\n\\nStocks\\n\\nEconomy\\n\\nCompanies\\n\\nTrends\\n\\nIPO\\n\\nOpinion\\n\\nEV Special\\n\\nHomeNewsOpinionIndia’s GST model is set to get more lopsided\\n\\nIndia’s GST model is set to get more lopsided'),\n",
              " Document(metadata={'source': 'https://www.moneycontrol.com/news/opinion/india-s-gst-model-is-set-to-get-more-lopsided-12883240.html'}, page_content='Business\\n\\nMarkets\\n\\nStocks\\n\\nEconomy\\n\\nCompanies\\n\\nTrends\\n\\nIPO\\n\\nOpinion\\n\\nEV Special\\n\\nHomeNewsOpinionIndia’s GST model is set to get more lopsided\\n\\nIndia’s GST model is set to get more lopsided\\n\\nCreating a new a GST slab of 35 percent for some so-called sin goods will only complicate the rate structure. The GST Council however has left itself with no option as it lowered the average GST rate even when governments were under fiscal pressure because of economic shocks. Today, we are left with a system that levies a marginal tax on most of the GST base and compensates with almost punitive rates on a small proportion of the base.\\n\\nSanjiv Shankaran\\n\\nDecember 04, 2024 / 16:31 IST\\n\\nThe committee hoped that the GST structure would trend towards a single rate in future.'),\n",
              " Document(metadata={'source': 'https://www.moneycontrol.com/news/opinion/india-s-gst-model-is-set-to-get-more-lopsided-12883240.html'}, page_content='Sanjiv Shankaran\\n\\nDecember 04, 2024 / 16:31 IST\\n\\nThe committee hoped that the GST structure would trend towards a single rate in future.\\n\\nThe Goods and Services Tax structure may soon get a new tax rate. GST Council’s group of ministers which is dealing with rationalisation of rates is expected to propose a slab of 35 percent for items such as cigarettes and aerated beverages which presently attract a tax rate of 28 percent.\\n\\nAt present, items which fall within the ambit of GST are classified into seven categories: nil-rated items such as milk, 0.25 percent, 3 percent, 5 percent, 12 percent, 18 percent and 28 percent. For some items in the 28 percent slab, there’s a cess levied which results in a higher effective tax.\\n\\nStory continues below Advertisement\\n\\nRemove Ad'),\n",
              " Document(metadata={'source': 'https://www.moneycontrol.com/news/opinion/india-s-gst-model-is-set-to-get-more-lopsided-12883240.html'}, page_content='Story continues below Advertisement\\n\\nRemove Ad\\n\\nAdding another slab to this structure will make it more complicated and represents a regression from the initial hope of moving towards fewer slabs that would lead to a one-rate structure in the medium-term. One way of making sense of this trend is to take a look at how the GST Council has worked towards reducing the average rate even when both the union government and states have had to deal economic shocks after the rollout of GST in 2017. In trying to reconcile a reduction in the average GST rate with fiscal pressure arising from shocks, the GST Council has no choice but to create a new slab above the 28 percent category.\\n\\nAverage rate trends downward'),\n",
              " Document(metadata={'source': 'https://www.moneycontrol.com/news/opinion/india-s-gst-model-is-set-to-get-more-lopsided-12883240.html'}, page_content='Average rate trends downward\\n\\nIn May 2017, a Reserve Bank of India study estimated that the weighted average GST rate was 14.4 percent. On December 2, finance minister Nirmala Sitharaman informed Parliament that the weighted average rate for 2023-24 was 11.64 percent. The average rate has declined almost three percentage points since GST was rolled out in 2017.\\n\\nRelated stories\\n\\nMC Poll | Inflation likely to have eased to 5.5% in Nov, industrial growth up at 3.6%\\n\\nWall Street’s complex debt bonanza hits fastest pace since 2007\\n\\nCrypto doesn’t deserve a tax exemption\\n\\nLopsided structure\\n\\nAn important reason for the decline in the average GST rate is that there have been many instances of taxes items being moved to a lower slab. A consequence is that more than half of the average monthly per capita expenditure is taxed at 5 percent or lower.'),\n",
              " Document(metadata={'source': 'https://www.moneycontrol.com/news/opinion/india-s-gst-model-is-set-to-get-more-lopsided-12883240.html'}, page_content='Sacchidananda Mukherjee of the National Institute of Public Finance and Policy used CMIE’s Consumer Pyramids Household Survey for 2021-22 to distribute all-India average monthly per capita expenditure (MPCE) spread over 123 items of household consumption across GST tax slabs.\\n\\nStory continues below Advertisement\\n\\nRemove Ad\\n\\n. The outcome was that up to 57.6 percent of average MPCE attracted a tax rate of 5 percent or lower. Almost 25 percent of MPCE attracts no GST. Another 14.5 percent of average MPCE constitutes items which are outside the purview of GST. This for all practical purposes leaves just 28 percent of average MPCE items which can attract a tax rate of above 5 percent.'),\n",
              " Document(metadata={'source': 'https://www.moneycontrol.com/news/opinion/india-s-gst-model-is-set-to-get-more-lopsided-12883240.html'}, page_content='This lop-sidedness means that while the average GST rate in 2023-24 was 11.64 percent, about 70-75 percent of the GST revenue came from the 18 percent slab rate. The tax base that attracts a GST rate below the 11.64 percent average is so large that the GST Council has left itself with no option but to create a new slab around three times the average rate in an effort to generate adequate revenue.\\n\\nPundits run into political economy realities\\n\\nPrior to GST’s roll out, a committee headed by then chief economic advisor Arvind Subramanian recommended a revenue neutral rate of 15-15.5 percent in December 2015. RNR represents a single rate which preserves revenue at current levels. In practice, there will be a structure of rates, said the Subramanian committee.\\n\\nThis committee hoped that the GST structure would trend towards a single rate in future.'),\n",
              " Document(metadata={'source': 'https://www.moneycontrol.com/news/opinion/india-s-gst-model-is-set-to-get-more-lopsided-12883240.html'}, page_content='This committee hoped that the GST structure would trend towards a single rate in future.\\n\\nWe are moving in the other direction as the rate structure is likely to soon get another slab. Tax pundits are likely to criticise this trend but it reflects the reality of India’s political economy. GST Council, where all the major political parties of the country are represented, complicates matters through consensus. The gulf between what politicians confront, followed by their default response, and what pundits desire cannot be bridged.\\n\\nSanjiv Shankaran is Editor - Opinions, Editorials, Features at Moneycontrol. (Views are personal and do not represent the stand of this publication.)\\n\\nfirst published: Dec 4, 2024 04:31 pm\\n\\nDiscover the latest business news, Sensex, and Nifty updates. Obtain Personal Finance insights, tax queries, and expert opinions on Moneycontrol or download the Moneycontrol App to stay updated!\\n\\nAdvertisement\\n\\nRemove Ad\\n\\nTrending news'),\n",
              " Document(metadata={'source': 'https://www.moneycontrol.com/news/opinion/india-s-gst-model-is-set-to-get-more-lopsided-12883240.html'}, page_content=\"Advertisement\\n\\nRemove Ad\\n\\nTrending news\\n\\nYesMadam didn't fire its employees for being stressed: 'Social media posts were a planned effort'\\n\\nSundar Pichai announces Google's quantum chip Willow, wows Elon Musk. Their exchange is viral\\n\\nPassenger attacks cabin crew, attempts to hijack plane to US. Viral video from Mexico\\n\\nWoman rejects job offer after CEO compares copywriting to ChatGPT, shares red flags. Viral post\\n\\nUP dairy trader makes 500 litre fake milk with 1 litre chemicals, held. Watch\\n\\nAdvisory Alert:\\n\\nForum Facebook Twitter Instagram Linkedin RSS\\n\\nPortfolio\\n\\nMarkets\\n\\nLoans up to ₹15 LAKHS\\n\\nWatchlist\\n\\nLive TV Show\\n\\nCurrencies\\n\\nCredit CardsLifetime Free\\n\\nCredit Score\\n\\nFinance Tracker\\n\\nCommodities\\n\\nFixed Deposits\\n\\nFixed Income\\n\\nPersonal Finance\\n\\nMutual Fund\\n\\nPre-Market\\n\\nIPO\\n\\nGlobal Market\\n\\nBudget 2024\\n\\nElections 2024\\n\\nGold Rate\\n\\nBSE Sensex\\n\\nForum\\n\\nMC 30\\n\\nNews\\n\\nBusiness\\n\\nMarkets\\n\\nStocks\\n\\nIncome Tax Calculator\\n\\nElection Schedule 2024\\n\\nIndia News\\n\\nEconomy\\n\\nMutual Funds\"),\n",
              " Document(metadata={'source': 'https://www.moneycontrol.com/news/opinion/india-s-gst-model-is-set-to-get-more-lopsided-12883240.html'}, page_content='Global Market\\n\\nBudget 2024\\n\\nElections 2024\\n\\nGold Rate\\n\\nBSE Sensex\\n\\nForum\\n\\nMC 30\\n\\nNews\\n\\nBusiness\\n\\nMarkets\\n\\nStocks\\n\\nIncome Tax Calculator\\n\\nElection Schedule 2024\\n\\nIndia News\\n\\nEconomy\\n\\nMutual Funds\\n\\nPersonal Finance\\n\\nIPO News\\n\\nStartups\\n\\nStocks: A | B | C | D | E | F | G | H | I | J | K | L | M | N | O | P | Q | R | S | T | U | V | W | X | Y | Z | Others\\n\\nMutual Funds: A | B | C | D | E | F | G | H | I | J | K | L | M | N | O | P | Q | R | S | T | U | V | W | X | Y | Z\\n\\nVisit the App Store to see all our apps:\\n\\nDownload from Google PlayDownload from APP StoreDownload from Windows Phone\\n\\nTools\\n\\nRetirement Planning\\n\\nEMI Calculator\\n\\nSIP Calculator\\n\\nSIP Planner\\n\\nUseful Links\\n\\nCrypto News\\n\\nBank Holidays in India\\n\\nGold Rate Today\\n\\nSilver Rate Today\\n\\nTrending News\\n\\nStartups\\n\\nNational News\\n\\nMC Videos\\n\\nMC You Tube\\n\\nHouse Purchase Index\\n\\nBest Portfolio Manager\\n\\nSmall Savings Schemes\\n\\nBonds\\n\\nTopperLearning\\n\\nClear Study Doubts\\n\\nEducation Franchisee Opportunity\\n\\nSpecials\\n\\nMaster Your Money'),\n",
              " Document(metadata={'source': 'https://www.moneycontrol.com/news/opinion/india-s-gst-model-is-set-to-get-more-lopsided-12883240.html'}, page_content='MC Videos\\n\\nMC You Tube\\n\\nHouse Purchase Index\\n\\nBest Portfolio Manager\\n\\nSmall Savings Schemes\\n\\nBonds\\n\\nTopperLearning\\n\\nClear Study Doubts\\n\\nEducation Franchisee Opportunity\\n\\nSpecials\\n\\nMaster Your Money\\n\\nGame Changers\\n\\nInvestment Watch\\n\\nPowerYourTrade\\n\\nFocus\\n\\nSME Step Up\\n\\nNetwork 18 Sites\\n\\nNews18\\n\\nFirstpost\\n\\nCNBC TV18\\n\\nNews18 Hindi\\n\\nCricketnext\\n\\nOverdrive\\n\\nTopper Learning\\n\\nAbout us | Contact Us | Advisory Alert | Advertise with Us | Support | Disclaimer | Privacy Policy | Cookie Policy | Terms & Conditions | Careers | Financial Terms (Glossary) | FAQs | Sitemap | RSS Feed | Investors\\n\\nCopyright © Network18 Media & Investments Limited. All rights reserved. Reproduction of news articles, photos, videos or any other content in whole or in part in any form or medium without express writtern permission of moneycontrol.com is prohibited.\\n\\nYou got 30 Day’s Trial of\\n\\nGrab it Now\\n\\nAd-Free Experience\\n\\nTop Articles from Financial Times\\n\\nActionable Insights\\n\\nMC Research\\n\\nEconomic Calendar'),\n",
              " Document(metadata={'source': 'https://www.moneycontrol.com/news/opinion/india-s-gst-model-is-set-to-get-more-lopsided-12883240.html'}, page_content='You got 30 Day’s Trial of\\n\\nGrab it Now\\n\\nAd-Free Experience\\n\\nTop Articles from Financial Times\\n\\nActionable Insights\\n\\nMC Research\\n\\nEconomic Calendar\\n\\n& Many More\\n\\nYou are already a Moneycontrol Pro user.\\n\\nNamrata Agarwal')]"
            ]
          },
          "metadata": {},
          "execution_count": 44
        }
      ],
      "source": [
        "text"
      ]
    },
    {
      "cell_type": "code",
      "execution_count": null,
      "metadata": {
        "colab": {
          "base_uri": "https://localhost:8080/"
        },
        "id": "IKfpcDHgymlF",
        "outputId": "7e4e70fb-26cf-4f82-f426-9c424d2e11f2"
      },
      "outputs": [
        {
          "output_type": "stream",
          "name": "stdout",
          "text": [
            "Collecting langchain-mistralai\n",
            "  Downloading langchain_mistralai-0.2.3-py3-none-any.whl.metadata (2.4 kB)\n",
            "Requirement already satisfied: httpx<1,>=0.25.2 in /usr/local/lib/python3.10/dist-packages (from langchain-mistralai) (0.28.0)\n",
            "Requirement already satisfied: httpx-sse<1,>=0.3.1 in /usr/local/lib/python3.10/dist-packages (from langchain-mistralai) (0.4.0)\n",
            "Requirement already satisfied: langchain-core<0.4.0,>=0.3.21 in /usr/local/lib/python3.10/dist-packages (from langchain-mistralai) (0.3.22)\n",
            "Requirement already satisfied: pydantic<3,>=2 in /usr/local/lib/python3.10/dist-packages (from langchain-mistralai) (2.9.2)\n",
            "Requirement already satisfied: tokenizers<1,>=0.15.1 in /usr/local/lib/python3.10/dist-packages (from langchain-mistralai) (0.20.3)\n",
            "Requirement already satisfied: anyio in /usr/local/lib/python3.10/dist-packages (from httpx<1,>=0.25.2->langchain-mistralai) (3.7.1)\n",
            "Requirement already satisfied: certifi in /usr/local/lib/python3.10/dist-packages (from httpx<1,>=0.25.2->langchain-mistralai) (2024.8.30)\n",
            "Requirement already satisfied: httpcore==1.* in /usr/local/lib/python3.10/dist-packages (from httpx<1,>=0.25.2->langchain-mistralai) (1.0.7)\n",
            "Requirement already satisfied: idna in /usr/local/lib/python3.10/dist-packages (from httpx<1,>=0.25.2->langchain-mistralai) (3.10)\n",
            "Requirement already satisfied: h11<0.15,>=0.13 in /usr/local/lib/python3.10/dist-packages (from httpcore==1.*->httpx<1,>=0.25.2->langchain-mistralai) (0.14.0)\n",
            "Requirement already satisfied: PyYAML>=5.3 in /usr/local/lib/python3.10/dist-packages (from langchain-core<0.4.0,>=0.3.21->langchain-mistralai) (6.0.2)\n",
            "Requirement already satisfied: jsonpatch<2.0,>=1.33 in /usr/local/lib/python3.10/dist-packages (from langchain-core<0.4.0,>=0.3.21->langchain-mistralai) (1.33)\n",
            "Requirement already satisfied: langsmith<0.2.0,>=0.1.125 in /usr/local/lib/python3.10/dist-packages (from langchain-core<0.4.0,>=0.3.21->langchain-mistralai) (0.1.147)\n",
            "Requirement already satisfied: packaging<25,>=23.2 in /usr/local/lib/python3.10/dist-packages (from langchain-core<0.4.0,>=0.3.21->langchain-mistralai) (24.2)\n",
            "Requirement already satisfied: tenacity!=8.4.0,<10.0.0,>=8.1.0 in /usr/local/lib/python3.10/dist-packages (from langchain-core<0.4.0,>=0.3.21->langchain-mistralai) (9.0.0)\n",
            "Requirement already satisfied: typing-extensions>=4.7 in /usr/local/lib/python3.10/dist-packages (from langchain-core<0.4.0,>=0.3.21->langchain-mistralai) (4.12.2)\n",
            "Requirement already satisfied: annotated-types>=0.6.0 in /usr/local/lib/python3.10/dist-packages (from pydantic<3,>=2->langchain-mistralai) (0.7.0)\n",
            "Requirement already satisfied: pydantic-core==2.23.4 in /usr/local/lib/python3.10/dist-packages (from pydantic<3,>=2->langchain-mistralai) (2.23.4)\n",
            "Requirement already satisfied: huggingface-hub<1.0,>=0.16.4 in /usr/local/lib/python3.10/dist-packages (from tokenizers<1,>=0.15.1->langchain-mistralai) (0.26.3)\n",
            "Requirement already satisfied: filelock in /usr/local/lib/python3.10/dist-packages (from huggingface-hub<1.0,>=0.16.4->tokenizers<1,>=0.15.1->langchain-mistralai) (3.16.1)\n",
            "Requirement already satisfied: fsspec>=2023.5.0 in /usr/local/lib/python3.10/dist-packages (from huggingface-hub<1.0,>=0.16.4->tokenizers<1,>=0.15.1->langchain-mistralai) (2024.10.0)\n",
            "Requirement already satisfied: requests in /usr/local/lib/python3.10/dist-packages (from huggingface-hub<1.0,>=0.16.4->tokenizers<1,>=0.15.1->langchain-mistralai) (2.32.3)\n",
            "Requirement already satisfied: tqdm>=4.42.1 in /usr/local/lib/python3.10/dist-packages (from huggingface-hub<1.0,>=0.16.4->tokenizers<1,>=0.15.1->langchain-mistralai) (4.66.6)\n",
            "Requirement already satisfied: jsonpointer>=1.9 in /usr/local/lib/python3.10/dist-packages (from jsonpatch<2.0,>=1.33->langchain-core<0.4.0,>=0.3.21->langchain-mistralai) (3.0.0)\n",
            "Requirement already satisfied: orjson<4.0.0,>=3.9.14 in /usr/local/lib/python3.10/dist-packages (from langsmith<0.2.0,>=0.1.125->langchain-core<0.4.0,>=0.3.21->langchain-mistralai) (3.10.12)\n",
            "Requirement already satisfied: requests-toolbelt<2.0.0,>=1.0.0 in /usr/local/lib/python3.10/dist-packages (from langsmith<0.2.0,>=0.1.125->langchain-core<0.4.0,>=0.3.21->langchain-mistralai) (1.0.0)\n",
            "Requirement already satisfied: sniffio>=1.1 in /usr/local/lib/python3.10/dist-packages (from anyio->httpx<1,>=0.25.2->langchain-mistralai) (1.3.1)\n",
            "Requirement already satisfied: exceptiongroup in /usr/local/lib/python3.10/dist-packages (from anyio->httpx<1,>=0.25.2->langchain-mistralai) (1.2.2)\n",
            "Requirement already satisfied: charset-normalizer<4,>=2 in /usr/local/lib/python3.10/dist-packages (from requests->huggingface-hub<1.0,>=0.16.4->tokenizers<1,>=0.15.1->langchain-mistralai) (3.4.0)\n",
            "Requirement already satisfied: urllib3<3,>=1.21.1 in /usr/local/lib/python3.10/dist-packages (from requests->huggingface-hub<1.0,>=0.16.4->tokenizers<1,>=0.15.1->langchain-mistralai) (2.2.3)\n",
            "Downloading langchain_mistralai-0.2.3-py3-none-any.whl (15 kB)\n",
            "Installing collected packages: langchain-mistralai\n",
            "Successfully installed langchain-mistralai-0.2.3\n"
          ]
        }
      ],
      "source": [
        "%pip install -U langchain-mistralai"
      ]
    },
    {
      "cell_type": "code",
      "execution_count": null,
      "metadata": {
        "id": "9XDDwl-wEK-Y"
      },
      "outputs": [],
      "source": [
        "from langchain_mistralai import MistralAIEmbeddings"
      ]
    },
    {
      "cell_type": "code",
      "execution_count": null,
      "metadata": {
        "id": "WJGhMDxptD4V"
      },
      "outputs": [],
      "source": [
        "from google.colab import userdata\n",
        "GOOGLE_API_KEY = userdata.get('GOOGLE_API_KEY')\n",
        "os.environ[\"GOOGLE_API_KEY\"] = GOOGLE_API_KEY"
      ]
    },
    {
      "cell_type": "code",
      "execution_count": null,
      "metadata": {
        "id": "2q4iwQrosQKt",
        "colab": {
          "base_uri": "https://localhost:8080/"
        },
        "outputId": "0147c5bc-760b-4137-9144-8a4bd97d5f5b"
      },
      "outputs": [
        {
          "output_type": "stream",
          "name": "stdout",
          "text": [
            "\u001b[?25l   \u001b[90m━━━━━━━━━━━━━━━━━━━━━━━━━━━━━━━━━━━━━━━━\u001b[0m \u001b[32m0.0/41.3 kB\u001b[0m \u001b[31m?\u001b[0m eta \u001b[36m-:--:--\u001b[0m\r\u001b[2K   \u001b[90m━━━━━━━━━━━━━━━━━━━━━━━━━━━━━━━━━━━━━━━━\u001b[0m \u001b[32m41.3/41.3 kB\u001b[0m \u001b[31m2.0 MB/s\u001b[0m eta \u001b[36m0:00:00\u001b[0m\n",
            "\u001b[?25h"
          ]
        }
      ],
      "source": [
        "!pip install -U -q langchain-google-genai"
      ]
    },
    {
      "cell_type": "code",
      "execution_count": null,
      "metadata": {
        "id": "8otmmOKYsoT5"
      },
      "outputs": [],
      "source": [
        "from langchain_google_genai import GoogleGenerativeAIEmbeddings"
      ]
    },
    {
      "cell_type": "code",
      "execution_count": null,
      "metadata": {
        "id": "DyRwXazqswLI"
      },
      "outputs": [],
      "source": [
        "embedding = GoogleGenerativeAIEmbeddings(model=\"models/embedding-001\")"
      ]
    },
    {
      "cell_type": "code",
      "execution_count": null,
      "metadata": {
        "colab": {
          "base_uri": "https://localhost:8080/"
        },
        "id": "qJNLP0P6tXa3",
        "outputId": "30415293-81f0-4b8c-d4fe-f0e15c438fbb"
      },
      "outputs": [
        {
          "output_type": "stream",
          "name": "stdout",
          "text": [
            "768\n"
          ]
        }
      ],
      "source": [
        "query = \"where is my train\"\n",
        "query_vector = embedding.embed_query(query)\n",
        "print(len(query_vector))\n"
      ]
    },
    {
      "cell_type": "code",
      "execution_count": null,
      "metadata": {
        "colab": {
          "base_uri": "https://localhost:8080/"
        },
        "id": "fwNSdPm-EV4U",
        "outputId": "3403bc73-1dc0-45ec-ffe8-179d9bfa8a85"
      },
      "outputs": [
        {
          "output_type": "stream",
          "name": "stderr",
          "text": [
            "/usr/local/lib/python3.10/dist-packages/langchain_mistralai/embeddings.py:175: UserWarning: Could not download mistral tokenizer from Huggingface for calculating batch sizes. Set a Huggingface token via the HF_TOKEN environment variable to download the real tokenizer. Falling back to a dummy tokenizer that uses `len()`.\n",
            "  warnings.warn(\n"
          ]
        }
      ],
      "source": [
        "embeddding = MistralAIEmbeddings(api_key = MISTRAL_API_KEY)"
      ]
    },
    {
      "cell_type": "code",
      "execution_count": null,
      "metadata": {
        "colab": {
          "base_uri": "https://localhost:8080/"
        },
        "id": "ZVymnKBAEiNe",
        "outputId": "6f8a75c0-3a8a-4f3d-cca7-aecb1a530b1d"
      },
      "outputs": [
        {
          "output_type": "stream",
          "name": "stdout",
          "text": [
            "[-0.0175018310546875, 0.0289154052734375, 0.0419921875, -0.0123138427734375, 0.05096435546875, 0.01496124267578125, 0.0011157989501953125, 0.0105133056640625, 0.01739501953125, 0.0004172325134277344, -0.018310546875, 0.04925537109375, -0.0233001708984375, 0.0028629302978515625, -0.0377197265625, 0.060546875, 0.00485992431640625, 0.01111602783203125, -0.008819580078125, 0.0181427001953125, -0.0102386474609375, -0.041229248046875, -0.04388427734375, 0.01334381103515625, -0.0161895751953125, 0.0465087890625, -0.0159149169921875, -0.02178955078125, -0.021728515625, -0.0281982421875, -0.01160430908203125, -0.0517578125, -0.0284423828125, -0.0218505859375, 0.04705810546875, -0.0187225341796875, 0.0244293212890625, -0.041259765625, 0.01442718505859375, -0.02691650390625, -0.012725830078125, -0.051177978515625, 0.0024776458740234375, -0.00841522216796875, 0.0274658203125, -0.06402587890625, 0.0279693603515625, -0.022491455078125, 0.00553131103515625, -0.045135498046875, -0.0110931396484375, 0.0189971923828125, 0.01312255859375, 0.040985107421875, -0.0024547576904296875, 0.0089111328125, -0.01538848876953125, -0.036895751953125, -0.05999755859375, 0.032958984375, -0.0233001708984375, -0.0064239501953125, -0.01015472412109375, -0.00894927978515625, 0.0118560791015625, 0.0035610198974609375, -0.00746917724609375, -0.07855224609375, 0.0496826171875, 0.0290069580078125, -0.006313323974609375, 0.007144927978515625, -0.037994384765625, 0.00933074951171875, -0.00473785400390625, -0.05181884765625, 0.0190887451171875, 0.0186004638671875, -0.024444580078125, -0.014312744140625, -0.01323699951171875, 0.002872467041015625, 0.061279296875, 0.01312255859375, -0.008056640625, 0.0290985107421875, -0.01296234130859375, -0.0009403228759765625, -0.03778076171875, 0.03350830078125, 0.0037784576416015625, -0.0164794921875, 0.0033016204833984375, -0.004016876220703125, 0.07586669921875, 0.047760009765625, -0.032470703125, -0.0016260147094726562, 0.0133514404296875, 0.005672454833984375, 0.01800537109375, -0.0221710205078125, 0.0867919921875, -0.0197601318359375, 0.01415252685546875, -0.034454345703125, 0.00576019287109375, 0.01325225830078125, -0.037322998046875, -0.0232391357421875, -0.100830078125, -0.013397216796875, 0.01039886474609375, -0.0178680419921875, -0.0285797119140625, -0.003246307373046875, -0.0160064697265625, 0.04193115234375, -0.027984619140625, -0.04461669921875, 0.02825927734375, 0.010589599609375, 0.045501708984375, 0.0177764892578125, -0.0166778564453125, -0.009002685546875, -0.0010442733764648438, 0.020416259765625, -0.0008673667907714844, -0.0078887939453125, -0.06768798828125, -0.02655029296875, 0.01094818115234375, -0.050140380859375, -0.0190887451171875, -0.010498046875, 0.05194091796875, 0.0180816650390625, 0.0027790069580078125, -0.01171875, 0.044708251953125, -0.0290985107421875, -0.0180816650390625, -0.00299072265625, -0.048797607421875, 0.000476837158203125, -0.047607421875, 0.0153656005859375, -0.01456451416015625, -0.0010042190551757812, -0.0008831024169921875, 0.04779052734375, 0.025482177734375, -0.0177764892578125, 0.0010099411010742188, -0.0279388427734375, 0.01515960693359375, -0.0007991790771484375, -0.02069091796875, -0.0012884140014648438, 0.0170440673828125, 0.031402587890625, -0.043701171875, 0.053497314453125, 0.01458740234375, -0.05035400390625, -0.0082550048828125, 0.023040771484375, 0.007694244384765625, 0.0071563720703125, 0.050811767578125, -0.042236328125, 0.034027099609375, 0.0682373046875, 0.025970458984375, 0.01279449462890625, 0.02197265625, -0.0011472702026367188, 0.0082550048828125, 0.0160675048828125, 0.018768310546875, 0.0158538818359375, 0.05267333984375, 0.02337646484375, 0.054962158203125, -0.022216796875, 0.0027484893798828125, 0.004741668701171875, 0.0227508544921875, 0.056488037109375, -0.01194000244140625, 0.00025963783264160156, -0.01433563232421875, 0.0267486572265625, 0.01788330078125, 0.023162841796875, 0.034637451171875, -0.0379638671875, 0.0141754150390625, -0.0280303955078125, 0.0033588409423828125, 0.0474853515625, 0.0037975311279296875, 0.0274810791015625, -0.002719879150390625, 0.0242156982421875, 0.00827789306640625, 0.046844482421875, 0.0170135498046875, 0.01047515869140625, 0.004974365234375, -0.0275115966796875, -0.042633056640625, -0.02203369140625, -0.030792236328125, -0.01253509521484375, -0.005565643310546875, -0.02545166015625, -0.0079498291015625, 0.032379150390625, -0.01251983642578125, -0.0067901611328125, -0.017822265625, 0.04339599609375, -0.018585205078125, 0.002613067626953125, -0.006740570068359375, -0.0130767822265625, 0.03082275390625, 0.006946563720703125, 0.0294952392578125, -0.0209503173828125, -0.0017147064208984375, 0.01428985595703125, 0.0120086669921875, 0.001506805419921875, 0.04962158203125, 0.05816650390625, 0.0098419189453125, 0.0002467632293701172, -0.04632568359375, 0.03472900390625, 0.03857421875, 0.0286407470703125, 0.03033447265625, -0.01302337646484375, 0.01128387451171875, 0.0039043426513671875, 0.00977325439453125, 0.0718994140625, -0.0234832763671875, -0.03936767578125, -0.03997802734375, 0.008453369140625, -0.053497314453125, -0.06512451171875, 0.01122283935546875, -0.0423583984375, 0.06256103515625, -0.014312744140625, 0.01071929931640625, -0.06353759765625, 0.00566864013671875, -0.00774383544921875, 0.0447998046875, -0.00930023193359375, -0.038360595703125, -0.001346588134765625, 0.045196533203125, 0.024749755859375, 0.021392822265625, -0.0347900390625, 0.055145263671875, -0.0172576904296875, 0.005840301513671875, 0.01629638671875, 0.028533935546875, 0.037109375, -0.020416259765625, 0.0361328125, 0.00841522216796875, 0.0218505859375, -0.01560211181640625, 0.036346435546875, -0.05474853515625, -0.0209503173828125, -0.031158447265625, 0.00817108154296875, -0.022216796875, -0.03765869140625, 0.0406494140625, 0.0350341796875, 0.00443267822265625, -0.0083465576171875, -0.00028634071350097656, -0.021636962890625, -0.01033782958984375, 0.041412353515625, -0.003955841064453125, 0.046844482421875, 0.06146240234375, 0.014434814453125, -0.0291290283203125, 0.0301055908203125, 0.0094757080078125, -0.028076171875, -0.037078857421875, 0.0053253173828125, 0.012847900390625, -0.0299530029296875, -0.031829833984375, -0.036834716796875, -0.023162841796875, 0.0623779296875, 0.03912353515625, -0.01319122314453125, -0.01458740234375, -0.0243988037109375, 0.003520965576171875, -0.012176513671875, -0.039276123046875, -0.036651611328125, 0.0426025390625, 0.0173187255859375, -0.0041046142578125, -0.012542724609375, -6.848573684692383e-05, 0.006015777587890625, 0.038818359375, -0.05450439453125, -0.00724029541015625, -0.005626678466796875, 0.023651123046875, 0.054962158203125, -0.01812744140625, 0.0012083053588867188, 0.01837158203125, -0.0040130615234375, 0.0215606689453125, 0.04962158203125, -0.019317626953125, 0.00881195068359375, -0.01470947265625, -0.006866455078125, -0.00310516357421875, -0.0185394287109375, -0.054840087890625, 0.005336761474609375, 0.046234130859375, 0.006153106689453125, 0.058624267578125, -0.0126953125, -0.00787353515625, 0.036285400390625, -0.0236053466796875, 0.0672607421875, -0.06573486328125, -0.04315185546875, -0.00922393798828125, 0.038177490234375, 0.0074310302734375, 0.01393890380859375, 0.022186279296875, 0.021484375, -0.00623321533203125, 0.01126861572265625, -0.042572021484375, 0.055328369140625, -0.01995849609375, 0.0097503662109375, 0.01207733154296875, 0.01287078857421875, 0.073486328125, -0.006435394287109375, 0.0241241455078125, -0.04803466796875, 0.0455322265625, -0.030426025390625, 0.012237548828125, 0.0158538818359375, -0.0124664306640625, 0.024200439453125, 0.033203125, -0.019317626953125, 0.00591278076171875, -0.0291900634765625, -0.058380126953125, 0.01169586181640625, -0.0185394287109375, 0.08050537109375, 0.06414794921875, 0.0421142578125, 0.01605224609375, -0.0190887451171875, 0.00577545166015625, 0.064697265625, -0.0099029541015625, 0.0274810791015625, 0.06390380859375, 0.040863037109375, -0.004505157470703125, -0.08123779296875, 0.0183258056640625, 0.00681304931640625, 0.01369476318359375, -0.005611419677734375, 0.0213623046875, 0.042572021484375, 0.01348876953125, -0.0621337890625, 0.03350830078125, 0.036834716796875, -0.012451171875, 0.003841400146484375, -0.0038928985595703125, -0.024169921875, -0.048065185546875, -0.013397216796875, 0.0064697265625, -0.031463623046875, -0.00911712646484375, -0.0081634521484375, -0.0291748046875, 0.00887298583984375, 0.040069580078125, -0.07373046875, 0.018280029296875, 0.0266571044921875, -0.005916595458984375, 0.0057830810546875, -0.00749969482421875, -0.04931640625, 0.030975341796875, -0.0401611328125, -0.057464599609375, -0.0245361328125, 0.0023021697998046875, -0.040618896484375, -0.0025272369384765625, -0.01763916015625, -0.03662109375, 0.000667572021484375, -0.00595855712890625, 0.05743408203125, -0.0123748779296875, 0.0089874267578125, 0.0509033203125, 0.00676727294921875, -0.02081298828125, -0.0289459228515625, 0.049591064453125, -0.022369384765625, -0.03363037109375, -0.017913818359375, 0.01346588134765625, -0.0025348663330078125, -0.04095458984375, -0.0301971435546875, 0.035186767578125, 0.017059326171875, 0.01221466064453125, 0.0011625289916992188, -0.050262451171875, -0.042144775390625, -0.02825927734375, 0.054595947265625, 0.0167999267578125, 0.028594970703125, -0.02435302734375, -0.00417327880859375, 0.0238494873046875, -0.03582763671875, 0.002532958984375, 0.014678955078125, 0.04412841796875, 0.0265045166015625, 0.09210205078125, 0.0175933837890625, 0.0290374755859375, -0.0240631103515625, 0.041595458984375, -0.026611328125, 0.0330810546875, -0.01447296142578125, 0.048309326171875, 0.012908935546875, -0.04559326171875, -0.07525634765625, -0.02886962890625, 0.01140594482421875, 0.0419921875, -0.00994873046875, 0.033233642578125, -0.02398681640625, -0.059112548828125, -0.0281524658203125, -0.00605010986328125, 0.001483917236328125, -0.06683349609375, 0.007457733154296875, 0.0733642578125, -0.068603515625, 0.0206298828125, 0.03656005859375, -0.0188751220703125, -0.0227203369140625, -0.0235137939453125, 0.01389312744140625, 0.033111572265625, -0.046173095703125, -0.0124664306640625, -0.04376220703125, 0.055328369140625, -0.0017175674438476562, 0.009185791015625, -0.0302276611328125, -0.004497528076171875, 0.01551055908203125, 0.0106048583984375, 0.01183319091796875, -0.03033447265625, 0.0186004638671875, -0.014892578125, -0.0206451416015625, 0.0205841064453125, 0.0167236328125, -0.0059814453125, 0.004253387451171875, -0.004154205322265625, -0.06768798828125, -0.0045013427734375, -0.0124053955078125, -0.0206146240234375, -0.0367431640625, 0.0111236572265625, 0.004856109619140625, -0.011871337890625, 0.0178070068359375, -0.01837158203125, 0.0253143310546875, -0.09423828125, -0.0059051513671875, -0.002086639404296875, 0.01496124267578125, 0.0020999908447265625, 0.01043701171875, -0.05670166015625, -0.01800537109375, 0.0318603515625, 0.0274658203125, 0.00803375244140625, -0.043853759765625, -0.04644775390625, -0.0408935546875, -0.0029506683349609375, 0.0180816650390625, -0.0268402099609375, -0.0169219970703125, 0.0019664764404296875, 0.0247650146484375, 0.049896240234375, -0.0117340087890625, 0.0732421875, 0.0498046875, 0.0467529296875, -0.0001348257064819336, 0.049041748046875, -0.01465606689453125, -0.02435302734375, -0.049407958984375, -0.0352783203125, 0.046630859375, 0.0158233642578125, 0.0038700103759765625, 0.01995849609375, 0.03753662109375, -0.0180511474609375, -0.044525146484375, 0.00800323486328125, -1.138448715209961e-05, -0.00405120849609375, 0.0277862548828125, -0.02520751953125, -0.03509521484375, 0.03717041015625, 0.00911712646484375, 0.0440673828125, 0.062408447265625, 0.008880615234375, -0.036834716796875, -0.03173828125, -0.0167388916015625, 0.01055908203125, -0.0364990234375, -0.065185546875, 0.018280029296875, -0.024261474609375, 0.01332855224609375, -0.004726409912109375, 0.07232666015625, 0.0033550262451171875, -0.02142333984375, 0.0204010009765625, 0.044158935546875, 0.0745849609375, 0.00814056396484375, -0.028594970703125, -0.004421234130859375, 0.0251617431640625, -0.0384521484375, -0.026458740234375, 0.014984130859375, 0.00754547119140625, -0.1123046875, -0.01306915283203125, -0.01033782958984375, -0.029083251953125, 0.0197296142578125, 0.01081085205078125, 0.0148468017578125, 0.026519775390625, -0.01403045654296875, -0.0472412109375, -0.05364990234375, 0.002834320068359375, -0.01538848876953125, 0.02862548828125, -0.00876617431640625, 0.006847381591796875, 0.0108795166015625, 0.0570068359375, 0.0528564453125, -0.0169219970703125, 0.058013916015625, -0.00043654441833496094, -5.704164505004883e-05, 0.021270751953125, -0.00860595703125, -0.0004451274871826172, -0.006744384765625, 0.04608154296875, 0.047149658203125, -0.006038665771484375, -0.00033092498779296875, -0.0215301513671875, -0.003475189208984375, -0.0010251998901367188, -0.0214385986328125, 0.006359100341796875, -0.0021305084228515625, 0.0306549072265625, -0.039825439453125, -0.0433349609375, 0.036834716796875, -2.9981136322021484e-05, 0.013214111328125, 0.00970458984375, 0.008880615234375, -0.0056304931640625, 0.0210723876953125, 0.00963592529296875, -0.0175323486328125, 0.034698486328125, 0.0092926025390625, -0.02130126953125, -0.05072021484375, -0.0231781005859375, 0.059173583984375, -0.04034423828125, -0.04779052734375, 0.0045013427734375, 0.0209503173828125, 0.0171356201171875, -0.04644775390625, 0.0017843246459960938, -0.0128936767578125, -0.00534820556640625, -0.01035308837890625, -0.0154876708984375, -0.040191650390625, 0.0030651092529296875, -0.00876617431640625, -0.0009927749633789062, 0.0193939208984375, -0.0142669677734375, -0.00557708740234375, 0.0088043212890625, -0.0323486328125, 0.023162841796875, -0.0219268798828125, -0.006961822509765625, 0.012847900390625, -0.0244293212890625, 0.01071929931640625, 0.058013916015625, -0.04852294921875, 0.0218963623046875, -0.0003457069396972656, -0.01192474365234375, -0.0186309814453125, 0.00850677490234375, 0.0474853515625, -0.050140380859375, 0.034088134765625, 0.059295654296875, -0.031280517578125, -0.01532745361328125, 0.020172119140625, -0.005672454833984375, -0.0153961181640625, 0.00171661376953125, -0.033447265625, -0.00666046142578125, 0.007511138916015625, 0.001903533935546875, -0.0174560546875, 0.019989013671875, -0.037353515625, 0.0207672119140625, 0.005321502685546875, -0.004547119140625, -0.024261474609375, 0.03228759765625, 0.025909423828125, -0.02435302734375, 0.006038665771484375, -0.05035400390625, -0.0494384765625, 0.0081939697265625, 0.0204925537109375, -0.01251983642578125, -0.0007309913635253906, -0.00888824462890625, 0.024017333984375, -0.0238037109375, 0.017974853515625, 0.023162841796875, -0.014190673828125, -0.049163818359375, -0.0218963623046875, -0.0221710205078125, -0.0147705078125, -0.030059814453125, 0.000782012939453125, -0.00879669189453125, -0.0125579833984375, -0.0440673828125, -0.010101318359375, -0.0239410400390625, 0.0306854248046875, -0.0184783935546875, 0.01479339599609375, 0.00013911724090576172, -0.0237884521484375, -0.0029163360595703125, 0.0200653076171875, 0.0301971435546875, 0.0214996337890625, 0.01641845703125, 0.0176239013671875, 0.01122283935546875, -0.00222015380859375, 0.0112457275390625, 0.06494140625, -0.0034732818603515625, -0.0207061767578125, -0.038818359375, -0.0231475830078125, -0.01230621337890625, -0.0221405029296875, 0.08282470703125, -0.0019779205322265625, 0.007228851318359375, -0.0791015625, 0.035736083984375, -0.0155487060546875, 0.01332855224609375, 0.047576904296875, 0.0172271728515625, -0.06396484375, -0.048248291015625, -0.017974853515625, 0.0225372314453125, -0.01092529296875, 0.0031909942626953125, -0.003704071044921875, 0.034027099609375, 0.00737762451171875, -0.005695343017578125, 0.037872314453125, 0.035064697265625, 0.031463623046875, -0.01248931884765625, 0.041107177734375, -0.0209808349609375, -0.0289154052734375, 0.005443572998046875, 0.0261993408203125, 0.007625579833984375, -0.0286865234375, 0.0264129638671875, -0.0281219482421875, 0.035247802734375, 0.04833984375, -0.0172882080078125, -0.0031223297119140625, 0.0159912109375, -0.0018491744995117188, -0.043365478515625, -0.003383636474609375, -0.0158233642578125, 0.0083465576171875, -0.0009784698486328125, 0.025726318359375, -0.04620361328125, -0.078369140625, 0.0166015625, -0.00850677490234375, -0.0423583984375, 0.03851318359375, -0.027740478515625, -0.0063018798828125, -0.051544189453125, -0.004627227783203125, 0.0274810791015625, -0.01465606689453125, -0.038909912109375, 0.01251983642578125, -0.0140380859375, 0.054931640625, 0.006969451904296875, -0.0474853515625, -0.03448486328125, -0.0217742919921875, -0.0193634033203125, 0.028167724609375, 0.0300140380859375, -0.0202178955078125, -0.00794219970703125, -0.018768310546875, -0.02130126953125, 0.019561767578125, -0.01023101806640625, 0.0214080810546875, 0.01509857177734375, 0.0311126708984375, 0.00933837890625, -0.0153656005859375, 0.027374267578125, 0.01422882080078125, -0.035552978515625, 0.0218048095703125, -0.0069580078125, 0.012542724609375, -0.0260467529296875, 0.0057525634765625, 0.024200439453125, -0.01271820068359375, -0.01201629638671875, 0.045440673828125, 0.024566650390625, -0.0204925537109375, 0.004283905029296875, -0.0175323486328125, 0.01093292236328125, 0.03900146484375, -0.0175933837890625, 0.00592803955078125, -0.038177490234375, -0.0123748779296875, -0.053558349609375, -0.093017578125, -0.0013370513916015625, 0.045257568359375, 0.028900146484375, -0.006504058837890625, 0.033538818359375, 0.0280303955078125, 0.01861572265625, 0.0150299072265625, -0.05194091796875, -0.038726806640625, 0.0208282470703125, 0.037872314453125, 0.02374267578125, -0.048065185546875, 0.0255279541015625, 0.06585693359375, 0.00041294097900390625, -0.06488037109375, -0.0224761962890625, -0.0082550048828125, 0.02044677734375, 0.0041961669921875, 0.00399017333984375, -0.050079345703125, 0.0012598037719726562, 0.019744873046875, 0.0426025390625, 0.043670654296875, -0.00653839111328125, -0.0240325927734375, 0.049530029296875, -0.0517578125, -0.006938934326171875, -0.03228759765625, 0.04364013671875, 0.020263671875, -0.03472900390625, -0.0221710205078125, 0.0509033203125, 0.039459228515625, -0.0219573974609375, 0.01763916015625, 0.04931640625, 0.005229949951171875, -0.01085662841796875, 0.0259552001953125, 0.0040283203125, 0.045867919921875, 0.013824462890625, -0.055511474609375, -0.001827239990234375, 0.0039005279541015625, 0.02642822265625, -0.0199432373046875, -0.007843017578125, -0.032012939453125, -0.020263671875, 0.044769287109375, 0.026824951171875, 0.039459228515625, 0.001605987548828125, 0.0083770751953125, -0.042083740234375, 0.0276641845703125, 0.058074951171875, 0.0224761962890625, 0.0209808349609375, 0.0033473968505859375, 0.0142669677734375, -0.0222015380859375, -0.004474639892578125, -0.0204010009765625, 0.0306549072265625, -0.019989013671875, 0.004680633544921875, -0.05303955078125, 0.006038665771484375, -0.053558349609375, -0.054107666015625, -0.0015077590942382812, -0.02557373046875, -0.0160980224609375, -0.00048732757568359375, -0.060455322265625, 0.0225830078125, 0.0165863037109375, -0.055389404296875, 0.043548583984375, 0.0504150390625, -0.042938232421875, 0.042266845703125, -0.08050537109375, 0.081787109375, 0.0238037109375, 0.039520263671875, 0.007259368896484375, -0.01336669921875, 0.050994873046875, -0.01093292236328125, 0.02581787109375, -0.00478363037109375, -0.0310516357421875, 0.00977325439453125, 0.005859375, -0.0155792236328125, -0.0396728515625, 0.0308837890625, -0.020416259765625, -0.053924560546875, 0.00543975830078125, 0.06048583984375, 0.02716064453125, -0.019683837890625, 0.0193634033203125, -0.01422119140625, -0.07452392578125, 0.07275390625, 0.04925537109375, -0.00856781005859375, 0.0121002197265625, -0.0489501953125, 0.0352783203125, -0.004669189453125, 0.0489501953125, -0.0264739990234375, 0.037750244140625, -0.01538848876953125, 0.0272064208984375, 0.03240966796875, 0.0244293212890625, -0.0175628662109375, 0.03662109375, -0.0281219482421875, -0.025726318359375, -0.0022602081298828125, 0.032012939453125, -0.0209197998046875, -0.0156402587890625, 0.057708740234375, -0.039337158203125, 0.00472259521484375, -0.030792236328125, -0.050811767578125, 0.0274658203125, 0.0299530029296875, 0.046875, -0.005695343017578125, 0.05340576171875, 0.015777587890625, 0.003269195556640625, -0.0147247314453125, -0.046722412109375]\n"
          ]
        },
        {
          "output_type": "execute_result",
          "data": {
            "text/plain": [
              "1024"
            ]
          },
          "metadata": {},
          "execution_count": 53
        }
      ],
      "source": [
        "query = \"where is my train\"\n",
        "query_vector = embeddding.embed_query(query)\n",
        "print(query_vector)\n",
        "len (query_vector)"
      ]
    },
    {
      "cell_type": "code",
      "execution_count": null,
      "metadata": {
        "colab": {
          "base_uri": "https://localhost:8080/"
        },
        "id": "mM3iCX0BEdRL",
        "outputId": "06127d6d-1430-4158-b1c7-d991a109675c"
      },
      "outputs": [
        {
          "output_type": "execute_result",
          "data": {
            "text/plain": [
              "array([[-0.01750183,  0.02891541,  0.04199219, ...,  0.0032692 ,\n",
              "        -0.01472473, -0.04672241]])"
            ]
          },
          "metadata": {},
          "execution_count": 54
        }
      ],
      "source": [
        "import numpy as np\n",
        "svec = np.array(query_vector).reshape(1,-1)\n",
        "svec.shape\n",
        "svec"
      ]
    },
    {
      "cell_type": "code",
      "execution_count": null,
      "metadata": {
        "id": "uecIGzg5F2Hm"
      },
      "outputs": [],
      "source": [
        "%pip install -q langchain-google-genai"
      ]
    },
    {
      "cell_type": "code",
      "execution_count": null,
      "metadata": {
        "id": "RmennVHkGjgf"
      },
      "outputs": [],
      "source": [
        "from langchain_core.prompts import PromptTemplate\n",
        "from langchain_mistralai import ChatMistralAI\n",
        "from langchain_google_genai import ChatGoogleGenerativeAI\n",
        "from langchain_core.messages import HumanMessage"
      ]
    },
    {
      "cell_type": "code",
      "execution_count": null,
      "metadata": {
        "id": "7vul8JesJzRO"
      },
      "outputs": [],
      "source": [
        "llm = ChatMistralAI(model = \"mistral-large-latest\" , temperature=0.5 )"
      ]
    },
    {
      "cell_type": "code",
      "execution_count": null,
      "metadata": {
        "id": "EtKHAB4SYPac"
      },
      "outputs": [],
      "source": [
        "# message =[HumanMessage(content = \"what is nvida?\")]\n",
        "# result = llm.invoke(message)\n",
        "# result"
      ]
    },
    {
      "cell_type": "code",
      "execution_count": null,
      "metadata": {
        "id": "yNWELhDhGR73"
      },
      "outputs": [],
      "source": []
    },
    {
      "cell_type": "code",
      "execution_count": null,
      "metadata": {
        "id": "mlTEWj_rGawn"
      },
      "outputs": [],
      "source": [
        "llm = ChatGoogleGenerativeAI(model=\"gemini-pro\",temperature=0.9)"
      ]
    },
    {
      "cell_type": "code",
      "execution_count": null,
      "metadata": {
        "colab": {
          "base_uri": "https://localhost:8080/",
          "height": 140
        },
        "id": "tmbegsA8bngH",
        "outputId": "c18b95d0-5aef-4796-de10-dca1d5418f74"
      },
      "outputs": [
        {
          "output_type": "execute_result",
          "data": {
            "text/plain": [
              "'**Artificial Intelligence (AI)**\\n\\nAI refers to the ability of machines to perform tasks that typically require human intelligence, such as learning, reasoning, problem-solving, and making decisions. It involves developing computer systems that can:\\n\\n**Key Characteristics of AI:**\\n\\n* **Learning:** Acquiring knowledge and improving performance over time without explicit programming.\\n* **Reasoning:** Applying logical principles to draw conclusions and make inferences.\\n* **Problem-Solving:** Identifying and addressing complex problems by generating solutions and evaluating alternatives.\\n* **Decision-Making:** Making informed decisions based on available data and knowledge.\\n* **Natural Language Processing:** Understanding, interpreting, and generating human language.\\n* **Computer Vision:** Analyzing and extracting information from images and videos.\\n* **Machine Learning:** Using algorithms to enable computers to learn from data without explicit instructions.\\n* **Robotics:** Designing and programming machines to perform physical tasks autonomously.\\n\\n**Types of AI:**\\n\\n* **Narrow AI:** Focused on a specific task or domain, such as chess-playing or spam detection.\\n* **General AI:** Hypothetical AI capable of performing any intellectual task a human can.\\n* **Super AI:** Hypothetical AI surpassing human intelligence in all cognitive abilities.\\n\\n**Applications of AI:**\\n\\n* **Healthcare:** Diagnosis, treatment, and drug discovery\\n* **Finance:** Fraud detection, risk assessment, and investment management\\n* **Transportation:** Autonomous vehicles, traffic optimization, and route planning\\n* **Manufacturing:** Automation, quality control, and predictive maintenance\\n* **Customer Service:** Chatbots, personalized recommendations, and sentiment analysis\\n* **Entertainment:** Video games, virtual reality, and music composition\\n\\n**Benefits of AI:**\\n\\n* Increased efficiency and productivity\\n* Enhanced decision-making and problem-solving\\n* Automation of tasks, freeing up human time\\n* Personalized experiences and services\\n* Innovation and technological advancements\\n\\n**Challenges of AI:**\\n\\n* Ethical considerations, such as bias, fairness, and job displacement\\n* Privacy and security concerns\\n* Limited human-like intelligence in certain areas\\n* Regulation and governance issues'"
            ],
            "application/vnd.google.colaboratory.intrinsic+json": {
              "type": "string"
            }
          },
          "metadata": {},
          "execution_count": 60
        }
      ],
      "source": [
        "message = \"what is ai\"\n",
        "result = llm.invoke(message)\n",
        "result.content"
      ]
    },
    {
      "cell_type": "code",
      "execution_count": null,
      "metadata": {
        "id": "y7ZOgpBtNLS5"
      },
      "outputs": [],
      "source": [
        "from langchain_community.vectorstores import FAISS"
      ]
    },
    {
      "cell_type": "code",
      "execution_count": null,
      "metadata": {
        "id": "bxLb63O1KaK6"
      },
      "outputs": [],
      "source": [
        "vector_index = FAISS.from_documents(text,embedding)"
      ]
    },
    {
      "cell_type": "code",
      "execution_count": null,
      "metadata": {
        "colab": {
          "base_uri": "https://localhost:8080/"
        },
        "id": "snnEJcKd2c4J",
        "outputId": "51e297ec-f88a-4051-c7e0-44ee0b06e0b2"
      },
      "outputs": [
        {
          "output_type": "execute_result",
          "data": {
            "text/plain": [
              "<langchain_community.vectorstores.faiss.FAISS at 0x7820ea20c9a0>"
            ]
          },
          "metadata": {},
          "execution_count": 63
        }
      ],
      "source": [
        "a =0.0\n",
        "a= vector_index\n",
        "vector_index"
      ]
    },
    {
      "cell_type": "code",
      "execution_count": null,
      "metadata": {
        "id": "Zqt15_xNOSQp"
      },
      "outputs": [],
      "source": [
        "from langchain.chains.qa_with_sources.retrieval import RetrievalQAWithSourcesChain"
      ]
    },
    {
      "cell_type": "code",
      "execution_count": null,
      "metadata": {
        "colab": {
          "base_uri": "https://localhost:8080/"
        },
        "id": "YDNXsZY1SFlD",
        "outputId": "c40736ce-a18c-409f-d068-238315918e0f"
      },
      "outputs": [
        {
          "output_type": "execute_result",
          "data": {
            "text/plain": [
              "RetrievalQAWithSourcesChain(verbose=False, combine_documents_chain=MapReduceDocumentsChain(verbose=False, llm_chain=LLMChain(verbose=False, prompt=PromptTemplate(input_variables=['context', 'question'], input_types={}, partial_variables={}, template='Use the following portion of a long document to see if any of the text is relevant to answer the question. \\nReturn any relevant text verbatim.\\n{context}\\nQuestion: {question}\\nRelevant text, if any:'), llm=ChatGoogleGenerativeAI(model='models/gemini-pro', google_api_key=SecretStr('**********'), temperature=0.9, client=<google.ai.generativelanguage_v1beta.services.generative_service.client.GenerativeServiceClient object at 0x7820ea52dff0>, default_metadata=()), output_parser=StrOutputParser(), llm_kwargs={}), reduce_documents_chain=ReduceDocumentsChain(verbose=False, combine_documents_chain=StuffDocumentsChain(verbose=False, llm_chain=LLMChain(verbose=False, prompt=PromptTemplate(input_variables=['question', 'summaries'], input_types={}, partial_variables={}, template='Given the following extracted parts of a long document and a question, create a final answer with references (\"SOURCES\"). \\nIf you don\\'t know the answer, just say that you don\\'t know. Don\\'t try to make up an answer.\\nALWAYS return a \"SOURCES\" part in your answer.\\n\\nQUESTION: Which state/country\\'s law governs the interpretation of the contract?\\n=========\\nContent: This Agreement is governed by English law and the parties submit to the exclusive jurisdiction of the English courts in  relation to any dispute (contractual or non-contractual) concerning this Agreement save that either party may apply to any court for an  injunction or other relief to protect its Intellectual Property Rights.\\nSource: 28-pl\\nContent: No Waiver. Failure or delay in exercising any right or remedy under this Agreement shall not constitute a waiver of such (or any other)  right or remedy.\\n\\n11.7 Severability. The invalidity, illegality or unenforceability of any term (or part of a term) of this Agreement shall not affect the continuation  in force of the remainder of the term (if any) and this Agreement.\\n\\n11.8 No Agency. Except as expressly stated otherwise, nothing in this Agreement shall create an agency, partnership or joint venture of any  kind between the parties.\\n\\n11.9 No Third-Party Beneficiaries.\\nSource: 30-pl\\nContent: (b) if Google believes, in good faith, that the Distributor has violated or caused Google to violate any Anti-Bribery Laws (as  defined in Clause 8.5) or that such a violation is reasonably likely to occur,\\nSource: 4-pl\\n=========\\nFINAL ANSWER: This Agreement is governed by English law.\\nSOURCES: 28-pl\\n\\nQUESTION: What did the president say about Michael Jackson?\\n=========\\nContent: Madam Speaker, Madam Vice President, our First Lady and Second Gentleman. Members of Congress and the Cabinet. Justices of the Supreme Court. My fellow Americans.  \\n\\nLast year COVID-19 kept us apart. This year we are finally together again. \\n\\nTonight, we meet as Democrats Republicans and Independents. But most importantly as Americans. \\n\\nWith a duty to one another to the American people to the Constitution. \\n\\nAnd with an unwavering resolve that freedom will always triumph over tyranny. \\n\\nSix days ago, Russia’s Vladimir Putin sought to shake the foundations of the free world thinking he could make it bend to his menacing ways. But he badly miscalculated. \\n\\nHe thought he could roll into Ukraine and the world would roll over. Instead he met a wall of strength he never imagined. \\n\\nHe met the Ukrainian people. \\n\\nFrom President Zelenskyy to every Ukrainian, their fearlessness, their courage, their determination, inspires the world. \\n\\nGroups of citizens blocking tanks with their bodies. Everyone from students to retirees teachers turned soldiers defending their homeland.\\nSource: 0-pl\\nContent: And we won’t stop. \\n\\nWe have lost so much to COVID-19. Time with one another. And worst of all, so much loss of life. \\n\\nLet’s use this moment to reset. Let’s stop looking at COVID-19 as a partisan dividing line and see it for what it is: A God-awful disease.  \\n\\nLet’s stop seeing each other as enemies, and start seeing each other for who we really are: Fellow Americans.  \\n\\nWe can’t change how divided we’ve been. But we can change how we move forward—on COVID-19 and other issues we must face together. \\n\\nI recently visited the New York City Police Department days after the funerals of Officer Wilbert Mora and his partner, Officer Jason Rivera. \\n\\nThey were responding to a 9-1-1 call when a man shot and killed them with a stolen gun. \\n\\nOfficer Mora was 27 years old. \\n\\nOfficer Rivera was 22. \\n\\nBoth Dominican Americans who’d grown up on the same streets they later chose to patrol as police officers. \\n\\nI spoke with their families and told them that we are forever in debt for their sacrifice, and we will carry on their mission to restore the trust and safety every community deserves.\\nSource: 24-pl\\nContent: And a proud Ukrainian people, who have known 30 years  of independence, have repeatedly shown that they will not tolerate anyone who tries to take their country backwards.  \\n\\nTo all Americans, I will be honest with you, as I’ve always promised. A Russian dictator, invading a foreign country, has costs around the world. \\n\\nAnd I’m taking robust action to make sure the pain of our sanctions  is targeted at Russia’s economy. And I will use every tool at our disposal to protect American businesses and consumers. \\n\\nTonight, I can announce that the United States has worked with 30 other countries to release 60 Million barrels of oil from reserves around the world.  \\n\\nAmerica will lead that effort, releasing 30 Million barrels from our own Strategic Petroleum Reserve. And we stand ready to do more if necessary, unified with our allies.  \\n\\nThese steps will help blunt gas prices here at home. And I know the news about what’s happening can seem alarming. \\n\\nBut I want you to know that we are going to be okay.\\nSource: 5-pl\\nContent: More support for patients and families. \\n\\nTo get there, I call on Congress to fund ARPA-H, the Advanced Research Projects Agency for Health. \\n\\nIt’s based on DARPA—the Defense Department project that led to the Internet, GPS, and so much more.  \\n\\nARPA-H will have a singular purpose—to drive breakthroughs in cancer, Alzheimer’s, diabetes, and more. \\n\\nA unity agenda for the nation. \\n\\nWe can do this. \\n\\nMy fellow Americans—tonight , we have gathered in a sacred space—the citadel of our democracy. \\n\\nIn this Capitol, generation after generation, Americans have debated great questions amid great strife, and have done great things. \\n\\nWe have fought for freedom, expanded liberty, defeated totalitarianism and terror. \\n\\nAnd built the strongest, freest, and most prosperous nation the world has ever known. \\n\\nNow is the hour. \\n\\nOur moment of responsibility. \\n\\nOur test of resolve and conscience, of history itself. \\n\\nIt is in this moment that our character is formed. Our purpose is found. Our future is forged. \\n\\nWell I know this nation.\\nSource: 34-pl\\n=========\\nFINAL ANSWER: The president did not mention Michael Jackson.\\nSOURCES:\\n\\nQUESTION: {question}\\n=========\\n{summaries}\\n=========\\nFINAL ANSWER:'), llm=ChatGoogleGenerativeAI(model='models/gemini-pro', google_api_key=SecretStr('**********'), temperature=0.9, client=<google.ai.generativelanguage_v1beta.services.generative_service.client.GenerativeServiceClient object at 0x7820ea52dff0>, default_metadata=()), output_parser=StrOutputParser(), llm_kwargs={}), document_prompt=PromptTemplate(input_variables=['page_content', 'source'], input_types={}, partial_variables={}, template='Content: {page_content}\\nSource: {source}'), document_variable_name='summaries')), document_variable_name='context'), retriever=VectorStoreRetriever(tags=['FAISS', 'GoogleGenerativeAIEmbeddings'], vectorstore=<langchain_community.vectorstores.faiss.FAISS object at 0x7820ea20c9a0>, search_kwargs={}))"
            ]
          },
          "metadata": {},
          "execution_count": 65
        }
      ],
      "source": [
        "chain = RetrievalQAWithSourcesChain.from_llm(llm=llm, retriever = vector_index.as_retriever())\n",
        "chain"
      ]
    },
    {
      "cell_type": "code",
      "execution_count": null,
      "metadata": {
        "id": "USr5Nh5p7ViC"
      },
      "outputs": [],
      "source": [
        "import langchain"
      ]
    },
    {
      "cell_type": "code",
      "execution_count": null,
      "metadata": {
        "colab": {
          "base_uri": "https://localhost:8080/"
        },
        "id": "ABVe4HTeXlAu",
        "outputId": "87b1ebe6-6731-4a34-996d-30796b7a34fb"
      },
      "outputs": [
        {
          "output_type": "stream",
          "name": "stderr",
          "text": [
            "<ipython-input-67-4bd10eacc9fe>:3: LangChainDeprecationWarning: The method `Chain.__call__` was deprecated in langchain 0.1.0 and will be removed in 1.0. Use :meth:`~invoke` instead.\n",
            "  chain({\"question\": query} , return_only_outputs=True)\n"
          ]
        },
        {
          "output_type": "stream",
          "name": "stdout",
          "text": [
            "\u001b[32;1m\u001b[1;3m[chain/start]\u001b[0m \u001b[1m[chain:RetrievalQAWithSourcesChain] Entering Chain run with input:\n",
            "\u001b[0m{\n",
            "  \"question\": \"how ai agents are used?\"\n",
            "}\n",
            "\u001b[32;1m\u001b[1;3m[chain/start]\u001b[0m \u001b[1m[chain:RetrievalQAWithSourcesChain > chain:MapReduceDocumentsChain] Entering Chain run with input:\n",
            "\u001b[0m[inputs]\n",
            "\u001b[32;1m\u001b[1;3m[chain/start]\u001b[0m \u001b[1m[chain:RetrievalQAWithSourcesChain > chain:MapReduceDocumentsChain > chain:LLMChain] Entering Chain run with input:\n",
            "\u001b[0m{\n",
            "  \"input_list\": [\n",
            "    {\n",
            "      \"context\": \"AI agents can help organizations meet this need. And they can grow in scope and scale as businesses grow, helping keep customers from taking their business elsewhere.\\n\\nAI agents can be used as virtual assistants, which use artificial intelligence and natural language processing to handle high volumes of customer service requests. By automating routine tasks, AI agents ease the workload on human agents, allowing them to focus on tasks requiring a more personal touch.\\n\\nAI-powered customer service tools like chatbots have become table stakes across every industry looking to increase efficiency and keep buyers happy. According to a recent IDC study on conversational AI, 41% of organizations use AI-powered copilots for customer service and 60% have implemented them for IT help desks.\\n\\nNow, many of those same industries are looking to adopt agentic AI, semi-autonomous tools that have the ability to perceive, reason and act on more complex problems.\\n\\nHow AI Agents Enhance Customer Service\",\n",
            "      \"question\": \"how ai agents are used?\"\n",
            "    },\n",
            "    {\n",
            "      \"context\": \"How AI Agents Enhance Customer Service\\n\\nA primary value of AI-powered systems is the time they free up by automating routine tasks. AI agents can perform specific tasks, or agentic operations, essentially becoming part of an organization’s workforce — working alongside humans who can focus on more complex customer issues.\\n\\nAI agents can handle predictive tasks and problem-solve, can be trained to understand industry-specific terms and can pull relevant information from an organization’s knowledge bases, wherever that data resides.\\n\\nWith AI agents, companies can:\\n\\nBoost efficiency: AI agents handle common questions and repetitive tasks, allowing support teams to prioritize more complicated cases. This is especially useful during high-demand periods.\\n\\nIncrease customer satisfaction: Faster, more personalized interactions result in happier and more loyal customers. Consistent and accurate support improves customer sentiment and experience.\",\n",
            "      \"question\": \"how ai agents are used?\"\n",
            "    },\n",
            "    {\n",
            "      \"context\": \"Efficiency Meets Personalization: How AI Agents Improve Customer Service\\n\\nNovember 21, 2024 by Amanda Saunders\\n\\nShare\\n\\nEmail0\\n\\nEditor’s note: This post is the first in the AI On blog series, which explores the latest techniques and real-world applications of agentic AI, chatbots and copilots. The series will also highlight the NVIDIA software and hardware powering advanced AI agents, which form the foundation of AI query engines that gather insights and perform tasks to transform everyday experiences and reshape industries.\\n\\nWhether it’s getting a complex service claim resolved or having a simple purchase inquiry answered, customers expect timely, accurate responses to their requests.\\n\\nAI agents can help organizations meet this need. And they can grow in scope and scale as businesses grow, helping keep customers from taking their business elsewhere.\",\n",
            "      \"question\": \"how ai agents are used?\"\n",
            "    },\n",
            "    {\n",
            "      \"context\": \"To improve patient care and reduce preprocedure anxiety, The Ottawa Hospital is using AI agents that have consistent, accurate and continuous access to information. The agent has the potential to improve patient care and reduce administrative tasks for doctors and nurses.\\n\\nThe city of Amarillo, Texas, uses a multilingual digital assistant named Emma to provide its residents with 24/7 support. Emma brings more effective and efficient disbursement of important information to all residents, including the one-quarter who don’t speak English.\\n\\nAI agents meet current customer service demands while preparing organizations for the future.\\n\\nKey Steps for Designing AI Virtual Assistants for Customer Support\\n\\nAI agents for customer service come in a wide range of designs, from simple text-based virtual assistants that resolve customer issues, to animated avatars that can provide a more human-like experience.\",\n",
            "      \"question\": \"how ai agents are used?\"\n",
            "    }\n",
            "  ]\n",
            "}\n",
            "\u001b[32;1m\u001b[1;3m[llm/start]\u001b[0m \u001b[1m[chain:RetrievalQAWithSourcesChain > chain:MapReduceDocumentsChain > chain:LLMChain > llm:ChatGoogleGenerativeAI] Entering LLM run with input:\n",
            "\u001b[0m{\n",
            "  \"prompts\": [\n",
            "    \"Human: Use the following portion of a long document to see if any of the text is relevant to answer the question. \\nReturn any relevant text verbatim.\\nAI agents can help organizations meet this need. And they can grow in scope and scale as businesses grow, helping keep customers from taking their business elsewhere.\\n\\nAI agents can be used as virtual assistants, which use artificial intelligence and natural language processing to handle high volumes of customer service requests. By automating routine tasks, AI agents ease the workload on human agents, allowing them to focus on tasks requiring a more personal touch.\\n\\nAI-powered customer service tools like chatbots have become table stakes across every industry looking to increase efficiency and keep buyers happy. According to a recent IDC study on conversational AI, 41% of organizations use AI-powered copilots for customer service and 60% have implemented them for IT help desks.\\n\\nNow, many of those same industries are looking to adopt agentic AI, semi-autonomous tools that have the ability to perceive, reason and act on more complex problems.\\n\\nHow AI Agents Enhance Customer Service\\nQuestion: how ai agents are used?\\nRelevant text, if any:\"\n",
            "  ]\n",
            "}\n",
            "\u001b[32;1m\u001b[1;3m[llm/start]\u001b[0m \u001b[1m[chain:RetrievalQAWithSourcesChain > chain:MapReduceDocumentsChain > chain:LLMChain > llm:ChatGoogleGenerativeAI] Entering LLM run with input:\n",
            "\u001b[0m{\n",
            "  \"prompts\": [\n",
            "    \"Human: Use the following portion of a long document to see if any of the text is relevant to answer the question. \\nReturn any relevant text verbatim.\\nHow AI Agents Enhance Customer Service\\n\\nA primary value of AI-powered systems is the time they free up by automating routine tasks. AI agents can perform specific tasks, or agentic operations, essentially becoming part of an organization’s workforce — working alongside humans who can focus on more complex customer issues.\\n\\nAI agents can handle predictive tasks and problem-solve, can be trained to understand industry-specific terms and can pull relevant information from an organization’s knowledge bases, wherever that data resides.\\n\\nWith AI agents, companies can:\\n\\nBoost efficiency: AI agents handle common questions and repetitive tasks, allowing support teams to prioritize more complicated cases. This is especially useful during high-demand periods.\\n\\nIncrease customer satisfaction: Faster, more personalized interactions result in happier and more loyal customers. Consistent and accurate support improves customer sentiment and experience.\\nQuestion: how ai agents are used?\\nRelevant text, if any:\"\n",
            "  ]\n",
            "}\n",
            "\u001b[32;1m\u001b[1;3m[llm/start]\u001b[0m \u001b[1m[chain:RetrievalQAWithSourcesChain > chain:MapReduceDocumentsChain > chain:LLMChain > llm:ChatGoogleGenerativeAI] Entering LLM run with input:\n",
            "\u001b[0m{\n",
            "  \"prompts\": [\n",
            "    \"Human: Use the following portion of a long document to see if any of the text is relevant to answer the question. \\nReturn any relevant text verbatim.\\nEfficiency Meets Personalization: How AI Agents Improve Customer Service\\n\\nNovember 21, 2024 by Amanda Saunders\\n\\nShare\\n\\nEmail0\\n\\nEditor’s note: This post is the first in the AI On blog series, which explores the latest techniques and real-world applications of agentic AI, chatbots and copilots. The series will also highlight the NVIDIA software and hardware powering advanced AI agents, which form the foundation of AI query engines that gather insights and perform tasks to transform everyday experiences and reshape industries.\\n\\nWhether it’s getting a complex service claim resolved or having a simple purchase inquiry answered, customers expect timely, accurate responses to their requests.\\n\\nAI agents can help organizations meet this need. And they can grow in scope and scale as businesses grow, helping keep customers from taking their business elsewhere.\\nQuestion: how ai agents are used?\\nRelevant text, if any:\"\n",
            "  ]\n",
            "}\n",
            "\u001b[32;1m\u001b[1;3m[llm/start]\u001b[0m \u001b[1m[chain:RetrievalQAWithSourcesChain > chain:MapReduceDocumentsChain > chain:LLMChain > llm:ChatGoogleGenerativeAI] Entering LLM run with input:\n",
            "\u001b[0m{\n",
            "  \"prompts\": [\n",
            "    \"Human: Use the following portion of a long document to see if any of the text is relevant to answer the question. \\nReturn any relevant text verbatim.\\nTo improve patient care and reduce preprocedure anxiety, The Ottawa Hospital is using AI agents that have consistent, accurate and continuous access to information. The agent has the potential to improve patient care and reduce administrative tasks for doctors and nurses.\\n\\nThe city of Amarillo, Texas, uses a multilingual digital assistant named Emma to provide its residents with 24/7 support. Emma brings more effective and efficient disbursement of important information to all residents, including the one-quarter who don’t speak English.\\n\\nAI agents meet current customer service demands while preparing organizations for the future.\\n\\nKey Steps for Designing AI Virtual Assistants for Customer Support\\n\\nAI agents for customer service come in a wide range of designs, from simple text-based virtual assistants that resolve customer issues, to animated avatars that can provide a more human-like experience.\\nQuestion: how ai agents are used?\\nRelevant text, if any:\"\n",
            "  ]\n",
            "}\n",
            "\u001b[36;1m\u001b[1;3m[llm/end]\u001b[0m \u001b[1m[chain:RetrievalQAWithSourcesChain > chain:MapReduceDocumentsChain > chain:LLMChain > llm:ChatGoogleGenerativeAI] [5.98s] Exiting LLM run with output:\n",
            "\u001b[0m{\n",
            "  \"generations\": [\n",
            "    [\n",
            "      {\n",
            "        \"text\": \"AI agents can be used as virtual assistants, which use artificial intelligence and natural language processing to handle high volumes of customer service requests. By automating routine tasks, AI agents ease the workload on human agents, allowing them to focus on tasks requiring a more personal touch.\",\n",
            "        \"generation_info\": {\n",
            "          \"finish_reason\": \"STOP\",\n",
            "          \"safety_ratings\": [\n",
            "            {\n",
            "              \"category\": \"HARM_CATEGORY_SEXUALLY_EXPLICIT\",\n",
            "              \"probability\": \"NEGLIGIBLE\",\n",
            "              \"blocked\": false\n",
            "            },\n",
            "            {\n",
            "              \"category\": \"HARM_CATEGORY_HATE_SPEECH\",\n",
            "              \"probability\": \"NEGLIGIBLE\",\n",
            "              \"blocked\": false\n",
            "            },\n",
            "            {\n",
            "              \"category\": \"HARM_CATEGORY_HARASSMENT\",\n",
            "              \"probability\": \"NEGLIGIBLE\",\n",
            "              \"blocked\": false\n",
            "            },\n",
            "            {\n",
            "              \"category\": \"HARM_CATEGORY_DANGEROUS_CONTENT\",\n",
            "              \"probability\": \"NEGLIGIBLE\",\n",
            "              \"blocked\": false\n",
            "            }\n",
            "          ]\n",
            "        },\n",
            "        \"type\": \"ChatGeneration\",\n",
            "        \"message\": {\n",
            "          \"lc\": 1,\n",
            "          \"type\": \"constructor\",\n",
            "          \"id\": [\n",
            "            \"langchain\",\n",
            "            \"schema\",\n",
            "            \"messages\",\n",
            "            \"AIMessage\"\n",
            "          ],\n",
            "          \"kwargs\": {\n",
            "            \"content\": \"AI agents can be used as virtual assistants, which use artificial intelligence and natural language processing to handle high volumes of customer service requests. By automating routine tasks, AI agents ease the workload on human agents, allowing them to focus on tasks requiring a more personal touch.\",\n",
            "            \"response_metadata\": {\n",
            "              \"prompt_feedback\": {\n",
            "                \"block_reason\": 0,\n",
            "                \"safety_ratings\": []\n",
            "              },\n",
            "              \"finish_reason\": \"STOP\",\n",
            "              \"safety_ratings\": [\n",
            "                {\n",
            "                  \"category\": \"HARM_CATEGORY_SEXUALLY_EXPLICIT\",\n",
            "                  \"probability\": \"NEGLIGIBLE\",\n",
            "                  \"blocked\": false\n",
            "                },\n",
            "                {\n",
            "                  \"category\": \"HARM_CATEGORY_HATE_SPEECH\",\n",
            "                  \"probability\": \"NEGLIGIBLE\",\n",
            "                  \"blocked\": false\n",
            "                },\n",
            "                {\n",
            "                  \"category\": \"HARM_CATEGORY_HARASSMENT\",\n",
            "                  \"probability\": \"NEGLIGIBLE\",\n",
            "                  \"blocked\": false\n",
            "                },\n",
            "                {\n",
            "                  \"category\": \"HARM_CATEGORY_DANGEROUS_CONTENT\",\n",
            "                  \"probability\": \"NEGLIGIBLE\",\n",
            "                  \"blocked\": false\n",
            "                }\n",
            "              ]\n",
            "            },\n",
            "            \"type\": \"ai\",\n",
            "            \"id\": \"run-3e6c77d7-a7cb-45b7-ad77-430e4f15b86f-0\",\n",
            "            \"usage_metadata\": {\n",
            "              \"input_tokens\": 237,\n",
            "              \"output_tokens\": 52,\n",
            "              \"total_tokens\": 289,\n",
            "              \"input_token_details\": {\n",
            "                \"cache_read\": 0\n",
            "              }\n",
            "            },\n",
            "            \"tool_calls\": [],\n",
            "            \"invalid_tool_calls\": []\n",
            "          }\n",
            "        }\n",
            "      }\n",
            "    ]\n",
            "  ],\n",
            "  \"llm_output\": {\n",
            "    \"prompt_feedback\": {\n",
            "      \"block_reason\": 0,\n",
            "      \"safety_ratings\": []\n",
            "    }\n",
            "  },\n",
            "  \"run\": null,\n",
            "  \"type\": \"LLMResult\"\n",
            "}\n",
            "\u001b[36;1m\u001b[1;3m[llm/end]\u001b[0m \u001b[1m[chain:RetrievalQAWithSourcesChain > chain:MapReduceDocumentsChain > chain:LLMChain > llm:ChatGoogleGenerativeAI] [5.98s] Exiting LLM run with output:\n",
            "\u001b[0m{\n",
            "  \"generations\": [\n",
            "    [\n",
            "      {\n",
            "        \"text\": \"AI agents can handle predictive tasks and problem-solve, can be trained to understand industry-specific terms and can pull relevant information from an organization’s knowledge bases, wherever that data resides.\",\n",
            "        \"generation_info\": {\n",
            "          \"finish_reason\": \"STOP\",\n",
            "          \"safety_ratings\": [\n",
            "            {\n",
            "              \"category\": \"HARM_CATEGORY_SEXUALLY_EXPLICIT\",\n",
            "              \"probability\": \"NEGLIGIBLE\",\n",
            "              \"blocked\": false\n",
            "            },\n",
            "            {\n",
            "              \"category\": \"HARM_CATEGORY_HATE_SPEECH\",\n",
            "              \"probability\": \"NEGLIGIBLE\",\n",
            "              \"blocked\": false\n",
            "            },\n",
            "            {\n",
            "              \"category\": \"HARM_CATEGORY_HARASSMENT\",\n",
            "              \"probability\": \"NEGLIGIBLE\",\n",
            "              \"blocked\": false\n",
            "            },\n",
            "            {\n",
            "              \"category\": \"HARM_CATEGORY_DANGEROUS_CONTENT\",\n",
            "              \"probability\": \"NEGLIGIBLE\",\n",
            "              \"blocked\": false\n",
            "            }\n",
            "          ]\n",
            "        },\n",
            "        \"type\": \"ChatGeneration\",\n",
            "        \"message\": {\n",
            "          \"lc\": 1,\n",
            "          \"type\": \"constructor\",\n",
            "          \"id\": [\n",
            "            \"langchain\",\n",
            "            \"schema\",\n",
            "            \"messages\",\n",
            "            \"AIMessage\"\n",
            "          ],\n",
            "          \"kwargs\": {\n",
            "            \"content\": \"AI agents can handle predictive tasks and problem-solve, can be trained to understand industry-specific terms and can pull relevant information from an organization’s knowledge bases, wherever that data resides.\",\n",
            "            \"response_metadata\": {\n",
            "              \"prompt_feedback\": {\n",
            "                \"block_reason\": 0,\n",
            "                \"safety_ratings\": []\n",
            "              },\n",
            "              \"finish_reason\": \"STOP\",\n",
            "              \"safety_ratings\": [\n",
            "                {\n",
            "                  \"category\": \"HARM_CATEGORY_SEXUALLY_EXPLICIT\",\n",
            "                  \"probability\": \"NEGLIGIBLE\",\n",
            "                  \"blocked\": false\n",
            "                },\n",
            "                {\n",
            "                  \"category\": \"HARM_CATEGORY_HATE_SPEECH\",\n",
            "                  \"probability\": \"NEGLIGIBLE\",\n",
            "                  \"blocked\": false\n",
            "                },\n",
            "                {\n",
            "                  \"category\": \"HARM_CATEGORY_HARASSMENT\",\n",
            "                  \"probability\": \"NEGLIGIBLE\",\n",
            "                  \"blocked\": false\n",
            "                },\n",
            "                {\n",
            "                  \"category\": \"HARM_CATEGORY_DANGEROUS_CONTENT\",\n",
            "                  \"probability\": \"NEGLIGIBLE\",\n",
            "                  \"blocked\": false\n",
            "                }\n",
            "              ]\n",
            "            },\n",
            "            \"type\": \"ai\",\n",
            "            \"id\": \"run-6bfee624-0379-4d59-b3e8-59873ff3eeae-0\",\n",
            "            \"usage_metadata\": {\n",
            "              \"input_tokens\": 215,\n",
            "              \"output_tokens\": 38,\n",
            "              \"total_tokens\": 253,\n",
            "              \"input_token_details\": {\n",
            "                \"cache_read\": 0\n",
            "              }\n",
            "            },\n",
            "            \"tool_calls\": [],\n",
            "            \"invalid_tool_calls\": []\n",
            "          }\n",
            "        }\n",
            "      }\n",
            "    ]\n",
            "  ],\n",
            "  \"llm_output\": {\n",
            "    \"prompt_feedback\": {\n",
            "      \"block_reason\": 0,\n",
            "      \"safety_ratings\": []\n",
            "    }\n",
            "  },\n",
            "  \"run\": null,\n",
            "  \"type\": \"LLMResult\"\n",
            "}\n",
            "\u001b[36;1m\u001b[1;3m[llm/end]\u001b[0m \u001b[1m[chain:RetrievalQAWithSourcesChain > chain:MapReduceDocumentsChain > chain:LLMChain > llm:ChatGoogleGenerativeAI] [5.98s] Exiting LLM run with output:\n",
            "\u001b[0m{\n",
            "  \"generations\": [\n",
            "    [\n",
            "      {\n",
            "        \"text\": \"AI agents can help organizations meet this need. And they can grow in scope and scale as businesses grow, helping keep customers from taking their business elsewhere.\",\n",
            "        \"generation_info\": {\n",
            "          \"finish_reason\": \"STOP\",\n",
            "          \"safety_ratings\": [\n",
            "            {\n",
            "              \"category\": \"HARM_CATEGORY_SEXUALLY_EXPLICIT\",\n",
            "              \"probability\": \"NEGLIGIBLE\",\n",
            "              \"blocked\": false\n",
            "            },\n",
            "            {\n",
            "              \"category\": \"HARM_CATEGORY_HATE_SPEECH\",\n",
            "              \"probability\": \"NEGLIGIBLE\",\n",
            "              \"blocked\": false\n",
            "            },\n",
            "            {\n",
            "              \"category\": \"HARM_CATEGORY_HARASSMENT\",\n",
            "              \"probability\": \"NEGLIGIBLE\",\n",
            "              \"blocked\": false\n",
            "            },\n",
            "            {\n",
            "              \"category\": \"HARM_CATEGORY_DANGEROUS_CONTENT\",\n",
            "              \"probability\": \"NEGLIGIBLE\",\n",
            "              \"blocked\": false\n",
            "            }\n",
            "          ]\n",
            "        },\n",
            "        \"type\": \"ChatGeneration\",\n",
            "        \"message\": {\n",
            "          \"lc\": 1,\n",
            "          \"type\": \"constructor\",\n",
            "          \"id\": [\n",
            "            \"langchain\",\n",
            "            \"schema\",\n",
            "            \"messages\",\n",
            "            \"AIMessage\"\n",
            "          ],\n",
            "          \"kwargs\": {\n",
            "            \"content\": \"AI agents can help organizations meet this need. And they can grow in scope and scale as businesses grow, helping keep customers from taking their business elsewhere.\",\n",
            "            \"response_metadata\": {\n",
            "              \"prompt_feedback\": {\n",
            "                \"block_reason\": 0,\n",
            "                \"safety_ratings\": []\n",
            "              },\n",
            "              \"finish_reason\": \"STOP\",\n",
            "              \"safety_ratings\": [\n",
            "                {\n",
            "                  \"category\": \"HARM_CATEGORY_SEXUALLY_EXPLICIT\",\n",
            "                  \"probability\": \"NEGLIGIBLE\",\n",
            "                  \"blocked\": false\n",
            "                },\n",
            "                {\n",
            "                  \"category\": \"HARM_CATEGORY_HATE_SPEECH\",\n",
            "                  \"probability\": \"NEGLIGIBLE\",\n",
            "                  \"blocked\": false\n",
            "                },\n",
            "                {\n",
            "                  \"category\": \"HARM_CATEGORY_HARASSMENT\",\n",
            "                  \"probability\": \"NEGLIGIBLE\",\n",
            "                  \"blocked\": false\n",
            "                },\n",
            "                {\n",
            "                  \"category\": \"HARM_CATEGORY_DANGEROUS_CONTENT\",\n",
            "                  \"probability\": \"NEGLIGIBLE\",\n",
            "                  \"blocked\": false\n",
            "                }\n",
            "              ]\n",
            "            },\n",
            "            \"type\": \"ai\",\n",
            "            \"id\": \"run-58b42605-ed0e-4d48-9a3b-c6832c40d9c0-0\",\n",
            "            \"usage_metadata\": {\n",
            "              \"input_tokens\": 214,\n",
            "              \"output_tokens\": 30,\n",
            "              \"total_tokens\": 244,\n",
            "              \"input_token_details\": {\n",
            "                \"cache_read\": 0\n",
            "              }\n",
            "            },\n",
            "            \"tool_calls\": [],\n",
            "            \"invalid_tool_calls\": []\n",
            "          }\n",
            "        }\n",
            "      }\n",
            "    ]\n",
            "  ],\n",
            "  \"llm_output\": {\n",
            "    \"prompt_feedback\": {\n",
            "      \"block_reason\": 0,\n",
            "      \"safety_ratings\": []\n",
            "    }\n",
            "  },\n",
            "  \"run\": null,\n",
            "  \"type\": \"LLMResult\"\n",
            "}\n",
            "\u001b[36;1m\u001b[1;3m[llm/end]\u001b[0m \u001b[1m[chain:RetrievalQAWithSourcesChain > chain:MapReduceDocumentsChain > chain:LLMChain > llm:ChatGoogleGenerativeAI] [5.98s] Exiting LLM run with output:\n",
            "\u001b[0m{\n",
            "  \"generations\": [\n",
            "    [\n",
            "      {\n",
            "        \"text\": \"The Ottawa Hospital is using AI agents that have consistent, accurate and continuous access to information. The agent has the potential to improve patient care and reduce administrative tasks for doctors and nurses.\\n\\nThe city of Amarillo, Texas, uses a multilingual digital assistant named Emma to provide its residents with 24/7 support. Emma brings more effective and efficient disbursement of important information to all residents, including the one-quarter who don’t speak English.\",\n",
            "        \"generation_info\": {\n",
            "          \"finish_reason\": \"STOP\",\n",
            "          \"safety_ratings\": [\n",
            "            {\n",
            "              \"category\": \"HARM_CATEGORY_SEXUALLY_EXPLICIT\",\n",
            "              \"probability\": \"NEGLIGIBLE\",\n",
            "              \"blocked\": false\n",
            "            },\n",
            "            {\n",
            "              \"category\": \"HARM_CATEGORY_HATE_SPEECH\",\n",
            "              \"probability\": \"NEGLIGIBLE\",\n",
            "              \"blocked\": false\n",
            "            },\n",
            "            {\n",
            "              \"category\": \"HARM_CATEGORY_HARASSMENT\",\n",
            "              \"probability\": \"NEGLIGIBLE\",\n",
            "              \"blocked\": false\n",
            "            },\n",
            "            {\n",
            "              \"category\": \"HARM_CATEGORY_DANGEROUS_CONTENT\",\n",
            "              \"probability\": \"NEGLIGIBLE\",\n",
            "              \"blocked\": false\n",
            "            }\n",
            "          ]\n",
            "        },\n",
            "        \"type\": \"ChatGeneration\",\n",
            "        \"message\": {\n",
            "          \"lc\": 1,\n",
            "          \"type\": \"constructor\",\n",
            "          \"id\": [\n",
            "            \"langchain\",\n",
            "            \"schema\",\n",
            "            \"messages\",\n",
            "            \"AIMessage\"\n",
            "          ],\n",
            "          \"kwargs\": {\n",
            "            \"content\": \"The Ottawa Hospital is using AI agents that have consistent, accurate and continuous access to information. The agent has the potential to improve patient care and reduce administrative tasks for doctors and nurses.\\n\\nThe city of Amarillo, Texas, uses a multilingual digital assistant named Emma to provide its residents with 24/7 support. Emma brings more effective and efficient disbursement of important information to all residents, including the one-quarter who don’t speak English.\",\n",
            "            \"response_metadata\": {\n",
            "              \"prompt_feedback\": {\n",
            "                \"block_reason\": 0,\n",
            "                \"safety_ratings\": []\n",
            "              },\n",
            "              \"finish_reason\": \"STOP\",\n",
            "              \"safety_ratings\": [\n",
            "                {\n",
            "                  \"category\": \"HARM_CATEGORY_SEXUALLY_EXPLICIT\",\n",
            "                  \"probability\": \"NEGLIGIBLE\",\n",
            "                  \"blocked\": false\n",
            "                },\n",
            "                {\n",
            "                  \"category\": \"HARM_CATEGORY_HATE_SPEECH\",\n",
            "                  \"probability\": \"NEGLIGIBLE\",\n",
            "                  \"blocked\": false\n",
            "                },\n",
            "                {\n",
            "                  \"category\": \"HARM_CATEGORY_HARASSMENT\",\n",
            "                  \"probability\": \"NEGLIGIBLE\",\n",
            "                  \"blocked\": false\n",
            "                },\n",
            "                {\n",
            "                  \"category\": \"HARM_CATEGORY_DANGEROUS_CONTENT\",\n",
            "                  \"probability\": \"NEGLIGIBLE\",\n",
            "                  \"blocked\": false\n",
            "                }\n",
            "              ]\n",
            "            },\n",
            "            \"type\": \"ai\",\n",
            "            \"id\": \"run-132ad78b-f88d-4e2d-a2c3-3346bf254b1b-0\",\n",
            "            \"usage_metadata\": {\n",
            "              \"input_tokens\": 212,\n",
            "              \"output_tokens\": 89,\n",
            "              \"total_tokens\": 301,\n",
            "              \"input_token_details\": {\n",
            "                \"cache_read\": 0\n",
            "              }\n",
            "            },\n",
            "            \"tool_calls\": [],\n",
            "            \"invalid_tool_calls\": []\n",
            "          }\n",
            "        }\n",
            "      }\n",
            "    ]\n",
            "  ],\n",
            "  \"llm_output\": {\n",
            "    \"prompt_feedback\": {\n",
            "      \"block_reason\": 0,\n",
            "      \"safety_ratings\": []\n",
            "    }\n",
            "  },\n",
            "  \"run\": null,\n",
            "  \"type\": \"LLMResult\"\n",
            "}\n",
            "\u001b[36;1m\u001b[1;3m[chain/end]\u001b[0m \u001b[1m[chain:RetrievalQAWithSourcesChain > chain:MapReduceDocumentsChain > chain:LLMChain] [5.98s] Exiting Chain run with output:\n",
            "\u001b[0m{\n",
            "  \"outputs\": [\n",
            "    {\n",
            "      \"text\": \"AI agents can be used as virtual assistants, which use artificial intelligence and natural language processing to handle high volumes of customer service requests. By automating routine tasks, AI agents ease the workload on human agents, allowing them to focus on tasks requiring a more personal touch.\"\n",
            "    },\n",
            "    {\n",
            "      \"text\": \"AI agents can handle predictive tasks and problem-solve, can be trained to understand industry-specific terms and can pull relevant information from an organization’s knowledge bases, wherever that data resides.\"\n",
            "    },\n",
            "    {\n",
            "      \"text\": \"AI agents can help organizations meet this need. And they can grow in scope and scale as businesses grow, helping keep customers from taking their business elsewhere.\"\n",
            "    },\n",
            "    {\n",
            "      \"text\": \"The Ottawa Hospital is using AI agents that have consistent, accurate and continuous access to information. The agent has the potential to improve patient care and reduce administrative tasks for doctors and nurses.\\n\\nThe city of Amarillo, Texas, uses a multilingual digital assistant named Emma to provide its residents with 24/7 support. Emma brings more effective and efficient disbursement of important information to all residents, including the one-quarter who don’t speak English.\"\n",
            "    }\n",
            "  ]\n",
            "}\n",
            "\u001b[32;1m\u001b[1;3m[chain/start]\u001b[0m \u001b[1m[chain:RetrievalQAWithSourcesChain > chain:MapReduceDocumentsChain > chain:LLMChain] Entering Chain run with input:\n",
            "\u001b[0m{\n",
            "  \"question\": \"how ai agents are used?\",\n",
            "  \"summaries\": \"Content: AI agents can be used as virtual assistants, which use artificial intelligence and natural language processing to handle high volumes of customer service requests. By automating routine tasks, AI agents ease the workload on human agents, allowing them to focus on tasks requiring a more personal touch.\\nSource: https://blogs.nvidia.com/blog/ai-agents-customer-service/\\n\\nContent: AI agents can handle predictive tasks and problem-solve, can be trained to understand industry-specific terms and can pull relevant information from an organization’s knowledge bases, wherever that data resides.\\nSource: https://blogs.nvidia.com/blog/ai-agents-customer-service/\\n\\nContent: AI agents can help organizations meet this need. And they can grow in scope and scale as businesses grow, helping keep customers from taking their business elsewhere.\\nSource: https://blogs.nvidia.com/blog/ai-agents-customer-service/\\n\\nContent: The Ottawa Hospital is using AI agents that have consistent, accurate and continuous access to information. The agent has the potential to improve patient care and reduce administrative tasks for doctors and nurses.\\n\\nThe city of Amarillo, Texas, uses a multilingual digital assistant named Emma to provide its residents with 24/7 support. Emma brings more effective and efficient disbursement of important information to all residents, including the one-quarter who don’t speak English.\\nSource: https://blogs.nvidia.com/blog/ai-agents-customer-service/\"\n",
            "}\n",
            "\u001b[32;1m\u001b[1;3m[llm/start]\u001b[0m \u001b[1m[chain:RetrievalQAWithSourcesChain > chain:MapReduceDocumentsChain > chain:LLMChain > llm:ChatGoogleGenerativeAI] Entering LLM run with input:\n",
            "\u001b[0m{\n",
            "  \"prompts\": [\n",
            "    \"Human: Given the following extracted parts of a long document and a question, create a final answer with references (\\\"SOURCES\\\"). \\nIf you don't know the answer, just say that you don't know. Don't try to make up an answer.\\nALWAYS return a \\\"SOURCES\\\" part in your answer.\\n\\nQUESTION: Which state/country's law governs the interpretation of the contract?\\n=========\\nContent: This Agreement is governed by English law and the parties submit to the exclusive jurisdiction of the English courts in  relation to any dispute (contractual or non-contractual) concerning this Agreement save that either party may apply to any court for an  injunction or other relief to protect its Intellectual Property Rights.\\nSource: 28-pl\\nContent: No Waiver. Failure or delay in exercising any right or remedy under this Agreement shall not constitute a waiver of such (or any other)  right or remedy.\\n\\n11.7 Severability. The invalidity, illegality or unenforceability of any term (or part of a term) of this Agreement shall not affect the continuation  in force of the remainder of the term (if any) and this Agreement.\\n\\n11.8 No Agency. Except as expressly stated otherwise, nothing in this Agreement shall create an agency, partnership or joint venture of any  kind between the parties.\\n\\n11.9 No Third-Party Beneficiaries.\\nSource: 30-pl\\nContent: (b) if Google believes, in good faith, that the Distributor has violated or caused Google to violate any Anti-Bribery Laws (as  defined in Clause 8.5) or that such a violation is reasonably likely to occur,\\nSource: 4-pl\\n=========\\nFINAL ANSWER: This Agreement is governed by English law.\\nSOURCES: 28-pl\\n\\nQUESTION: What did the president say about Michael Jackson?\\n=========\\nContent: Madam Speaker, Madam Vice President, our First Lady and Second Gentleman. Members of Congress and the Cabinet. Justices of the Supreme Court. My fellow Americans.  \\n\\nLast year COVID-19 kept us apart. This year we are finally together again. \\n\\nTonight, we meet as Democrats Republicans and Independents. But most importantly as Americans. \\n\\nWith a duty to one another to the American people to the Constitution. \\n\\nAnd with an unwavering resolve that freedom will always triumph over tyranny. \\n\\nSix days ago, Russia’s Vladimir Putin sought to shake the foundations of the free world thinking he could make it bend to his menacing ways. But he badly miscalculated. \\n\\nHe thought he could roll into Ukraine and the world would roll over. Instead he met a wall of strength he never imagined. \\n\\nHe met the Ukrainian people. \\n\\nFrom President Zelenskyy to every Ukrainian, their fearlessness, their courage, their determination, inspires the world. \\n\\nGroups of citizens blocking tanks with their bodies. Everyone from students to retirees teachers turned soldiers defending their homeland.\\nSource: 0-pl\\nContent: And we won’t stop. \\n\\nWe have lost so much to COVID-19. Time with one another. And worst of all, so much loss of life. \\n\\nLet’s use this moment to reset. Let’s stop looking at COVID-19 as a partisan dividing line and see it for what it is: A God-awful disease.  \\n\\nLet’s stop seeing each other as enemies, and start seeing each other for who we really are: Fellow Americans.  \\n\\nWe can’t change how divided we’ve been. But we can change how we move forward—on COVID-19 and other issues we must face together. \\n\\nI recently visited the New York City Police Department days after the funerals of Officer Wilbert Mora and his partner, Officer Jason Rivera. \\n\\nThey were responding to a 9-1-1 call when a man shot and killed them with a stolen gun. \\n\\nOfficer Mora was 27 years old. \\n\\nOfficer Rivera was 22. \\n\\nBoth Dominican Americans who’d grown up on the same streets they later chose to patrol as police officers. \\n\\nI spoke with their families and told them that we are forever in debt for their sacrifice, and we will carry on their mission to restore the trust and safety every community deserves.\\nSource: 24-pl\\nContent: And a proud Ukrainian people, who have known 30 years  of independence, have repeatedly shown that they will not tolerate anyone who tries to take their country backwards.  \\n\\nTo all Americans, I will be honest with you, as I’ve always promised. A Russian dictator, invading a foreign country, has costs around the world. \\n\\nAnd I’m taking robust action to make sure the pain of our sanctions  is targeted at Russia’s economy. And I will use every tool at our disposal to protect American businesses and consumers. \\n\\nTonight, I can announce that the United States has worked with 30 other countries to release 60 Million barrels of oil from reserves around the world.  \\n\\nAmerica will lead that effort, releasing 30 Million barrels from our own Strategic Petroleum Reserve. And we stand ready to do more if necessary, unified with our allies.  \\n\\nThese steps will help blunt gas prices here at home. And I know the news about what’s happening can seem alarming. \\n\\nBut I want you to know that we are going to be okay.\\nSource: 5-pl\\nContent: More support for patients and families. \\n\\nTo get there, I call on Congress to fund ARPA-H, the Advanced Research Projects Agency for Health. \\n\\nIt’s based on DARPA—the Defense Department project that led to the Internet, GPS, and so much more.  \\n\\nARPA-H will have a singular purpose—to drive breakthroughs in cancer, Alzheimer’s, diabetes, and more. \\n\\nA unity agenda for the nation. \\n\\nWe can do this. \\n\\nMy fellow Americans—tonight , we have gathered in a sacred space—the citadel of our democracy. \\n\\nIn this Capitol, generation after generation, Americans have debated great questions amid great strife, and have done great things. \\n\\nWe have fought for freedom, expanded liberty, defeated totalitarianism and terror. \\n\\nAnd built the strongest, freest, and most prosperous nation the world has ever known. \\n\\nNow is the hour. \\n\\nOur moment of responsibility. \\n\\nOur test of resolve and conscience, of history itself. \\n\\nIt is in this moment that our character is formed. Our purpose is found. Our future is forged. \\n\\nWell I know this nation.\\nSource: 34-pl\\n=========\\nFINAL ANSWER: The president did not mention Michael Jackson.\\nSOURCES:\\n\\nQUESTION: how ai agents are used?\\n=========\\nContent: AI agents can be used as virtual assistants, which use artificial intelligence and natural language processing to handle high volumes of customer service requests. By automating routine tasks, AI agents ease the workload on human agents, allowing them to focus on tasks requiring a more personal touch.\\nSource: https://blogs.nvidia.com/blog/ai-agents-customer-service/\\n\\nContent: AI agents can handle predictive tasks and problem-solve, can be trained to understand industry-specific terms and can pull relevant information from an organization’s knowledge bases, wherever that data resides.\\nSource: https://blogs.nvidia.com/blog/ai-agents-customer-service/\\n\\nContent: AI agents can help organizations meet this need. And they can grow in scope and scale as businesses grow, helping keep customers from taking their business elsewhere.\\nSource: https://blogs.nvidia.com/blog/ai-agents-customer-service/\\n\\nContent: The Ottawa Hospital is using AI agents that have consistent, accurate and continuous access to information. The agent has the potential to improve patient care and reduce administrative tasks for doctors and nurses.\\n\\nThe city of Amarillo, Texas, uses a multilingual digital assistant named Emma to provide its residents with 24/7 support. Emma brings more effective and efficient disbursement of important information to all residents, including the one-quarter who don’t speak English.\\nSource: https://blogs.nvidia.com/blog/ai-agents-customer-service/\\n=========\\nFINAL ANSWER:\"\n",
            "  ]\n",
            "}\n",
            "\u001b[36;1m\u001b[1;3m[llm/end]\u001b[0m \u001b[1m[chain:RetrievalQAWithSourcesChain > chain:MapReduceDocumentsChain > chain:LLMChain > llm:ChatGoogleGenerativeAI] [2.23s] Exiting LLM run with output:\n",
            "\u001b[0m{\n",
            "  \"generations\": [\n",
            "    [\n",
            "      {\n",
            "        \"text\": \"AI agents are used as virtual assistants, handle predictive tasks and problem-solve, can be trained to understand industry-specific terms and can pull relevant information from an organization’s knowledge bases. \\nSOURCES: https://blogs.nvidia.com/blog/ai-agents-customer-service/\",\n",
            "        \"generation_info\": {\n",
            "          \"finish_reason\": \"STOP\",\n",
            "          \"safety_ratings\": [\n",
            "            {\n",
            "              \"category\": \"HARM_CATEGORY_SEXUALLY_EXPLICIT\",\n",
            "              \"probability\": \"NEGLIGIBLE\",\n",
            "              \"blocked\": false\n",
            "            },\n",
            "            {\n",
            "              \"category\": \"HARM_CATEGORY_HATE_SPEECH\",\n",
            "              \"probability\": \"NEGLIGIBLE\",\n",
            "              \"blocked\": false\n",
            "            },\n",
            "            {\n",
            "              \"category\": \"HARM_CATEGORY_HARASSMENT\",\n",
            "              \"probability\": \"NEGLIGIBLE\",\n",
            "              \"blocked\": false\n",
            "            },\n",
            "            {\n",
            "              \"category\": \"HARM_CATEGORY_DANGEROUS_CONTENT\",\n",
            "              \"probability\": \"NEGLIGIBLE\",\n",
            "              \"blocked\": false\n",
            "            }\n",
            "          ]\n",
            "        },\n",
            "        \"type\": \"ChatGeneration\",\n",
            "        \"message\": {\n",
            "          \"lc\": 1,\n",
            "          \"type\": \"constructor\",\n",
            "          \"id\": [\n",
            "            \"langchain\",\n",
            "            \"schema\",\n",
            "            \"messages\",\n",
            "            \"AIMessage\"\n",
            "          ],\n",
            "          \"kwargs\": {\n",
            "            \"content\": \"AI agents are used as virtual assistants, handle predictive tasks and problem-solve, can be trained to understand industry-specific terms and can pull relevant information from an organization’s knowledge bases. \\nSOURCES: https://blogs.nvidia.com/blog/ai-agents-customer-service/\",\n",
            "            \"response_metadata\": {\n",
            "              \"prompt_feedback\": {\n",
            "                \"block_reason\": 0,\n",
            "                \"safety_ratings\": []\n",
            "              },\n",
            "              \"finish_reason\": \"STOP\",\n",
            "              \"safety_ratings\": [\n",
            "                {\n",
            "                  \"category\": \"HARM_CATEGORY_SEXUALLY_EXPLICIT\",\n",
            "                  \"probability\": \"NEGLIGIBLE\",\n",
            "                  \"blocked\": false\n",
            "                },\n",
            "                {\n",
            "                  \"category\": \"HARM_CATEGORY_HATE_SPEECH\",\n",
            "                  \"probability\": \"NEGLIGIBLE\",\n",
            "                  \"blocked\": false\n",
            "                },\n",
            "                {\n",
            "                  \"category\": \"HARM_CATEGORY_HARASSMENT\",\n",
            "                  \"probability\": \"NEGLIGIBLE\",\n",
            "                  \"blocked\": false\n",
            "                },\n",
            "                {\n",
            "                  \"category\": \"HARM_CATEGORY_DANGEROUS_CONTENT\",\n",
            "                  \"probability\": \"NEGLIGIBLE\",\n",
            "                  \"blocked\": false\n",
            "                }\n",
            "              ]\n",
            "            },\n",
            "            \"type\": \"ai\",\n",
            "            \"id\": \"run-0178816a-0335-4def-acb8-c30cc617144d-0\",\n",
            "            \"usage_metadata\": {\n",
            "              \"input_tokens\": 1736,\n",
            "              \"output_tokens\": 60,\n",
            "              \"total_tokens\": 1796,\n",
            "              \"input_token_details\": {\n",
            "                \"cache_read\": 0\n",
            "              }\n",
            "            },\n",
            "            \"tool_calls\": [],\n",
            "            \"invalid_tool_calls\": []\n",
            "          }\n",
            "        }\n",
            "      }\n",
            "    ]\n",
            "  ],\n",
            "  \"llm_output\": {\n",
            "    \"prompt_feedback\": {\n",
            "      \"block_reason\": 0,\n",
            "      \"safety_ratings\": []\n",
            "    }\n",
            "  },\n",
            "  \"run\": null,\n",
            "  \"type\": \"LLMResult\"\n",
            "}\n",
            "\u001b[36;1m\u001b[1;3m[chain/end]\u001b[0m \u001b[1m[chain:RetrievalQAWithSourcesChain > chain:MapReduceDocumentsChain > chain:LLMChain] [2.24s] Exiting Chain run with output:\n",
            "\u001b[0m{\n",
            "  \"text\": \"AI agents are used as virtual assistants, handle predictive tasks and problem-solve, can be trained to understand industry-specific terms and can pull relevant information from an organization’s knowledge bases. \\nSOURCES: https://blogs.nvidia.com/blog/ai-agents-customer-service/\"\n",
            "}\n",
            "\u001b[36;1m\u001b[1;3m[chain/end]\u001b[0m \u001b[1m[chain:RetrievalQAWithSourcesChain > chain:MapReduceDocumentsChain] [8.42s] Exiting Chain run with output:\n",
            "\u001b[0m{\n",
            "  \"output_text\": \"AI agents are used as virtual assistants, handle predictive tasks and problem-solve, can be trained to understand industry-specific terms and can pull relevant information from an organization’s knowledge bases. \\nSOURCES: https://blogs.nvidia.com/blog/ai-agents-customer-service/\"\n",
            "}\n",
            "\u001b[36;1m\u001b[1;3m[chain/end]\u001b[0m \u001b[1m[chain:RetrievalQAWithSourcesChain] [8.82s] Exiting Chain run with output:\n",
            "\u001b[0m{\n",
            "  \"answer\": \"AI agents are used as virtual assistants, handle predictive tasks and problem-solve, can be trained to understand industry-specific terms and can pull relevant information from an organization’s knowledge bases. \\n\",\n",
            "  \"sources\": \"https://blogs.nvidia.com/blog/ai-agents-customer-service/\"\n",
            "}\n"
          ]
        },
        {
          "output_type": "execute_result",
          "data": {
            "text/plain": [
              "{'answer': 'AI agents are used as virtual assistants, handle predictive tasks and problem-solve, can be trained to understand industry-specific terms and can pull relevant information from an organization’s knowledge bases. \\n',\n",
              " 'sources': 'https://blogs.nvidia.com/blog/ai-agents-customer-service/'}"
            ]
          },
          "metadata": {},
          "execution_count": 67
        }
      ],
      "source": [
        "query = \"how ai agents are used?\"\n",
        "langchain.debug = True\n",
        "chain({\"question\": query} , return_only_outputs=True)"
      ]
    },
    {
      "cell_type": "code",
      "execution_count": null,
      "metadata": {
        "id": "1kCuBTKWQW3R",
        "colab": {
          "base_uri": "https://localhost:8080/"
        },
        "outputId": "d1f1142e-5f81-4b04-a633-910042753d1c"
      },
      "outputs": [
        {
          "output_type": "stream",
          "name": "stdout",
          "text": [
            "\u001b[2K     \u001b[90m━━━━━━━━━━━━━━━━━━━━━━━━━━━━━━━━━━━━━━━━\u001b[0m \u001b[32m44.3/44.3 kB\u001b[0m \u001b[31m3.3 MB/s\u001b[0m eta \u001b[36m0:00:00\u001b[0m\n",
            "\u001b[2K   \u001b[90m━━━━━━━━━━━━━━━━━━━━━━━━━━━━━━━━━━━━━━━━\u001b[0m \u001b[32m8.6/8.6 MB\u001b[0m \u001b[31m30.8 MB/s\u001b[0m eta \u001b[36m0:00:00\u001b[0m\n",
            "\u001b[2K   \u001b[90m━━━━━━━━━━━━━━━━━━━━━━━━━━━━━━━━━━━━━━━━\u001b[0m \u001b[32m6.9/6.9 MB\u001b[0m \u001b[31m39.0 MB/s\u001b[0m eta \u001b[36m0:00:00\u001b[0m\n",
            "\u001b[2K   \u001b[90m━━━━━━━━━━━━━━━━━━━━━━━━━━━━━━━━━━━━━━━━\u001b[0m \u001b[32m79.1/79.1 kB\u001b[0m \u001b[31m5.4 MB/s\u001b[0m eta \u001b[36m0:00:00\u001b[0m\n",
            "\u001b[?25h"
          ]
        }
      ],
      "source": [
        "!pip install -U -q Streamlit"
      ]
    },
    {
      "cell_type": "code",
      "execution_count": null,
      "metadata": {
        "id": "C_OjRSnzQgRk"
      },
      "outputs": [],
      "source": [
        "import streamlit as st\n"
      ]
    },
    {
      "cell_type": "code",
      "execution_count": null,
      "metadata": {
        "colab": {
          "base_uri": "https://localhost:8080/"
        },
        "id": "jKILrzbORdzE",
        "outputId": "ee005f21-6562-458b-f4a5-8aac9baabd8d"
      },
      "outputs": [
        {
          "output_type": "stream",
          "name": "stdout",
          "text": [
            "35.197.138.187\n"
          ]
        }
      ],
      "source": [
        "! wget -q -O - ipv4.icanhazip.com"
      ]
    },
    {
      "cell_type": "code",
      "execution_count": null,
      "metadata": {
        "colab": {
          "base_uri": "https://localhost:8080/"
        },
        "id": "AA_sjadFScxl",
        "outputId": "618465a8-b592-490f-a261-881273c8772d"
      },
      "outputs": [
        {
          "metadata": {
            "tags": null
          },
          "name": "stdout",
          "output_type": "stream",
          "text": [
            "Usage: streamlit run [OPTIONS] TARGET [ARGS]...\n",
            "Try 'streamlit run --help' for help.\n",
            "\n",
            "Error: Invalid value: File does not exist: app.py\n",
            "\u001b[1G\u001b[0K⠙\u001b[1G\u001b[0K⠹\u001b[1G\u001b[0K⠸\u001b[1G\u001b[0K⠼\u001b[1G\u001b[0K⠴\u001b[1G\u001b[0K\u001b[1G\u001b[0JNeed to install the following packages:\n",
            "localtunnel@2.0.2\n",
            "Ok to proceed? (y) \u001b[20G"
          ]
        }
      ],
      "source": [
        "\n",
        "! streamlit run app.py & npx localtunnel --port 8501"
      ]
    }
  ],
  "metadata": {
    "accelerator": "GPU",
    "colab": {
      "gpuType": "T4",
      "provenance": []
    },
    "kernelspec": {
      "display_name": "Python 3",
      "name": "python3"
    },
    "language_info": {
      "name": "python"
    },
    "widgets": {
      "application/vnd.jupyter.widget-state+json": {
        "486d98d935fa4a94bd7b5327a64949a4": {
          "model_module": "@jupyter-widgets/controls",
          "model_name": "HBoxModel",
          "model_module_version": "1.5.0",
          "state": {
            "_dom_classes": [],
            "_model_module": "@jupyter-widgets/controls",
            "_model_module_version": "1.5.0",
            "_model_name": "HBoxModel",
            "_view_count": null,
            "_view_module": "@jupyter-widgets/controls",
            "_view_module_version": "1.5.0",
            "_view_name": "HBoxView",
            "box_style": "",
            "children": [
              "IPY_MODEL_791f2336db5c4481a71af4abd7b1300d",
              "IPY_MODEL_ca2a9db2755846a0b959c4f0bdb7ed51",
              "IPY_MODEL_35eecd6d2cab49f0b856df6fa1eae728"
            ],
            "layout": "IPY_MODEL_682fa33ad61f42cf9cb94546d5bfe349"
          }
        },
        "791f2336db5c4481a71af4abd7b1300d": {
          "model_module": "@jupyter-widgets/controls",
          "model_name": "HTMLModel",
          "model_module_version": "1.5.0",
          "state": {
            "_dom_classes": [],
            "_model_module": "@jupyter-widgets/controls",
            "_model_module_version": "1.5.0",
            "_model_name": "HTMLModel",
            "_view_count": null,
            "_view_module": "@jupyter-widgets/controls",
            "_view_module_version": "1.5.0",
            "_view_name": "HTMLView",
            "description": "",
            "description_tooltip": null,
            "layout": "IPY_MODEL_c0afc68c656b43e2a528dc5f474b0c89",
            "placeholder": "​",
            "style": "IPY_MODEL_d5167f3a1cfd447ea8731b19892e4aef",
            "value": "modules.json: 100%"
          }
        },
        "ca2a9db2755846a0b959c4f0bdb7ed51": {
          "model_module": "@jupyter-widgets/controls",
          "model_name": "FloatProgressModel",
          "model_module_version": "1.5.0",
          "state": {
            "_dom_classes": [],
            "_model_module": "@jupyter-widgets/controls",
            "_model_module_version": "1.5.0",
            "_model_name": "FloatProgressModel",
            "_view_count": null,
            "_view_module": "@jupyter-widgets/controls",
            "_view_module_version": "1.5.0",
            "_view_name": "ProgressView",
            "bar_style": "success",
            "description": "",
            "description_tooltip": null,
            "layout": "IPY_MODEL_dab0367e614c458d8440f95f752134fe",
            "max": 229,
            "min": 0,
            "orientation": "horizontal",
            "style": "IPY_MODEL_fcc178156a074cc2b5075ba6a9851ee8",
            "value": 229
          }
        },
        "35eecd6d2cab49f0b856df6fa1eae728": {
          "model_module": "@jupyter-widgets/controls",
          "model_name": "HTMLModel",
          "model_module_version": "1.5.0",
          "state": {
            "_dom_classes": [],
            "_model_module": "@jupyter-widgets/controls",
            "_model_module_version": "1.5.0",
            "_model_name": "HTMLModel",
            "_view_count": null,
            "_view_module": "@jupyter-widgets/controls",
            "_view_module_version": "1.5.0",
            "_view_name": "HTMLView",
            "description": "",
            "description_tooltip": null,
            "layout": "IPY_MODEL_e5df1f418e384023baa020ab543b9a3a",
            "placeholder": "​",
            "style": "IPY_MODEL_238ae3a12dbb4bd4b77efcace6b75847",
            "value": " 229/229 [00:00&lt;00:00, 11.9kB/s]"
          }
        },
        "682fa33ad61f42cf9cb94546d5bfe349": {
          "model_module": "@jupyter-widgets/base",
          "model_name": "LayoutModel",
          "model_module_version": "1.2.0",
          "state": {
            "_model_module": "@jupyter-widgets/base",
            "_model_module_version": "1.2.0",
            "_model_name": "LayoutModel",
            "_view_count": null,
            "_view_module": "@jupyter-widgets/base",
            "_view_module_version": "1.2.0",
            "_view_name": "LayoutView",
            "align_content": null,
            "align_items": null,
            "align_self": null,
            "border": null,
            "bottom": null,
            "display": null,
            "flex": null,
            "flex_flow": null,
            "grid_area": null,
            "grid_auto_columns": null,
            "grid_auto_flow": null,
            "grid_auto_rows": null,
            "grid_column": null,
            "grid_gap": null,
            "grid_row": null,
            "grid_template_areas": null,
            "grid_template_columns": null,
            "grid_template_rows": null,
            "height": null,
            "justify_content": null,
            "justify_items": null,
            "left": null,
            "margin": null,
            "max_height": null,
            "max_width": null,
            "min_height": null,
            "min_width": null,
            "object_fit": null,
            "object_position": null,
            "order": null,
            "overflow": null,
            "overflow_x": null,
            "overflow_y": null,
            "padding": null,
            "right": null,
            "top": null,
            "visibility": null,
            "width": null
          }
        },
        "c0afc68c656b43e2a528dc5f474b0c89": {
          "model_module": "@jupyter-widgets/base",
          "model_name": "LayoutModel",
          "model_module_version": "1.2.0",
          "state": {
            "_model_module": "@jupyter-widgets/base",
            "_model_module_version": "1.2.0",
            "_model_name": "LayoutModel",
            "_view_count": null,
            "_view_module": "@jupyter-widgets/base",
            "_view_module_version": "1.2.0",
            "_view_name": "LayoutView",
            "align_content": null,
            "align_items": null,
            "align_self": null,
            "border": null,
            "bottom": null,
            "display": null,
            "flex": null,
            "flex_flow": null,
            "grid_area": null,
            "grid_auto_columns": null,
            "grid_auto_flow": null,
            "grid_auto_rows": null,
            "grid_column": null,
            "grid_gap": null,
            "grid_row": null,
            "grid_template_areas": null,
            "grid_template_columns": null,
            "grid_template_rows": null,
            "height": null,
            "justify_content": null,
            "justify_items": null,
            "left": null,
            "margin": null,
            "max_height": null,
            "max_width": null,
            "min_height": null,
            "min_width": null,
            "object_fit": null,
            "object_position": null,
            "order": null,
            "overflow": null,
            "overflow_x": null,
            "overflow_y": null,
            "padding": null,
            "right": null,
            "top": null,
            "visibility": null,
            "width": null
          }
        },
        "d5167f3a1cfd447ea8731b19892e4aef": {
          "model_module": "@jupyter-widgets/controls",
          "model_name": "DescriptionStyleModel",
          "model_module_version": "1.5.0",
          "state": {
            "_model_module": "@jupyter-widgets/controls",
            "_model_module_version": "1.5.0",
            "_model_name": "DescriptionStyleModel",
            "_view_count": null,
            "_view_module": "@jupyter-widgets/base",
            "_view_module_version": "1.2.0",
            "_view_name": "StyleView",
            "description_width": ""
          }
        },
        "dab0367e614c458d8440f95f752134fe": {
          "model_module": "@jupyter-widgets/base",
          "model_name": "LayoutModel",
          "model_module_version": "1.2.0",
          "state": {
            "_model_module": "@jupyter-widgets/base",
            "_model_module_version": "1.2.0",
            "_model_name": "LayoutModel",
            "_view_count": null,
            "_view_module": "@jupyter-widgets/base",
            "_view_module_version": "1.2.0",
            "_view_name": "LayoutView",
            "align_content": null,
            "align_items": null,
            "align_self": null,
            "border": null,
            "bottom": null,
            "display": null,
            "flex": null,
            "flex_flow": null,
            "grid_area": null,
            "grid_auto_columns": null,
            "grid_auto_flow": null,
            "grid_auto_rows": null,
            "grid_column": null,
            "grid_gap": null,
            "grid_row": null,
            "grid_template_areas": null,
            "grid_template_columns": null,
            "grid_template_rows": null,
            "height": null,
            "justify_content": null,
            "justify_items": null,
            "left": null,
            "margin": null,
            "max_height": null,
            "max_width": null,
            "min_height": null,
            "min_width": null,
            "object_fit": null,
            "object_position": null,
            "order": null,
            "overflow": null,
            "overflow_x": null,
            "overflow_y": null,
            "padding": null,
            "right": null,
            "top": null,
            "visibility": null,
            "width": null
          }
        },
        "fcc178156a074cc2b5075ba6a9851ee8": {
          "model_module": "@jupyter-widgets/controls",
          "model_name": "ProgressStyleModel",
          "model_module_version": "1.5.0",
          "state": {
            "_model_module": "@jupyter-widgets/controls",
            "_model_module_version": "1.5.0",
            "_model_name": "ProgressStyleModel",
            "_view_count": null,
            "_view_module": "@jupyter-widgets/base",
            "_view_module_version": "1.2.0",
            "_view_name": "StyleView",
            "bar_color": null,
            "description_width": ""
          }
        },
        "e5df1f418e384023baa020ab543b9a3a": {
          "model_module": "@jupyter-widgets/base",
          "model_name": "LayoutModel",
          "model_module_version": "1.2.0",
          "state": {
            "_model_module": "@jupyter-widgets/base",
            "_model_module_version": "1.2.0",
            "_model_name": "LayoutModel",
            "_view_count": null,
            "_view_module": "@jupyter-widgets/base",
            "_view_module_version": "1.2.0",
            "_view_name": "LayoutView",
            "align_content": null,
            "align_items": null,
            "align_self": null,
            "border": null,
            "bottom": null,
            "display": null,
            "flex": null,
            "flex_flow": null,
            "grid_area": null,
            "grid_auto_columns": null,
            "grid_auto_flow": null,
            "grid_auto_rows": null,
            "grid_column": null,
            "grid_gap": null,
            "grid_row": null,
            "grid_template_areas": null,
            "grid_template_columns": null,
            "grid_template_rows": null,
            "height": null,
            "justify_content": null,
            "justify_items": null,
            "left": null,
            "margin": null,
            "max_height": null,
            "max_width": null,
            "min_height": null,
            "min_width": null,
            "object_fit": null,
            "object_position": null,
            "order": null,
            "overflow": null,
            "overflow_x": null,
            "overflow_y": null,
            "padding": null,
            "right": null,
            "top": null,
            "visibility": null,
            "width": null
          }
        },
        "238ae3a12dbb4bd4b77efcace6b75847": {
          "model_module": "@jupyter-widgets/controls",
          "model_name": "DescriptionStyleModel",
          "model_module_version": "1.5.0",
          "state": {
            "_model_module": "@jupyter-widgets/controls",
            "_model_module_version": "1.5.0",
            "_model_name": "DescriptionStyleModel",
            "_view_count": null,
            "_view_module": "@jupyter-widgets/base",
            "_view_module_version": "1.2.0",
            "_view_name": "StyleView",
            "description_width": ""
          }
        },
        "b102758ad4154bd59e10285a908f8da5": {
          "model_module": "@jupyter-widgets/controls",
          "model_name": "HBoxModel",
          "model_module_version": "1.5.0",
          "state": {
            "_dom_classes": [],
            "_model_module": "@jupyter-widgets/controls",
            "_model_module_version": "1.5.0",
            "_model_name": "HBoxModel",
            "_view_count": null,
            "_view_module": "@jupyter-widgets/controls",
            "_view_module_version": "1.5.0",
            "_view_name": "HBoxView",
            "box_style": "",
            "children": [
              "IPY_MODEL_81e9e41890564b5d90353e864e9c3ccc",
              "IPY_MODEL_7fe47150093647cea6923d655009a737",
              "IPY_MODEL_f84ee4ffe4204c6a96596a5106ec023a"
            ],
            "layout": "IPY_MODEL_ba539c4be32a4570b08f763f7b0e9e83"
          }
        },
        "81e9e41890564b5d90353e864e9c3ccc": {
          "model_module": "@jupyter-widgets/controls",
          "model_name": "HTMLModel",
          "model_module_version": "1.5.0",
          "state": {
            "_dom_classes": [],
            "_model_module": "@jupyter-widgets/controls",
            "_model_module_version": "1.5.0",
            "_model_name": "HTMLModel",
            "_view_count": null,
            "_view_module": "@jupyter-widgets/controls",
            "_view_module_version": "1.5.0",
            "_view_name": "HTMLView",
            "description": "",
            "description_tooltip": null,
            "layout": "IPY_MODEL_48e013c6a10f477fa3d7f8ca48d30e3d",
            "placeholder": "​",
            "style": "IPY_MODEL_e7901d300db143c5afd0f6d9fde615d7",
            "value": "config_sentence_transformers.json: 100%"
          }
        },
        "7fe47150093647cea6923d655009a737": {
          "model_module": "@jupyter-widgets/controls",
          "model_name": "FloatProgressModel",
          "model_module_version": "1.5.0",
          "state": {
            "_dom_classes": [],
            "_model_module": "@jupyter-widgets/controls",
            "_model_module_version": "1.5.0",
            "_model_name": "FloatProgressModel",
            "_view_count": null,
            "_view_module": "@jupyter-widgets/controls",
            "_view_module_version": "1.5.0",
            "_view_name": "ProgressView",
            "bar_style": "success",
            "description": "",
            "description_tooltip": null,
            "layout": "IPY_MODEL_a824c921ff1b4e3d89d052eba18b5ca3",
            "max": 122,
            "min": 0,
            "orientation": "horizontal",
            "style": "IPY_MODEL_913271be4ac348aa879a525668a7ea7b",
            "value": 122
          }
        },
        "f84ee4ffe4204c6a96596a5106ec023a": {
          "model_module": "@jupyter-widgets/controls",
          "model_name": "HTMLModel",
          "model_module_version": "1.5.0",
          "state": {
            "_dom_classes": [],
            "_model_module": "@jupyter-widgets/controls",
            "_model_module_version": "1.5.0",
            "_model_name": "HTMLModel",
            "_view_count": null,
            "_view_module": "@jupyter-widgets/controls",
            "_view_module_version": "1.5.0",
            "_view_name": "HTMLView",
            "description": "",
            "description_tooltip": null,
            "layout": "IPY_MODEL_d308dc81ac8049b98e19d18babe0ca43",
            "placeholder": "​",
            "style": "IPY_MODEL_53d5cafe492d436db351a45e7bc832aa",
            "value": " 122/122 [00:00&lt;00:00, 5.38kB/s]"
          }
        },
        "ba539c4be32a4570b08f763f7b0e9e83": {
          "model_module": "@jupyter-widgets/base",
          "model_name": "LayoutModel",
          "model_module_version": "1.2.0",
          "state": {
            "_model_module": "@jupyter-widgets/base",
            "_model_module_version": "1.2.0",
            "_model_name": "LayoutModel",
            "_view_count": null,
            "_view_module": "@jupyter-widgets/base",
            "_view_module_version": "1.2.0",
            "_view_name": "LayoutView",
            "align_content": null,
            "align_items": null,
            "align_self": null,
            "border": null,
            "bottom": null,
            "display": null,
            "flex": null,
            "flex_flow": null,
            "grid_area": null,
            "grid_auto_columns": null,
            "grid_auto_flow": null,
            "grid_auto_rows": null,
            "grid_column": null,
            "grid_gap": null,
            "grid_row": null,
            "grid_template_areas": null,
            "grid_template_columns": null,
            "grid_template_rows": null,
            "height": null,
            "justify_content": null,
            "justify_items": null,
            "left": null,
            "margin": null,
            "max_height": null,
            "max_width": null,
            "min_height": null,
            "min_width": null,
            "object_fit": null,
            "object_position": null,
            "order": null,
            "overflow": null,
            "overflow_x": null,
            "overflow_y": null,
            "padding": null,
            "right": null,
            "top": null,
            "visibility": null,
            "width": null
          }
        },
        "48e013c6a10f477fa3d7f8ca48d30e3d": {
          "model_module": "@jupyter-widgets/base",
          "model_name": "LayoutModel",
          "model_module_version": "1.2.0",
          "state": {
            "_model_module": "@jupyter-widgets/base",
            "_model_module_version": "1.2.0",
            "_model_name": "LayoutModel",
            "_view_count": null,
            "_view_module": "@jupyter-widgets/base",
            "_view_module_version": "1.2.0",
            "_view_name": "LayoutView",
            "align_content": null,
            "align_items": null,
            "align_self": null,
            "border": null,
            "bottom": null,
            "display": null,
            "flex": null,
            "flex_flow": null,
            "grid_area": null,
            "grid_auto_columns": null,
            "grid_auto_flow": null,
            "grid_auto_rows": null,
            "grid_column": null,
            "grid_gap": null,
            "grid_row": null,
            "grid_template_areas": null,
            "grid_template_columns": null,
            "grid_template_rows": null,
            "height": null,
            "justify_content": null,
            "justify_items": null,
            "left": null,
            "margin": null,
            "max_height": null,
            "max_width": null,
            "min_height": null,
            "min_width": null,
            "object_fit": null,
            "object_position": null,
            "order": null,
            "overflow": null,
            "overflow_x": null,
            "overflow_y": null,
            "padding": null,
            "right": null,
            "top": null,
            "visibility": null,
            "width": null
          }
        },
        "e7901d300db143c5afd0f6d9fde615d7": {
          "model_module": "@jupyter-widgets/controls",
          "model_name": "DescriptionStyleModel",
          "model_module_version": "1.5.0",
          "state": {
            "_model_module": "@jupyter-widgets/controls",
            "_model_module_version": "1.5.0",
            "_model_name": "DescriptionStyleModel",
            "_view_count": null,
            "_view_module": "@jupyter-widgets/base",
            "_view_module_version": "1.2.0",
            "_view_name": "StyleView",
            "description_width": ""
          }
        },
        "a824c921ff1b4e3d89d052eba18b5ca3": {
          "model_module": "@jupyter-widgets/base",
          "model_name": "LayoutModel",
          "model_module_version": "1.2.0",
          "state": {
            "_model_module": "@jupyter-widgets/base",
            "_model_module_version": "1.2.0",
            "_model_name": "LayoutModel",
            "_view_count": null,
            "_view_module": "@jupyter-widgets/base",
            "_view_module_version": "1.2.0",
            "_view_name": "LayoutView",
            "align_content": null,
            "align_items": null,
            "align_self": null,
            "border": null,
            "bottom": null,
            "display": null,
            "flex": null,
            "flex_flow": null,
            "grid_area": null,
            "grid_auto_columns": null,
            "grid_auto_flow": null,
            "grid_auto_rows": null,
            "grid_column": null,
            "grid_gap": null,
            "grid_row": null,
            "grid_template_areas": null,
            "grid_template_columns": null,
            "grid_template_rows": null,
            "height": null,
            "justify_content": null,
            "justify_items": null,
            "left": null,
            "margin": null,
            "max_height": null,
            "max_width": null,
            "min_height": null,
            "min_width": null,
            "object_fit": null,
            "object_position": null,
            "order": null,
            "overflow": null,
            "overflow_x": null,
            "overflow_y": null,
            "padding": null,
            "right": null,
            "top": null,
            "visibility": null,
            "width": null
          }
        },
        "913271be4ac348aa879a525668a7ea7b": {
          "model_module": "@jupyter-widgets/controls",
          "model_name": "ProgressStyleModel",
          "model_module_version": "1.5.0",
          "state": {
            "_model_module": "@jupyter-widgets/controls",
            "_model_module_version": "1.5.0",
            "_model_name": "ProgressStyleModel",
            "_view_count": null,
            "_view_module": "@jupyter-widgets/base",
            "_view_module_version": "1.2.0",
            "_view_name": "StyleView",
            "bar_color": null,
            "description_width": ""
          }
        },
        "d308dc81ac8049b98e19d18babe0ca43": {
          "model_module": "@jupyter-widgets/base",
          "model_name": "LayoutModel",
          "model_module_version": "1.2.0",
          "state": {
            "_model_module": "@jupyter-widgets/base",
            "_model_module_version": "1.2.0",
            "_model_name": "LayoutModel",
            "_view_count": null,
            "_view_module": "@jupyter-widgets/base",
            "_view_module_version": "1.2.0",
            "_view_name": "LayoutView",
            "align_content": null,
            "align_items": null,
            "align_self": null,
            "border": null,
            "bottom": null,
            "display": null,
            "flex": null,
            "flex_flow": null,
            "grid_area": null,
            "grid_auto_columns": null,
            "grid_auto_flow": null,
            "grid_auto_rows": null,
            "grid_column": null,
            "grid_gap": null,
            "grid_row": null,
            "grid_template_areas": null,
            "grid_template_columns": null,
            "grid_template_rows": null,
            "height": null,
            "justify_content": null,
            "justify_items": null,
            "left": null,
            "margin": null,
            "max_height": null,
            "max_width": null,
            "min_height": null,
            "min_width": null,
            "object_fit": null,
            "object_position": null,
            "order": null,
            "overflow": null,
            "overflow_x": null,
            "overflow_y": null,
            "padding": null,
            "right": null,
            "top": null,
            "visibility": null,
            "width": null
          }
        },
        "53d5cafe492d436db351a45e7bc832aa": {
          "model_module": "@jupyter-widgets/controls",
          "model_name": "DescriptionStyleModel",
          "model_module_version": "1.5.0",
          "state": {
            "_model_module": "@jupyter-widgets/controls",
            "_model_module_version": "1.5.0",
            "_model_name": "DescriptionStyleModel",
            "_view_count": null,
            "_view_module": "@jupyter-widgets/base",
            "_view_module_version": "1.2.0",
            "_view_name": "StyleView",
            "description_width": ""
          }
        },
        "20d0dad4d0a442f08edbe8898907713b": {
          "model_module": "@jupyter-widgets/controls",
          "model_name": "HBoxModel",
          "model_module_version": "1.5.0",
          "state": {
            "_dom_classes": [],
            "_model_module": "@jupyter-widgets/controls",
            "_model_module_version": "1.5.0",
            "_model_name": "HBoxModel",
            "_view_count": null,
            "_view_module": "@jupyter-widgets/controls",
            "_view_module_version": "1.5.0",
            "_view_name": "HBoxView",
            "box_style": "",
            "children": [
              "IPY_MODEL_c5170280a7eb481999bbc8cbc724aae2",
              "IPY_MODEL_ce0cd0bc410240ef89523700560ec7be",
              "IPY_MODEL_973a481df4754cd599556bbe19026675"
            ],
            "layout": "IPY_MODEL_e66080f7d0d24c109d6075b691c4d9d9"
          }
        },
        "c5170280a7eb481999bbc8cbc724aae2": {
          "model_module": "@jupyter-widgets/controls",
          "model_name": "HTMLModel",
          "model_module_version": "1.5.0",
          "state": {
            "_dom_classes": [],
            "_model_module": "@jupyter-widgets/controls",
            "_model_module_version": "1.5.0",
            "_model_name": "HTMLModel",
            "_view_count": null,
            "_view_module": "@jupyter-widgets/controls",
            "_view_module_version": "1.5.0",
            "_view_name": "HTMLView",
            "description": "",
            "description_tooltip": null,
            "layout": "IPY_MODEL_6987bf0bf1934b0b8a6b0a812e8b44f7",
            "placeholder": "​",
            "style": "IPY_MODEL_ab79539c452345aab8a65ae947fb0a53",
            "value": "README.md: 100%"
          }
        },
        "ce0cd0bc410240ef89523700560ec7be": {
          "model_module": "@jupyter-widgets/controls",
          "model_name": "FloatProgressModel",
          "model_module_version": "1.5.0",
          "state": {
            "_dom_classes": [],
            "_model_module": "@jupyter-widgets/controls",
            "_model_module_version": "1.5.0",
            "_model_name": "FloatProgressModel",
            "_view_count": null,
            "_view_module": "@jupyter-widgets/controls",
            "_view_module_version": "1.5.0",
            "_view_name": "ProgressView",
            "bar_style": "success",
            "description": "",
            "description_tooltip": null,
            "layout": "IPY_MODEL_afe3343b328f4b50b6db973f91d8684f",
            "max": 3729,
            "min": 0,
            "orientation": "horizontal",
            "style": "IPY_MODEL_e9e97495b6a4497186366059142105f5",
            "value": 3729
          }
        },
        "973a481df4754cd599556bbe19026675": {
          "model_module": "@jupyter-widgets/controls",
          "model_name": "HTMLModel",
          "model_module_version": "1.5.0",
          "state": {
            "_dom_classes": [],
            "_model_module": "@jupyter-widgets/controls",
            "_model_module_version": "1.5.0",
            "_model_name": "HTMLModel",
            "_view_count": null,
            "_view_module": "@jupyter-widgets/controls",
            "_view_module_version": "1.5.0",
            "_view_name": "HTMLView",
            "description": "",
            "description_tooltip": null,
            "layout": "IPY_MODEL_54f9a3c8441141fdb5f1132cf418498e",
            "placeholder": "​",
            "style": "IPY_MODEL_4affd4780cf545f6aa1e9bf07c63c845",
            "value": " 3.73k/3.73k [00:00&lt;00:00, 158kB/s]"
          }
        },
        "e66080f7d0d24c109d6075b691c4d9d9": {
          "model_module": "@jupyter-widgets/base",
          "model_name": "LayoutModel",
          "model_module_version": "1.2.0",
          "state": {
            "_model_module": "@jupyter-widgets/base",
            "_model_module_version": "1.2.0",
            "_model_name": "LayoutModel",
            "_view_count": null,
            "_view_module": "@jupyter-widgets/base",
            "_view_module_version": "1.2.0",
            "_view_name": "LayoutView",
            "align_content": null,
            "align_items": null,
            "align_self": null,
            "border": null,
            "bottom": null,
            "display": null,
            "flex": null,
            "flex_flow": null,
            "grid_area": null,
            "grid_auto_columns": null,
            "grid_auto_flow": null,
            "grid_auto_rows": null,
            "grid_column": null,
            "grid_gap": null,
            "grid_row": null,
            "grid_template_areas": null,
            "grid_template_columns": null,
            "grid_template_rows": null,
            "height": null,
            "justify_content": null,
            "justify_items": null,
            "left": null,
            "margin": null,
            "max_height": null,
            "max_width": null,
            "min_height": null,
            "min_width": null,
            "object_fit": null,
            "object_position": null,
            "order": null,
            "overflow": null,
            "overflow_x": null,
            "overflow_y": null,
            "padding": null,
            "right": null,
            "top": null,
            "visibility": null,
            "width": null
          }
        },
        "6987bf0bf1934b0b8a6b0a812e8b44f7": {
          "model_module": "@jupyter-widgets/base",
          "model_name": "LayoutModel",
          "model_module_version": "1.2.0",
          "state": {
            "_model_module": "@jupyter-widgets/base",
            "_model_module_version": "1.2.0",
            "_model_name": "LayoutModel",
            "_view_count": null,
            "_view_module": "@jupyter-widgets/base",
            "_view_module_version": "1.2.0",
            "_view_name": "LayoutView",
            "align_content": null,
            "align_items": null,
            "align_self": null,
            "border": null,
            "bottom": null,
            "display": null,
            "flex": null,
            "flex_flow": null,
            "grid_area": null,
            "grid_auto_columns": null,
            "grid_auto_flow": null,
            "grid_auto_rows": null,
            "grid_column": null,
            "grid_gap": null,
            "grid_row": null,
            "grid_template_areas": null,
            "grid_template_columns": null,
            "grid_template_rows": null,
            "height": null,
            "justify_content": null,
            "justify_items": null,
            "left": null,
            "margin": null,
            "max_height": null,
            "max_width": null,
            "min_height": null,
            "min_width": null,
            "object_fit": null,
            "object_position": null,
            "order": null,
            "overflow": null,
            "overflow_x": null,
            "overflow_y": null,
            "padding": null,
            "right": null,
            "top": null,
            "visibility": null,
            "width": null
          }
        },
        "ab79539c452345aab8a65ae947fb0a53": {
          "model_module": "@jupyter-widgets/controls",
          "model_name": "DescriptionStyleModel",
          "model_module_version": "1.5.0",
          "state": {
            "_model_module": "@jupyter-widgets/controls",
            "_model_module_version": "1.5.0",
            "_model_name": "DescriptionStyleModel",
            "_view_count": null,
            "_view_module": "@jupyter-widgets/base",
            "_view_module_version": "1.2.0",
            "_view_name": "StyleView",
            "description_width": ""
          }
        },
        "afe3343b328f4b50b6db973f91d8684f": {
          "model_module": "@jupyter-widgets/base",
          "model_name": "LayoutModel",
          "model_module_version": "1.2.0",
          "state": {
            "_model_module": "@jupyter-widgets/base",
            "_model_module_version": "1.2.0",
            "_model_name": "LayoutModel",
            "_view_count": null,
            "_view_module": "@jupyter-widgets/base",
            "_view_module_version": "1.2.0",
            "_view_name": "LayoutView",
            "align_content": null,
            "align_items": null,
            "align_self": null,
            "border": null,
            "bottom": null,
            "display": null,
            "flex": null,
            "flex_flow": null,
            "grid_area": null,
            "grid_auto_columns": null,
            "grid_auto_flow": null,
            "grid_auto_rows": null,
            "grid_column": null,
            "grid_gap": null,
            "grid_row": null,
            "grid_template_areas": null,
            "grid_template_columns": null,
            "grid_template_rows": null,
            "height": null,
            "justify_content": null,
            "justify_items": null,
            "left": null,
            "margin": null,
            "max_height": null,
            "max_width": null,
            "min_height": null,
            "min_width": null,
            "object_fit": null,
            "object_position": null,
            "order": null,
            "overflow": null,
            "overflow_x": null,
            "overflow_y": null,
            "padding": null,
            "right": null,
            "top": null,
            "visibility": null,
            "width": null
          }
        },
        "e9e97495b6a4497186366059142105f5": {
          "model_module": "@jupyter-widgets/controls",
          "model_name": "ProgressStyleModel",
          "model_module_version": "1.5.0",
          "state": {
            "_model_module": "@jupyter-widgets/controls",
            "_model_module_version": "1.5.0",
            "_model_name": "ProgressStyleModel",
            "_view_count": null,
            "_view_module": "@jupyter-widgets/base",
            "_view_module_version": "1.2.0",
            "_view_name": "StyleView",
            "bar_color": null,
            "description_width": ""
          }
        },
        "54f9a3c8441141fdb5f1132cf418498e": {
          "model_module": "@jupyter-widgets/base",
          "model_name": "LayoutModel",
          "model_module_version": "1.2.0",
          "state": {
            "_model_module": "@jupyter-widgets/base",
            "_model_module_version": "1.2.0",
            "_model_name": "LayoutModel",
            "_view_count": null,
            "_view_module": "@jupyter-widgets/base",
            "_view_module_version": "1.2.0",
            "_view_name": "LayoutView",
            "align_content": null,
            "align_items": null,
            "align_self": null,
            "border": null,
            "bottom": null,
            "display": null,
            "flex": null,
            "flex_flow": null,
            "grid_area": null,
            "grid_auto_columns": null,
            "grid_auto_flow": null,
            "grid_auto_rows": null,
            "grid_column": null,
            "grid_gap": null,
            "grid_row": null,
            "grid_template_areas": null,
            "grid_template_columns": null,
            "grid_template_rows": null,
            "height": null,
            "justify_content": null,
            "justify_items": null,
            "left": null,
            "margin": null,
            "max_height": null,
            "max_width": null,
            "min_height": null,
            "min_width": null,
            "object_fit": null,
            "object_position": null,
            "order": null,
            "overflow": null,
            "overflow_x": null,
            "overflow_y": null,
            "padding": null,
            "right": null,
            "top": null,
            "visibility": null,
            "width": null
          }
        },
        "4affd4780cf545f6aa1e9bf07c63c845": {
          "model_module": "@jupyter-widgets/controls",
          "model_name": "DescriptionStyleModel",
          "model_module_version": "1.5.0",
          "state": {
            "_model_module": "@jupyter-widgets/controls",
            "_model_module_version": "1.5.0",
            "_model_name": "DescriptionStyleModel",
            "_view_count": null,
            "_view_module": "@jupyter-widgets/base",
            "_view_module_version": "1.2.0",
            "_view_name": "StyleView",
            "description_width": ""
          }
        },
        "c098288ea1f644e0a955a49fb372eafd": {
          "model_module": "@jupyter-widgets/controls",
          "model_name": "HBoxModel",
          "model_module_version": "1.5.0",
          "state": {
            "_dom_classes": [],
            "_model_module": "@jupyter-widgets/controls",
            "_model_module_version": "1.5.0",
            "_model_name": "HBoxModel",
            "_view_count": null,
            "_view_module": "@jupyter-widgets/controls",
            "_view_module_version": "1.5.0",
            "_view_name": "HBoxView",
            "box_style": "",
            "children": [
              "IPY_MODEL_5cb4c1aa8a3446738f2c93d511f3ca39",
              "IPY_MODEL_e1f5b980525f4865b3a804ac2c3df991",
              "IPY_MODEL_8157d55f5a0e4ba7819e5541d0f93428"
            ],
            "layout": "IPY_MODEL_de885e7507454084afea98741aa485d4"
          }
        },
        "5cb4c1aa8a3446738f2c93d511f3ca39": {
          "model_module": "@jupyter-widgets/controls",
          "model_name": "HTMLModel",
          "model_module_version": "1.5.0",
          "state": {
            "_dom_classes": [],
            "_model_module": "@jupyter-widgets/controls",
            "_model_module_version": "1.5.0",
            "_model_name": "HTMLModel",
            "_view_count": null,
            "_view_module": "@jupyter-widgets/controls",
            "_view_module_version": "1.5.0",
            "_view_name": "HTMLView",
            "description": "",
            "description_tooltip": null,
            "layout": "IPY_MODEL_eb695d2772104964a064d87e11f42e96",
            "placeholder": "​",
            "style": "IPY_MODEL_9817b08b700b409f867af72e40f9db01",
            "value": "sentence_bert_config.json: 100%"
          }
        },
        "e1f5b980525f4865b3a804ac2c3df991": {
          "model_module": "@jupyter-widgets/controls",
          "model_name": "FloatProgressModel",
          "model_module_version": "1.5.0",
          "state": {
            "_dom_classes": [],
            "_model_module": "@jupyter-widgets/controls",
            "_model_module_version": "1.5.0",
            "_model_name": "FloatProgressModel",
            "_view_count": null,
            "_view_module": "@jupyter-widgets/controls",
            "_view_module_version": "1.5.0",
            "_view_name": "ProgressView",
            "bar_style": "success",
            "description": "",
            "description_tooltip": null,
            "layout": "IPY_MODEL_a7a350a814fd41aa967c27c23de763c0",
            "max": 53,
            "min": 0,
            "orientation": "horizontal",
            "style": "IPY_MODEL_2c2aa8dc79df4319bf45c5eeba80b38c",
            "value": 53
          }
        },
        "8157d55f5a0e4ba7819e5541d0f93428": {
          "model_module": "@jupyter-widgets/controls",
          "model_name": "HTMLModel",
          "model_module_version": "1.5.0",
          "state": {
            "_dom_classes": [],
            "_model_module": "@jupyter-widgets/controls",
            "_model_module_version": "1.5.0",
            "_model_name": "HTMLModel",
            "_view_count": null,
            "_view_module": "@jupyter-widgets/controls",
            "_view_module_version": "1.5.0",
            "_view_name": "HTMLView",
            "description": "",
            "description_tooltip": null,
            "layout": "IPY_MODEL_5ff6a39a86c545f9ac7ad7a086af7ffe",
            "placeholder": "​",
            "style": "IPY_MODEL_56377f56d3134496beef2bb9c01762a7",
            "value": " 53.0/53.0 [00:00&lt;00:00, 2.32kB/s]"
          }
        },
        "de885e7507454084afea98741aa485d4": {
          "model_module": "@jupyter-widgets/base",
          "model_name": "LayoutModel",
          "model_module_version": "1.2.0",
          "state": {
            "_model_module": "@jupyter-widgets/base",
            "_model_module_version": "1.2.0",
            "_model_name": "LayoutModel",
            "_view_count": null,
            "_view_module": "@jupyter-widgets/base",
            "_view_module_version": "1.2.0",
            "_view_name": "LayoutView",
            "align_content": null,
            "align_items": null,
            "align_self": null,
            "border": null,
            "bottom": null,
            "display": null,
            "flex": null,
            "flex_flow": null,
            "grid_area": null,
            "grid_auto_columns": null,
            "grid_auto_flow": null,
            "grid_auto_rows": null,
            "grid_column": null,
            "grid_gap": null,
            "grid_row": null,
            "grid_template_areas": null,
            "grid_template_columns": null,
            "grid_template_rows": null,
            "height": null,
            "justify_content": null,
            "justify_items": null,
            "left": null,
            "margin": null,
            "max_height": null,
            "max_width": null,
            "min_height": null,
            "min_width": null,
            "object_fit": null,
            "object_position": null,
            "order": null,
            "overflow": null,
            "overflow_x": null,
            "overflow_y": null,
            "padding": null,
            "right": null,
            "top": null,
            "visibility": null,
            "width": null
          }
        },
        "eb695d2772104964a064d87e11f42e96": {
          "model_module": "@jupyter-widgets/base",
          "model_name": "LayoutModel",
          "model_module_version": "1.2.0",
          "state": {
            "_model_module": "@jupyter-widgets/base",
            "_model_module_version": "1.2.0",
            "_model_name": "LayoutModel",
            "_view_count": null,
            "_view_module": "@jupyter-widgets/base",
            "_view_module_version": "1.2.0",
            "_view_name": "LayoutView",
            "align_content": null,
            "align_items": null,
            "align_self": null,
            "border": null,
            "bottom": null,
            "display": null,
            "flex": null,
            "flex_flow": null,
            "grid_area": null,
            "grid_auto_columns": null,
            "grid_auto_flow": null,
            "grid_auto_rows": null,
            "grid_column": null,
            "grid_gap": null,
            "grid_row": null,
            "grid_template_areas": null,
            "grid_template_columns": null,
            "grid_template_rows": null,
            "height": null,
            "justify_content": null,
            "justify_items": null,
            "left": null,
            "margin": null,
            "max_height": null,
            "max_width": null,
            "min_height": null,
            "min_width": null,
            "object_fit": null,
            "object_position": null,
            "order": null,
            "overflow": null,
            "overflow_x": null,
            "overflow_y": null,
            "padding": null,
            "right": null,
            "top": null,
            "visibility": null,
            "width": null
          }
        },
        "9817b08b700b409f867af72e40f9db01": {
          "model_module": "@jupyter-widgets/controls",
          "model_name": "DescriptionStyleModel",
          "model_module_version": "1.5.0",
          "state": {
            "_model_module": "@jupyter-widgets/controls",
            "_model_module_version": "1.5.0",
            "_model_name": "DescriptionStyleModel",
            "_view_count": null,
            "_view_module": "@jupyter-widgets/base",
            "_view_module_version": "1.2.0",
            "_view_name": "StyleView",
            "description_width": ""
          }
        },
        "a7a350a814fd41aa967c27c23de763c0": {
          "model_module": "@jupyter-widgets/base",
          "model_name": "LayoutModel",
          "model_module_version": "1.2.0",
          "state": {
            "_model_module": "@jupyter-widgets/base",
            "_model_module_version": "1.2.0",
            "_model_name": "LayoutModel",
            "_view_count": null,
            "_view_module": "@jupyter-widgets/base",
            "_view_module_version": "1.2.0",
            "_view_name": "LayoutView",
            "align_content": null,
            "align_items": null,
            "align_self": null,
            "border": null,
            "bottom": null,
            "display": null,
            "flex": null,
            "flex_flow": null,
            "grid_area": null,
            "grid_auto_columns": null,
            "grid_auto_flow": null,
            "grid_auto_rows": null,
            "grid_column": null,
            "grid_gap": null,
            "grid_row": null,
            "grid_template_areas": null,
            "grid_template_columns": null,
            "grid_template_rows": null,
            "height": null,
            "justify_content": null,
            "justify_items": null,
            "left": null,
            "margin": null,
            "max_height": null,
            "max_width": null,
            "min_height": null,
            "min_width": null,
            "object_fit": null,
            "object_position": null,
            "order": null,
            "overflow": null,
            "overflow_x": null,
            "overflow_y": null,
            "padding": null,
            "right": null,
            "top": null,
            "visibility": null,
            "width": null
          }
        },
        "2c2aa8dc79df4319bf45c5eeba80b38c": {
          "model_module": "@jupyter-widgets/controls",
          "model_name": "ProgressStyleModel",
          "model_module_version": "1.5.0",
          "state": {
            "_model_module": "@jupyter-widgets/controls",
            "_model_module_version": "1.5.0",
            "_model_name": "ProgressStyleModel",
            "_view_count": null,
            "_view_module": "@jupyter-widgets/base",
            "_view_module_version": "1.2.0",
            "_view_name": "StyleView",
            "bar_color": null,
            "description_width": ""
          }
        },
        "5ff6a39a86c545f9ac7ad7a086af7ffe": {
          "model_module": "@jupyter-widgets/base",
          "model_name": "LayoutModel",
          "model_module_version": "1.2.0",
          "state": {
            "_model_module": "@jupyter-widgets/base",
            "_model_module_version": "1.2.0",
            "_model_name": "LayoutModel",
            "_view_count": null,
            "_view_module": "@jupyter-widgets/base",
            "_view_module_version": "1.2.0",
            "_view_name": "LayoutView",
            "align_content": null,
            "align_items": null,
            "align_self": null,
            "border": null,
            "bottom": null,
            "display": null,
            "flex": null,
            "flex_flow": null,
            "grid_area": null,
            "grid_auto_columns": null,
            "grid_auto_flow": null,
            "grid_auto_rows": null,
            "grid_column": null,
            "grid_gap": null,
            "grid_row": null,
            "grid_template_areas": null,
            "grid_template_columns": null,
            "grid_template_rows": null,
            "height": null,
            "justify_content": null,
            "justify_items": null,
            "left": null,
            "margin": null,
            "max_height": null,
            "max_width": null,
            "min_height": null,
            "min_width": null,
            "object_fit": null,
            "object_position": null,
            "order": null,
            "overflow": null,
            "overflow_x": null,
            "overflow_y": null,
            "padding": null,
            "right": null,
            "top": null,
            "visibility": null,
            "width": null
          }
        },
        "56377f56d3134496beef2bb9c01762a7": {
          "model_module": "@jupyter-widgets/controls",
          "model_name": "DescriptionStyleModel",
          "model_module_version": "1.5.0",
          "state": {
            "_model_module": "@jupyter-widgets/controls",
            "_model_module_version": "1.5.0",
            "_model_name": "DescriptionStyleModel",
            "_view_count": null,
            "_view_module": "@jupyter-widgets/base",
            "_view_module_version": "1.2.0",
            "_view_name": "StyleView",
            "description_width": ""
          }
        },
        "9f272db94ec0476b98c2ab2f94fcd1a7": {
          "model_module": "@jupyter-widgets/controls",
          "model_name": "HBoxModel",
          "model_module_version": "1.5.0",
          "state": {
            "_dom_classes": [],
            "_model_module": "@jupyter-widgets/controls",
            "_model_module_version": "1.5.0",
            "_model_name": "HBoxModel",
            "_view_count": null,
            "_view_module": "@jupyter-widgets/controls",
            "_view_module_version": "1.5.0",
            "_view_name": "HBoxView",
            "box_style": "",
            "children": [
              "IPY_MODEL_c0302579dd40458f9b8958e2e0671ab3",
              "IPY_MODEL_29db3c9164a141a0a0f12ab052470eff",
              "IPY_MODEL_d60b94de64514c50803c371cede302a7"
            ],
            "layout": "IPY_MODEL_358ba68aa35c416d8dcccfabf8d4e8ee"
          }
        },
        "c0302579dd40458f9b8958e2e0671ab3": {
          "model_module": "@jupyter-widgets/controls",
          "model_name": "HTMLModel",
          "model_module_version": "1.5.0",
          "state": {
            "_dom_classes": [],
            "_model_module": "@jupyter-widgets/controls",
            "_model_module_version": "1.5.0",
            "_model_name": "HTMLModel",
            "_view_count": null,
            "_view_module": "@jupyter-widgets/controls",
            "_view_module_version": "1.5.0",
            "_view_name": "HTMLView",
            "description": "",
            "description_tooltip": null,
            "layout": "IPY_MODEL_362ec1685aba41ab8fed556f2596feeb",
            "placeholder": "​",
            "style": "IPY_MODEL_a9b04d57a90d480a93bddc108a8f2923",
            "value": "config.json: 100%"
          }
        },
        "29db3c9164a141a0a0f12ab052470eff": {
          "model_module": "@jupyter-widgets/controls",
          "model_name": "FloatProgressModel",
          "model_module_version": "1.5.0",
          "state": {
            "_dom_classes": [],
            "_model_module": "@jupyter-widgets/controls",
            "_model_module_version": "1.5.0",
            "_model_name": "FloatProgressModel",
            "_view_count": null,
            "_view_module": "@jupyter-widgets/controls",
            "_view_module_version": "1.5.0",
            "_view_name": "ProgressView",
            "bar_style": "success",
            "description": "",
            "description_tooltip": null,
            "layout": "IPY_MODEL_004e6a4daf474ecebf37682635d52067",
            "max": 629,
            "min": 0,
            "orientation": "horizontal",
            "style": "IPY_MODEL_be411211d9474531832edaec0b2adac8",
            "value": 629
          }
        },
        "d60b94de64514c50803c371cede302a7": {
          "model_module": "@jupyter-widgets/controls",
          "model_name": "HTMLModel",
          "model_module_version": "1.5.0",
          "state": {
            "_dom_classes": [],
            "_model_module": "@jupyter-widgets/controls",
            "_model_module_version": "1.5.0",
            "_model_name": "HTMLModel",
            "_view_count": null,
            "_view_module": "@jupyter-widgets/controls",
            "_view_module_version": "1.5.0",
            "_view_name": "HTMLView",
            "description": "",
            "description_tooltip": null,
            "layout": "IPY_MODEL_5989edb9f3214399b273e54c086283a8",
            "placeholder": "​",
            "style": "IPY_MODEL_c4f8071d5a954b308e6add370faaec7c",
            "value": " 629/629 [00:00&lt;00:00, 25.5kB/s]"
          }
        },
        "358ba68aa35c416d8dcccfabf8d4e8ee": {
          "model_module": "@jupyter-widgets/base",
          "model_name": "LayoutModel",
          "model_module_version": "1.2.0",
          "state": {
            "_model_module": "@jupyter-widgets/base",
            "_model_module_version": "1.2.0",
            "_model_name": "LayoutModel",
            "_view_count": null,
            "_view_module": "@jupyter-widgets/base",
            "_view_module_version": "1.2.0",
            "_view_name": "LayoutView",
            "align_content": null,
            "align_items": null,
            "align_self": null,
            "border": null,
            "bottom": null,
            "display": null,
            "flex": null,
            "flex_flow": null,
            "grid_area": null,
            "grid_auto_columns": null,
            "grid_auto_flow": null,
            "grid_auto_rows": null,
            "grid_column": null,
            "grid_gap": null,
            "grid_row": null,
            "grid_template_areas": null,
            "grid_template_columns": null,
            "grid_template_rows": null,
            "height": null,
            "justify_content": null,
            "justify_items": null,
            "left": null,
            "margin": null,
            "max_height": null,
            "max_width": null,
            "min_height": null,
            "min_width": null,
            "object_fit": null,
            "object_position": null,
            "order": null,
            "overflow": null,
            "overflow_x": null,
            "overflow_y": null,
            "padding": null,
            "right": null,
            "top": null,
            "visibility": null,
            "width": null
          }
        },
        "362ec1685aba41ab8fed556f2596feeb": {
          "model_module": "@jupyter-widgets/base",
          "model_name": "LayoutModel",
          "model_module_version": "1.2.0",
          "state": {
            "_model_module": "@jupyter-widgets/base",
            "_model_module_version": "1.2.0",
            "_model_name": "LayoutModel",
            "_view_count": null,
            "_view_module": "@jupyter-widgets/base",
            "_view_module_version": "1.2.0",
            "_view_name": "LayoutView",
            "align_content": null,
            "align_items": null,
            "align_self": null,
            "border": null,
            "bottom": null,
            "display": null,
            "flex": null,
            "flex_flow": null,
            "grid_area": null,
            "grid_auto_columns": null,
            "grid_auto_flow": null,
            "grid_auto_rows": null,
            "grid_column": null,
            "grid_gap": null,
            "grid_row": null,
            "grid_template_areas": null,
            "grid_template_columns": null,
            "grid_template_rows": null,
            "height": null,
            "justify_content": null,
            "justify_items": null,
            "left": null,
            "margin": null,
            "max_height": null,
            "max_width": null,
            "min_height": null,
            "min_width": null,
            "object_fit": null,
            "object_position": null,
            "order": null,
            "overflow": null,
            "overflow_x": null,
            "overflow_y": null,
            "padding": null,
            "right": null,
            "top": null,
            "visibility": null,
            "width": null
          }
        },
        "a9b04d57a90d480a93bddc108a8f2923": {
          "model_module": "@jupyter-widgets/controls",
          "model_name": "DescriptionStyleModel",
          "model_module_version": "1.5.0",
          "state": {
            "_model_module": "@jupyter-widgets/controls",
            "_model_module_version": "1.5.0",
            "_model_name": "DescriptionStyleModel",
            "_view_count": null,
            "_view_module": "@jupyter-widgets/base",
            "_view_module_version": "1.2.0",
            "_view_name": "StyleView",
            "description_width": ""
          }
        },
        "004e6a4daf474ecebf37682635d52067": {
          "model_module": "@jupyter-widgets/base",
          "model_name": "LayoutModel",
          "model_module_version": "1.2.0",
          "state": {
            "_model_module": "@jupyter-widgets/base",
            "_model_module_version": "1.2.0",
            "_model_name": "LayoutModel",
            "_view_count": null,
            "_view_module": "@jupyter-widgets/base",
            "_view_module_version": "1.2.0",
            "_view_name": "LayoutView",
            "align_content": null,
            "align_items": null,
            "align_self": null,
            "border": null,
            "bottom": null,
            "display": null,
            "flex": null,
            "flex_flow": null,
            "grid_area": null,
            "grid_auto_columns": null,
            "grid_auto_flow": null,
            "grid_auto_rows": null,
            "grid_column": null,
            "grid_gap": null,
            "grid_row": null,
            "grid_template_areas": null,
            "grid_template_columns": null,
            "grid_template_rows": null,
            "height": null,
            "justify_content": null,
            "justify_items": null,
            "left": null,
            "margin": null,
            "max_height": null,
            "max_width": null,
            "min_height": null,
            "min_width": null,
            "object_fit": null,
            "object_position": null,
            "order": null,
            "overflow": null,
            "overflow_x": null,
            "overflow_y": null,
            "padding": null,
            "right": null,
            "top": null,
            "visibility": null,
            "width": null
          }
        },
        "be411211d9474531832edaec0b2adac8": {
          "model_module": "@jupyter-widgets/controls",
          "model_name": "ProgressStyleModel",
          "model_module_version": "1.5.0",
          "state": {
            "_model_module": "@jupyter-widgets/controls",
            "_model_module_version": "1.5.0",
            "_model_name": "ProgressStyleModel",
            "_view_count": null,
            "_view_module": "@jupyter-widgets/base",
            "_view_module_version": "1.2.0",
            "_view_name": "StyleView",
            "bar_color": null,
            "description_width": ""
          }
        },
        "5989edb9f3214399b273e54c086283a8": {
          "model_module": "@jupyter-widgets/base",
          "model_name": "LayoutModel",
          "model_module_version": "1.2.0",
          "state": {
            "_model_module": "@jupyter-widgets/base",
            "_model_module_version": "1.2.0",
            "_model_name": "LayoutModel",
            "_view_count": null,
            "_view_module": "@jupyter-widgets/base",
            "_view_module_version": "1.2.0",
            "_view_name": "LayoutView",
            "align_content": null,
            "align_items": null,
            "align_self": null,
            "border": null,
            "bottom": null,
            "display": null,
            "flex": null,
            "flex_flow": null,
            "grid_area": null,
            "grid_auto_columns": null,
            "grid_auto_flow": null,
            "grid_auto_rows": null,
            "grid_column": null,
            "grid_gap": null,
            "grid_row": null,
            "grid_template_areas": null,
            "grid_template_columns": null,
            "grid_template_rows": null,
            "height": null,
            "justify_content": null,
            "justify_items": null,
            "left": null,
            "margin": null,
            "max_height": null,
            "max_width": null,
            "min_height": null,
            "min_width": null,
            "object_fit": null,
            "object_position": null,
            "order": null,
            "overflow": null,
            "overflow_x": null,
            "overflow_y": null,
            "padding": null,
            "right": null,
            "top": null,
            "visibility": null,
            "width": null
          }
        },
        "c4f8071d5a954b308e6add370faaec7c": {
          "model_module": "@jupyter-widgets/controls",
          "model_name": "DescriptionStyleModel",
          "model_module_version": "1.5.0",
          "state": {
            "_model_module": "@jupyter-widgets/controls",
            "_model_module_version": "1.5.0",
            "_model_name": "DescriptionStyleModel",
            "_view_count": null,
            "_view_module": "@jupyter-widgets/base",
            "_view_module_version": "1.2.0",
            "_view_name": "StyleView",
            "description_width": ""
          }
        },
        "2138cee02f044357bfc10f392aae7c1f": {
          "model_module": "@jupyter-widgets/controls",
          "model_name": "HBoxModel",
          "model_module_version": "1.5.0",
          "state": {
            "_dom_classes": [],
            "_model_module": "@jupyter-widgets/controls",
            "_model_module_version": "1.5.0",
            "_model_name": "HBoxModel",
            "_view_count": null,
            "_view_module": "@jupyter-widgets/controls",
            "_view_module_version": "1.5.0",
            "_view_name": "HBoxView",
            "box_style": "",
            "children": [
              "IPY_MODEL_f7da411a71da4c88940f2db87b7a4e4d",
              "IPY_MODEL_f3d2abf87b41410d961bbb51545c57bf",
              "IPY_MODEL_a2356e88a39c4e6899a67e5e5c913e77"
            ],
            "layout": "IPY_MODEL_c064a44e14a141f6beda412583ff0db7"
          }
        },
        "f7da411a71da4c88940f2db87b7a4e4d": {
          "model_module": "@jupyter-widgets/controls",
          "model_name": "HTMLModel",
          "model_module_version": "1.5.0",
          "state": {
            "_dom_classes": [],
            "_model_module": "@jupyter-widgets/controls",
            "_model_module_version": "1.5.0",
            "_model_name": "HTMLModel",
            "_view_count": null,
            "_view_module": "@jupyter-widgets/controls",
            "_view_module_version": "1.5.0",
            "_view_name": "HTMLView",
            "description": "",
            "description_tooltip": null,
            "layout": "IPY_MODEL_516deaccecab4bde80f5a0778c37b0b3",
            "placeholder": "​",
            "style": "IPY_MODEL_76ff425616b94629ba2b617fc835156e",
            "value": "model.safetensors: 100%"
          }
        },
        "f3d2abf87b41410d961bbb51545c57bf": {
          "model_module": "@jupyter-widgets/controls",
          "model_name": "FloatProgressModel",
          "model_module_version": "1.5.0",
          "state": {
            "_dom_classes": [],
            "_model_module": "@jupyter-widgets/controls",
            "_model_module_version": "1.5.0",
            "_model_name": "FloatProgressModel",
            "_view_count": null,
            "_view_module": "@jupyter-widgets/controls",
            "_view_module_version": "1.5.0",
            "_view_name": "ProgressView",
            "bar_style": "success",
            "description": "",
            "description_tooltip": null,
            "layout": "IPY_MODEL_f46a767ca19c43d19e3e9d773e26291a",
            "max": 90868373,
            "min": 0,
            "orientation": "horizontal",
            "style": "IPY_MODEL_3e0fd5b52ff94d759fdb14e7eda63d6f",
            "value": 90868373
          }
        },
        "a2356e88a39c4e6899a67e5e5c913e77": {
          "model_module": "@jupyter-widgets/controls",
          "model_name": "HTMLModel",
          "model_module_version": "1.5.0",
          "state": {
            "_dom_classes": [],
            "_model_module": "@jupyter-widgets/controls",
            "_model_module_version": "1.5.0",
            "_model_name": "HTMLModel",
            "_view_count": null,
            "_view_module": "@jupyter-widgets/controls",
            "_view_module_version": "1.5.0",
            "_view_name": "HTMLView",
            "description": "",
            "description_tooltip": null,
            "layout": "IPY_MODEL_69d1b9ede6714783b107fd15bfa7658c",
            "placeholder": "​",
            "style": "IPY_MODEL_665fc59f3a0b4ef8bef7ab3da4f237d6",
            "value": " 90.9M/90.9M [00:00&lt;00:00, 218MB/s]"
          }
        },
        "c064a44e14a141f6beda412583ff0db7": {
          "model_module": "@jupyter-widgets/base",
          "model_name": "LayoutModel",
          "model_module_version": "1.2.0",
          "state": {
            "_model_module": "@jupyter-widgets/base",
            "_model_module_version": "1.2.0",
            "_model_name": "LayoutModel",
            "_view_count": null,
            "_view_module": "@jupyter-widgets/base",
            "_view_module_version": "1.2.0",
            "_view_name": "LayoutView",
            "align_content": null,
            "align_items": null,
            "align_self": null,
            "border": null,
            "bottom": null,
            "display": null,
            "flex": null,
            "flex_flow": null,
            "grid_area": null,
            "grid_auto_columns": null,
            "grid_auto_flow": null,
            "grid_auto_rows": null,
            "grid_column": null,
            "grid_gap": null,
            "grid_row": null,
            "grid_template_areas": null,
            "grid_template_columns": null,
            "grid_template_rows": null,
            "height": null,
            "justify_content": null,
            "justify_items": null,
            "left": null,
            "margin": null,
            "max_height": null,
            "max_width": null,
            "min_height": null,
            "min_width": null,
            "object_fit": null,
            "object_position": null,
            "order": null,
            "overflow": null,
            "overflow_x": null,
            "overflow_y": null,
            "padding": null,
            "right": null,
            "top": null,
            "visibility": null,
            "width": null
          }
        },
        "516deaccecab4bde80f5a0778c37b0b3": {
          "model_module": "@jupyter-widgets/base",
          "model_name": "LayoutModel",
          "model_module_version": "1.2.0",
          "state": {
            "_model_module": "@jupyter-widgets/base",
            "_model_module_version": "1.2.0",
            "_model_name": "LayoutModel",
            "_view_count": null,
            "_view_module": "@jupyter-widgets/base",
            "_view_module_version": "1.2.0",
            "_view_name": "LayoutView",
            "align_content": null,
            "align_items": null,
            "align_self": null,
            "border": null,
            "bottom": null,
            "display": null,
            "flex": null,
            "flex_flow": null,
            "grid_area": null,
            "grid_auto_columns": null,
            "grid_auto_flow": null,
            "grid_auto_rows": null,
            "grid_column": null,
            "grid_gap": null,
            "grid_row": null,
            "grid_template_areas": null,
            "grid_template_columns": null,
            "grid_template_rows": null,
            "height": null,
            "justify_content": null,
            "justify_items": null,
            "left": null,
            "margin": null,
            "max_height": null,
            "max_width": null,
            "min_height": null,
            "min_width": null,
            "object_fit": null,
            "object_position": null,
            "order": null,
            "overflow": null,
            "overflow_x": null,
            "overflow_y": null,
            "padding": null,
            "right": null,
            "top": null,
            "visibility": null,
            "width": null
          }
        },
        "76ff425616b94629ba2b617fc835156e": {
          "model_module": "@jupyter-widgets/controls",
          "model_name": "DescriptionStyleModel",
          "model_module_version": "1.5.0",
          "state": {
            "_model_module": "@jupyter-widgets/controls",
            "_model_module_version": "1.5.0",
            "_model_name": "DescriptionStyleModel",
            "_view_count": null,
            "_view_module": "@jupyter-widgets/base",
            "_view_module_version": "1.2.0",
            "_view_name": "StyleView",
            "description_width": ""
          }
        },
        "f46a767ca19c43d19e3e9d773e26291a": {
          "model_module": "@jupyter-widgets/base",
          "model_name": "LayoutModel",
          "model_module_version": "1.2.0",
          "state": {
            "_model_module": "@jupyter-widgets/base",
            "_model_module_version": "1.2.0",
            "_model_name": "LayoutModel",
            "_view_count": null,
            "_view_module": "@jupyter-widgets/base",
            "_view_module_version": "1.2.0",
            "_view_name": "LayoutView",
            "align_content": null,
            "align_items": null,
            "align_self": null,
            "border": null,
            "bottom": null,
            "display": null,
            "flex": null,
            "flex_flow": null,
            "grid_area": null,
            "grid_auto_columns": null,
            "grid_auto_flow": null,
            "grid_auto_rows": null,
            "grid_column": null,
            "grid_gap": null,
            "grid_row": null,
            "grid_template_areas": null,
            "grid_template_columns": null,
            "grid_template_rows": null,
            "height": null,
            "justify_content": null,
            "justify_items": null,
            "left": null,
            "margin": null,
            "max_height": null,
            "max_width": null,
            "min_height": null,
            "min_width": null,
            "object_fit": null,
            "object_position": null,
            "order": null,
            "overflow": null,
            "overflow_x": null,
            "overflow_y": null,
            "padding": null,
            "right": null,
            "top": null,
            "visibility": null,
            "width": null
          }
        },
        "3e0fd5b52ff94d759fdb14e7eda63d6f": {
          "model_module": "@jupyter-widgets/controls",
          "model_name": "ProgressStyleModel",
          "model_module_version": "1.5.0",
          "state": {
            "_model_module": "@jupyter-widgets/controls",
            "_model_module_version": "1.5.0",
            "_model_name": "ProgressStyleModel",
            "_view_count": null,
            "_view_module": "@jupyter-widgets/base",
            "_view_module_version": "1.2.0",
            "_view_name": "StyleView",
            "bar_color": null,
            "description_width": ""
          }
        },
        "69d1b9ede6714783b107fd15bfa7658c": {
          "model_module": "@jupyter-widgets/base",
          "model_name": "LayoutModel",
          "model_module_version": "1.2.0",
          "state": {
            "_model_module": "@jupyter-widgets/base",
            "_model_module_version": "1.2.0",
            "_model_name": "LayoutModel",
            "_view_count": null,
            "_view_module": "@jupyter-widgets/base",
            "_view_module_version": "1.2.0",
            "_view_name": "LayoutView",
            "align_content": null,
            "align_items": null,
            "align_self": null,
            "border": null,
            "bottom": null,
            "display": null,
            "flex": null,
            "flex_flow": null,
            "grid_area": null,
            "grid_auto_columns": null,
            "grid_auto_flow": null,
            "grid_auto_rows": null,
            "grid_column": null,
            "grid_gap": null,
            "grid_row": null,
            "grid_template_areas": null,
            "grid_template_columns": null,
            "grid_template_rows": null,
            "height": null,
            "justify_content": null,
            "justify_items": null,
            "left": null,
            "margin": null,
            "max_height": null,
            "max_width": null,
            "min_height": null,
            "min_width": null,
            "object_fit": null,
            "object_position": null,
            "order": null,
            "overflow": null,
            "overflow_x": null,
            "overflow_y": null,
            "padding": null,
            "right": null,
            "top": null,
            "visibility": null,
            "width": null
          }
        },
        "665fc59f3a0b4ef8bef7ab3da4f237d6": {
          "model_module": "@jupyter-widgets/controls",
          "model_name": "DescriptionStyleModel",
          "model_module_version": "1.5.0",
          "state": {
            "_model_module": "@jupyter-widgets/controls",
            "_model_module_version": "1.5.0",
            "_model_name": "DescriptionStyleModel",
            "_view_count": null,
            "_view_module": "@jupyter-widgets/base",
            "_view_module_version": "1.2.0",
            "_view_name": "StyleView",
            "description_width": ""
          }
        },
        "8be22fce9e98473999a7ea78293e67ed": {
          "model_module": "@jupyter-widgets/controls",
          "model_name": "HBoxModel",
          "model_module_version": "1.5.0",
          "state": {
            "_dom_classes": [],
            "_model_module": "@jupyter-widgets/controls",
            "_model_module_version": "1.5.0",
            "_model_name": "HBoxModel",
            "_view_count": null,
            "_view_module": "@jupyter-widgets/controls",
            "_view_module_version": "1.5.0",
            "_view_name": "HBoxView",
            "box_style": "",
            "children": [
              "IPY_MODEL_1a982f3ef3cc4ce7a84a35410a2a079f",
              "IPY_MODEL_5fb8c4b123874361b2c4b553e0379647",
              "IPY_MODEL_51adb453ba3f45b9805dd7d82e90e83e"
            ],
            "layout": "IPY_MODEL_282912e9c6e04a49a03ddcbe4017476d"
          }
        },
        "1a982f3ef3cc4ce7a84a35410a2a079f": {
          "model_module": "@jupyter-widgets/controls",
          "model_name": "HTMLModel",
          "model_module_version": "1.5.0",
          "state": {
            "_dom_classes": [],
            "_model_module": "@jupyter-widgets/controls",
            "_model_module_version": "1.5.0",
            "_model_name": "HTMLModel",
            "_view_count": null,
            "_view_module": "@jupyter-widgets/controls",
            "_view_module_version": "1.5.0",
            "_view_name": "HTMLView",
            "description": "",
            "description_tooltip": null,
            "layout": "IPY_MODEL_e1d5a4d2cfce46468830ddd5f85e1938",
            "placeholder": "​",
            "style": "IPY_MODEL_a49f675557294ed49fbc5dc5aa2ec9af",
            "value": "tokenizer_config.json: 100%"
          }
        },
        "5fb8c4b123874361b2c4b553e0379647": {
          "model_module": "@jupyter-widgets/controls",
          "model_name": "FloatProgressModel",
          "model_module_version": "1.5.0",
          "state": {
            "_dom_classes": [],
            "_model_module": "@jupyter-widgets/controls",
            "_model_module_version": "1.5.0",
            "_model_name": "FloatProgressModel",
            "_view_count": null,
            "_view_module": "@jupyter-widgets/controls",
            "_view_module_version": "1.5.0",
            "_view_name": "ProgressView",
            "bar_style": "success",
            "description": "",
            "description_tooltip": null,
            "layout": "IPY_MODEL_5964b6c49e4f4b9491fa3de06dcaafef",
            "max": 314,
            "min": 0,
            "orientation": "horizontal",
            "style": "IPY_MODEL_e90b54dee4f34b8f8df210e03170c483",
            "value": 314
          }
        },
        "51adb453ba3f45b9805dd7d82e90e83e": {
          "model_module": "@jupyter-widgets/controls",
          "model_name": "HTMLModel",
          "model_module_version": "1.5.0",
          "state": {
            "_dom_classes": [],
            "_model_module": "@jupyter-widgets/controls",
            "_model_module_version": "1.5.0",
            "_model_name": "HTMLModel",
            "_view_count": null,
            "_view_module": "@jupyter-widgets/controls",
            "_view_module_version": "1.5.0",
            "_view_name": "HTMLView",
            "description": "",
            "description_tooltip": null,
            "layout": "IPY_MODEL_2022615d33d14f51a6227018b17a62f5",
            "placeholder": "​",
            "style": "IPY_MODEL_2fd213fbd83f41fdad9d68cf1f15eea9",
            "value": " 314/314 [00:00&lt;00:00, 18.3kB/s]"
          }
        },
        "282912e9c6e04a49a03ddcbe4017476d": {
          "model_module": "@jupyter-widgets/base",
          "model_name": "LayoutModel",
          "model_module_version": "1.2.0",
          "state": {
            "_model_module": "@jupyter-widgets/base",
            "_model_module_version": "1.2.0",
            "_model_name": "LayoutModel",
            "_view_count": null,
            "_view_module": "@jupyter-widgets/base",
            "_view_module_version": "1.2.0",
            "_view_name": "LayoutView",
            "align_content": null,
            "align_items": null,
            "align_self": null,
            "border": null,
            "bottom": null,
            "display": null,
            "flex": null,
            "flex_flow": null,
            "grid_area": null,
            "grid_auto_columns": null,
            "grid_auto_flow": null,
            "grid_auto_rows": null,
            "grid_column": null,
            "grid_gap": null,
            "grid_row": null,
            "grid_template_areas": null,
            "grid_template_columns": null,
            "grid_template_rows": null,
            "height": null,
            "justify_content": null,
            "justify_items": null,
            "left": null,
            "margin": null,
            "max_height": null,
            "max_width": null,
            "min_height": null,
            "min_width": null,
            "object_fit": null,
            "object_position": null,
            "order": null,
            "overflow": null,
            "overflow_x": null,
            "overflow_y": null,
            "padding": null,
            "right": null,
            "top": null,
            "visibility": null,
            "width": null
          }
        },
        "e1d5a4d2cfce46468830ddd5f85e1938": {
          "model_module": "@jupyter-widgets/base",
          "model_name": "LayoutModel",
          "model_module_version": "1.2.0",
          "state": {
            "_model_module": "@jupyter-widgets/base",
            "_model_module_version": "1.2.0",
            "_model_name": "LayoutModel",
            "_view_count": null,
            "_view_module": "@jupyter-widgets/base",
            "_view_module_version": "1.2.0",
            "_view_name": "LayoutView",
            "align_content": null,
            "align_items": null,
            "align_self": null,
            "border": null,
            "bottom": null,
            "display": null,
            "flex": null,
            "flex_flow": null,
            "grid_area": null,
            "grid_auto_columns": null,
            "grid_auto_flow": null,
            "grid_auto_rows": null,
            "grid_column": null,
            "grid_gap": null,
            "grid_row": null,
            "grid_template_areas": null,
            "grid_template_columns": null,
            "grid_template_rows": null,
            "height": null,
            "justify_content": null,
            "justify_items": null,
            "left": null,
            "margin": null,
            "max_height": null,
            "max_width": null,
            "min_height": null,
            "min_width": null,
            "object_fit": null,
            "object_position": null,
            "order": null,
            "overflow": null,
            "overflow_x": null,
            "overflow_y": null,
            "padding": null,
            "right": null,
            "top": null,
            "visibility": null,
            "width": null
          }
        },
        "a49f675557294ed49fbc5dc5aa2ec9af": {
          "model_module": "@jupyter-widgets/controls",
          "model_name": "DescriptionStyleModel",
          "model_module_version": "1.5.0",
          "state": {
            "_model_module": "@jupyter-widgets/controls",
            "_model_module_version": "1.5.0",
            "_model_name": "DescriptionStyleModel",
            "_view_count": null,
            "_view_module": "@jupyter-widgets/base",
            "_view_module_version": "1.2.0",
            "_view_name": "StyleView",
            "description_width": ""
          }
        },
        "5964b6c49e4f4b9491fa3de06dcaafef": {
          "model_module": "@jupyter-widgets/base",
          "model_name": "LayoutModel",
          "model_module_version": "1.2.0",
          "state": {
            "_model_module": "@jupyter-widgets/base",
            "_model_module_version": "1.2.0",
            "_model_name": "LayoutModel",
            "_view_count": null,
            "_view_module": "@jupyter-widgets/base",
            "_view_module_version": "1.2.0",
            "_view_name": "LayoutView",
            "align_content": null,
            "align_items": null,
            "align_self": null,
            "border": null,
            "bottom": null,
            "display": null,
            "flex": null,
            "flex_flow": null,
            "grid_area": null,
            "grid_auto_columns": null,
            "grid_auto_flow": null,
            "grid_auto_rows": null,
            "grid_column": null,
            "grid_gap": null,
            "grid_row": null,
            "grid_template_areas": null,
            "grid_template_columns": null,
            "grid_template_rows": null,
            "height": null,
            "justify_content": null,
            "justify_items": null,
            "left": null,
            "margin": null,
            "max_height": null,
            "max_width": null,
            "min_height": null,
            "min_width": null,
            "object_fit": null,
            "object_position": null,
            "order": null,
            "overflow": null,
            "overflow_x": null,
            "overflow_y": null,
            "padding": null,
            "right": null,
            "top": null,
            "visibility": null,
            "width": null
          }
        },
        "e90b54dee4f34b8f8df210e03170c483": {
          "model_module": "@jupyter-widgets/controls",
          "model_name": "ProgressStyleModel",
          "model_module_version": "1.5.0",
          "state": {
            "_model_module": "@jupyter-widgets/controls",
            "_model_module_version": "1.5.0",
            "_model_name": "ProgressStyleModel",
            "_view_count": null,
            "_view_module": "@jupyter-widgets/base",
            "_view_module_version": "1.2.0",
            "_view_name": "StyleView",
            "bar_color": null,
            "description_width": ""
          }
        },
        "2022615d33d14f51a6227018b17a62f5": {
          "model_module": "@jupyter-widgets/base",
          "model_name": "LayoutModel",
          "model_module_version": "1.2.0",
          "state": {
            "_model_module": "@jupyter-widgets/base",
            "_model_module_version": "1.2.0",
            "_model_name": "LayoutModel",
            "_view_count": null,
            "_view_module": "@jupyter-widgets/base",
            "_view_module_version": "1.2.0",
            "_view_name": "LayoutView",
            "align_content": null,
            "align_items": null,
            "align_self": null,
            "border": null,
            "bottom": null,
            "display": null,
            "flex": null,
            "flex_flow": null,
            "grid_area": null,
            "grid_auto_columns": null,
            "grid_auto_flow": null,
            "grid_auto_rows": null,
            "grid_column": null,
            "grid_gap": null,
            "grid_row": null,
            "grid_template_areas": null,
            "grid_template_columns": null,
            "grid_template_rows": null,
            "height": null,
            "justify_content": null,
            "justify_items": null,
            "left": null,
            "margin": null,
            "max_height": null,
            "max_width": null,
            "min_height": null,
            "min_width": null,
            "object_fit": null,
            "object_position": null,
            "order": null,
            "overflow": null,
            "overflow_x": null,
            "overflow_y": null,
            "padding": null,
            "right": null,
            "top": null,
            "visibility": null,
            "width": null
          }
        },
        "2fd213fbd83f41fdad9d68cf1f15eea9": {
          "model_module": "@jupyter-widgets/controls",
          "model_name": "DescriptionStyleModel",
          "model_module_version": "1.5.0",
          "state": {
            "_model_module": "@jupyter-widgets/controls",
            "_model_module_version": "1.5.0",
            "_model_name": "DescriptionStyleModel",
            "_view_count": null,
            "_view_module": "@jupyter-widgets/base",
            "_view_module_version": "1.2.0",
            "_view_name": "StyleView",
            "description_width": ""
          }
        },
        "6ed6e920dea64331bd31e1a02d2168ec": {
          "model_module": "@jupyter-widgets/controls",
          "model_name": "HBoxModel",
          "model_module_version": "1.5.0",
          "state": {
            "_dom_classes": [],
            "_model_module": "@jupyter-widgets/controls",
            "_model_module_version": "1.5.0",
            "_model_name": "HBoxModel",
            "_view_count": null,
            "_view_module": "@jupyter-widgets/controls",
            "_view_module_version": "1.5.0",
            "_view_name": "HBoxView",
            "box_style": "",
            "children": [
              "IPY_MODEL_9d12f71184854a949b8ad32d65831b52",
              "IPY_MODEL_abd37a70eefd4e12a8106ede66bdce93",
              "IPY_MODEL_1051a6e46a11422195c1b86659b4a483"
            ],
            "layout": "IPY_MODEL_c310c6a5aa5346b2b5656049d022aac0"
          }
        },
        "9d12f71184854a949b8ad32d65831b52": {
          "model_module": "@jupyter-widgets/controls",
          "model_name": "HTMLModel",
          "model_module_version": "1.5.0",
          "state": {
            "_dom_classes": [],
            "_model_module": "@jupyter-widgets/controls",
            "_model_module_version": "1.5.0",
            "_model_name": "HTMLModel",
            "_view_count": null,
            "_view_module": "@jupyter-widgets/controls",
            "_view_module_version": "1.5.0",
            "_view_name": "HTMLView",
            "description": "",
            "description_tooltip": null,
            "layout": "IPY_MODEL_f7357f61987f41afae7cd84b1601d0d6",
            "placeholder": "​",
            "style": "IPY_MODEL_a2272037113c47a09a23dbd769429af3",
            "value": "vocab.txt: 100%"
          }
        },
        "abd37a70eefd4e12a8106ede66bdce93": {
          "model_module": "@jupyter-widgets/controls",
          "model_name": "FloatProgressModel",
          "model_module_version": "1.5.0",
          "state": {
            "_dom_classes": [],
            "_model_module": "@jupyter-widgets/controls",
            "_model_module_version": "1.5.0",
            "_model_name": "FloatProgressModel",
            "_view_count": null,
            "_view_module": "@jupyter-widgets/controls",
            "_view_module_version": "1.5.0",
            "_view_name": "ProgressView",
            "bar_style": "success",
            "description": "",
            "description_tooltip": null,
            "layout": "IPY_MODEL_ac54de11dfb543e5afe0f856a270a72a",
            "max": 231508,
            "min": 0,
            "orientation": "horizontal",
            "style": "IPY_MODEL_5981dfce2d43426aa5d9bf81804ce6a5",
            "value": 231508
          }
        },
        "1051a6e46a11422195c1b86659b4a483": {
          "model_module": "@jupyter-widgets/controls",
          "model_name": "HTMLModel",
          "model_module_version": "1.5.0",
          "state": {
            "_dom_classes": [],
            "_model_module": "@jupyter-widgets/controls",
            "_model_module_version": "1.5.0",
            "_model_name": "HTMLModel",
            "_view_count": null,
            "_view_module": "@jupyter-widgets/controls",
            "_view_module_version": "1.5.0",
            "_view_name": "HTMLView",
            "description": "",
            "description_tooltip": null,
            "layout": "IPY_MODEL_1bd34a4653fa4a4fa00743bf0e76e508",
            "placeholder": "​",
            "style": "IPY_MODEL_fc0b57db747342b18dfd35718382cd83",
            "value": " 232k/232k [00:00&lt;00:00, 313kB/s]"
          }
        },
        "c310c6a5aa5346b2b5656049d022aac0": {
          "model_module": "@jupyter-widgets/base",
          "model_name": "LayoutModel",
          "model_module_version": "1.2.0",
          "state": {
            "_model_module": "@jupyter-widgets/base",
            "_model_module_version": "1.2.0",
            "_model_name": "LayoutModel",
            "_view_count": null,
            "_view_module": "@jupyter-widgets/base",
            "_view_module_version": "1.2.0",
            "_view_name": "LayoutView",
            "align_content": null,
            "align_items": null,
            "align_self": null,
            "border": null,
            "bottom": null,
            "display": null,
            "flex": null,
            "flex_flow": null,
            "grid_area": null,
            "grid_auto_columns": null,
            "grid_auto_flow": null,
            "grid_auto_rows": null,
            "grid_column": null,
            "grid_gap": null,
            "grid_row": null,
            "grid_template_areas": null,
            "grid_template_columns": null,
            "grid_template_rows": null,
            "height": null,
            "justify_content": null,
            "justify_items": null,
            "left": null,
            "margin": null,
            "max_height": null,
            "max_width": null,
            "min_height": null,
            "min_width": null,
            "object_fit": null,
            "object_position": null,
            "order": null,
            "overflow": null,
            "overflow_x": null,
            "overflow_y": null,
            "padding": null,
            "right": null,
            "top": null,
            "visibility": null,
            "width": null
          }
        },
        "f7357f61987f41afae7cd84b1601d0d6": {
          "model_module": "@jupyter-widgets/base",
          "model_name": "LayoutModel",
          "model_module_version": "1.2.0",
          "state": {
            "_model_module": "@jupyter-widgets/base",
            "_model_module_version": "1.2.0",
            "_model_name": "LayoutModel",
            "_view_count": null,
            "_view_module": "@jupyter-widgets/base",
            "_view_module_version": "1.2.0",
            "_view_name": "LayoutView",
            "align_content": null,
            "align_items": null,
            "align_self": null,
            "border": null,
            "bottom": null,
            "display": null,
            "flex": null,
            "flex_flow": null,
            "grid_area": null,
            "grid_auto_columns": null,
            "grid_auto_flow": null,
            "grid_auto_rows": null,
            "grid_column": null,
            "grid_gap": null,
            "grid_row": null,
            "grid_template_areas": null,
            "grid_template_columns": null,
            "grid_template_rows": null,
            "height": null,
            "justify_content": null,
            "justify_items": null,
            "left": null,
            "margin": null,
            "max_height": null,
            "max_width": null,
            "min_height": null,
            "min_width": null,
            "object_fit": null,
            "object_position": null,
            "order": null,
            "overflow": null,
            "overflow_x": null,
            "overflow_y": null,
            "padding": null,
            "right": null,
            "top": null,
            "visibility": null,
            "width": null
          }
        },
        "a2272037113c47a09a23dbd769429af3": {
          "model_module": "@jupyter-widgets/controls",
          "model_name": "DescriptionStyleModel",
          "model_module_version": "1.5.0",
          "state": {
            "_model_module": "@jupyter-widgets/controls",
            "_model_module_version": "1.5.0",
            "_model_name": "DescriptionStyleModel",
            "_view_count": null,
            "_view_module": "@jupyter-widgets/base",
            "_view_module_version": "1.2.0",
            "_view_name": "StyleView",
            "description_width": ""
          }
        },
        "ac54de11dfb543e5afe0f856a270a72a": {
          "model_module": "@jupyter-widgets/base",
          "model_name": "LayoutModel",
          "model_module_version": "1.2.0",
          "state": {
            "_model_module": "@jupyter-widgets/base",
            "_model_module_version": "1.2.0",
            "_model_name": "LayoutModel",
            "_view_count": null,
            "_view_module": "@jupyter-widgets/base",
            "_view_module_version": "1.2.0",
            "_view_name": "LayoutView",
            "align_content": null,
            "align_items": null,
            "align_self": null,
            "border": null,
            "bottom": null,
            "display": null,
            "flex": null,
            "flex_flow": null,
            "grid_area": null,
            "grid_auto_columns": null,
            "grid_auto_flow": null,
            "grid_auto_rows": null,
            "grid_column": null,
            "grid_gap": null,
            "grid_row": null,
            "grid_template_areas": null,
            "grid_template_columns": null,
            "grid_template_rows": null,
            "height": null,
            "justify_content": null,
            "justify_items": null,
            "left": null,
            "margin": null,
            "max_height": null,
            "max_width": null,
            "min_height": null,
            "min_width": null,
            "object_fit": null,
            "object_position": null,
            "order": null,
            "overflow": null,
            "overflow_x": null,
            "overflow_y": null,
            "padding": null,
            "right": null,
            "top": null,
            "visibility": null,
            "width": null
          }
        },
        "5981dfce2d43426aa5d9bf81804ce6a5": {
          "model_module": "@jupyter-widgets/controls",
          "model_name": "ProgressStyleModel",
          "model_module_version": "1.5.0",
          "state": {
            "_model_module": "@jupyter-widgets/controls",
            "_model_module_version": "1.5.0",
            "_model_name": "ProgressStyleModel",
            "_view_count": null,
            "_view_module": "@jupyter-widgets/base",
            "_view_module_version": "1.2.0",
            "_view_name": "StyleView",
            "bar_color": null,
            "description_width": ""
          }
        },
        "1bd34a4653fa4a4fa00743bf0e76e508": {
          "model_module": "@jupyter-widgets/base",
          "model_name": "LayoutModel",
          "model_module_version": "1.2.0",
          "state": {
            "_model_module": "@jupyter-widgets/base",
            "_model_module_version": "1.2.0",
            "_model_name": "LayoutModel",
            "_view_count": null,
            "_view_module": "@jupyter-widgets/base",
            "_view_module_version": "1.2.0",
            "_view_name": "LayoutView",
            "align_content": null,
            "align_items": null,
            "align_self": null,
            "border": null,
            "bottom": null,
            "display": null,
            "flex": null,
            "flex_flow": null,
            "grid_area": null,
            "grid_auto_columns": null,
            "grid_auto_flow": null,
            "grid_auto_rows": null,
            "grid_column": null,
            "grid_gap": null,
            "grid_row": null,
            "grid_template_areas": null,
            "grid_template_columns": null,
            "grid_template_rows": null,
            "height": null,
            "justify_content": null,
            "justify_items": null,
            "left": null,
            "margin": null,
            "max_height": null,
            "max_width": null,
            "min_height": null,
            "min_width": null,
            "object_fit": null,
            "object_position": null,
            "order": null,
            "overflow": null,
            "overflow_x": null,
            "overflow_y": null,
            "padding": null,
            "right": null,
            "top": null,
            "visibility": null,
            "width": null
          }
        },
        "fc0b57db747342b18dfd35718382cd83": {
          "model_module": "@jupyter-widgets/controls",
          "model_name": "DescriptionStyleModel",
          "model_module_version": "1.5.0",
          "state": {
            "_model_module": "@jupyter-widgets/controls",
            "_model_module_version": "1.5.0",
            "_model_name": "DescriptionStyleModel",
            "_view_count": null,
            "_view_module": "@jupyter-widgets/base",
            "_view_module_version": "1.2.0",
            "_view_name": "StyleView",
            "description_width": ""
          }
        },
        "42f37b403488410cbc74d4624291c2a1": {
          "model_module": "@jupyter-widgets/controls",
          "model_name": "HBoxModel",
          "model_module_version": "1.5.0",
          "state": {
            "_dom_classes": [],
            "_model_module": "@jupyter-widgets/controls",
            "_model_module_version": "1.5.0",
            "_model_name": "HBoxModel",
            "_view_count": null,
            "_view_module": "@jupyter-widgets/controls",
            "_view_module_version": "1.5.0",
            "_view_name": "HBoxView",
            "box_style": "",
            "children": [
              "IPY_MODEL_e2e17e442c3e4246a7cafa3115fff192",
              "IPY_MODEL_e025683af65a45f9ab07995c12badc25",
              "IPY_MODEL_7c724fb874854286ba6c8b752d6a458e"
            ],
            "layout": "IPY_MODEL_4533fa4ba9b54b2d9cd3f70a101d590a"
          }
        },
        "e2e17e442c3e4246a7cafa3115fff192": {
          "model_module": "@jupyter-widgets/controls",
          "model_name": "HTMLModel",
          "model_module_version": "1.5.0",
          "state": {
            "_dom_classes": [],
            "_model_module": "@jupyter-widgets/controls",
            "_model_module_version": "1.5.0",
            "_model_name": "HTMLModel",
            "_view_count": null,
            "_view_module": "@jupyter-widgets/controls",
            "_view_module_version": "1.5.0",
            "_view_name": "HTMLView",
            "description": "",
            "description_tooltip": null,
            "layout": "IPY_MODEL_702af5acda65458c8b76436984171bd0",
            "placeholder": "​",
            "style": "IPY_MODEL_dc7797dcc203450abebf9b799a2c2715",
            "value": "tokenizer.json: 100%"
          }
        },
        "e025683af65a45f9ab07995c12badc25": {
          "model_module": "@jupyter-widgets/controls",
          "model_name": "FloatProgressModel",
          "model_module_version": "1.5.0",
          "state": {
            "_dom_classes": [],
            "_model_module": "@jupyter-widgets/controls",
            "_model_module_version": "1.5.0",
            "_model_name": "FloatProgressModel",
            "_view_count": null,
            "_view_module": "@jupyter-widgets/controls",
            "_view_module_version": "1.5.0",
            "_view_name": "ProgressView",
            "bar_style": "success",
            "description": "",
            "description_tooltip": null,
            "layout": "IPY_MODEL_b9787eb450064a43a3a167561a98a3f0",
            "max": 466081,
            "min": 0,
            "orientation": "horizontal",
            "style": "IPY_MODEL_c4fe6d1c767b41bea3c25664423610b0",
            "value": 466081
          }
        },
        "7c724fb874854286ba6c8b752d6a458e": {
          "model_module": "@jupyter-widgets/controls",
          "model_name": "HTMLModel",
          "model_module_version": "1.5.0",
          "state": {
            "_dom_classes": [],
            "_model_module": "@jupyter-widgets/controls",
            "_model_module_version": "1.5.0",
            "_model_name": "HTMLModel",
            "_view_count": null,
            "_view_module": "@jupyter-widgets/controls",
            "_view_module_version": "1.5.0",
            "_view_name": "HTMLView",
            "description": "",
            "description_tooltip": null,
            "layout": "IPY_MODEL_2338e20fbf5e47f893a3064c702ce09f",
            "placeholder": "​",
            "style": "IPY_MODEL_e2c479bbbe924244b81755dfcf81c107",
            "value": " 466k/466k [00:00&lt;00:00, 1.07MB/s]"
          }
        },
        "4533fa4ba9b54b2d9cd3f70a101d590a": {
          "model_module": "@jupyter-widgets/base",
          "model_name": "LayoutModel",
          "model_module_version": "1.2.0",
          "state": {
            "_model_module": "@jupyter-widgets/base",
            "_model_module_version": "1.2.0",
            "_model_name": "LayoutModel",
            "_view_count": null,
            "_view_module": "@jupyter-widgets/base",
            "_view_module_version": "1.2.0",
            "_view_name": "LayoutView",
            "align_content": null,
            "align_items": null,
            "align_self": null,
            "border": null,
            "bottom": null,
            "display": null,
            "flex": null,
            "flex_flow": null,
            "grid_area": null,
            "grid_auto_columns": null,
            "grid_auto_flow": null,
            "grid_auto_rows": null,
            "grid_column": null,
            "grid_gap": null,
            "grid_row": null,
            "grid_template_areas": null,
            "grid_template_columns": null,
            "grid_template_rows": null,
            "height": null,
            "justify_content": null,
            "justify_items": null,
            "left": null,
            "margin": null,
            "max_height": null,
            "max_width": null,
            "min_height": null,
            "min_width": null,
            "object_fit": null,
            "object_position": null,
            "order": null,
            "overflow": null,
            "overflow_x": null,
            "overflow_y": null,
            "padding": null,
            "right": null,
            "top": null,
            "visibility": null,
            "width": null
          }
        },
        "702af5acda65458c8b76436984171bd0": {
          "model_module": "@jupyter-widgets/base",
          "model_name": "LayoutModel",
          "model_module_version": "1.2.0",
          "state": {
            "_model_module": "@jupyter-widgets/base",
            "_model_module_version": "1.2.0",
            "_model_name": "LayoutModel",
            "_view_count": null,
            "_view_module": "@jupyter-widgets/base",
            "_view_module_version": "1.2.0",
            "_view_name": "LayoutView",
            "align_content": null,
            "align_items": null,
            "align_self": null,
            "border": null,
            "bottom": null,
            "display": null,
            "flex": null,
            "flex_flow": null,
            "grid_area": null,
            "grid_auto_columns": null,
            "grid_auto_flow": null,
            "grid_auto_rows": null,
            "grid_column": null,
            "grid_gap": null,
            "grid_row": null,
            "grid_template_areas": null,
            "grid_template_columns": null,
            "grid_template_rows": null,
            "height": null,
            "justify_content": null,
            "justify_items": null,
            "left": null,
            "margin": null,
            "max_height": null,
            "max_width": null,
            "min_height": null,
            "min_width": null,
            "object_fit": null,
            "object_position": null,
            "order": null,
            "overflow": null,
            "overflow_x": null,
            "overflow_y": null,
            "padding": null,
            "right": null,
            "top": null,
            "visibility": null,
            "width": null
          }
        },
        "dc7797dcc203450abebf9b799a2c2715": {
          "model_module": "@jupyter-widgets/controls",
          "model_name": "DescriptionStyleModel",
          "model_module_version": "1.5.0",
          "state": {
            "_model_module": "@jupyter-widgets/controls",
            "_model_module_version": "1.5.0",
            "_model_name": "DescriptionStyleModel",
            "_view_count": null,
            "_view_module": "@jupyter-widgets/base",
            "_view_module_version": "1.2.0",
            "_view_name": "StyleView",
            "description_width": ""
          }
        },
        "b9787eb450064a43a3a167561a98a3f0": {
          "model_module": "@jupyter-widgets/base",
          "model_name": "LayoutModel",
          "model_module_version": "1.2.0",
          "state": {
            "_model_module": "@jupyter-widgets/base",
            "_model_module_version": "1.2.0",
            "_model_name": "LayoutModel",
            "_view_count": null,
            "_view_module": "@jupyter-widgets/base",
            "_view_module_version": "1.2.0",
            "_view_name": "LayoutView",
            "align_content": null,
            "align_items": null,
            "align_self": null,
            "border": null,
            "bottom": null,
            "display": null,
            "flex": null,
            "flex_flow": null,
            "grid_area": null,
            "grid_auto_columns": null,
            "grid_auto_flow": null,
            "grid_auto_rows": null,
            "grid_column": null,
            "grid_gap": null,
            "grid_row": null,
            "grid_template_areas": null,
            "grid_template_columns": null,
            "grid_template_rows": null,
            "height": null,
            "justify_content": null,
            "justify_items": null,
            "left": null,
            "margin": null,
            "max_height": null,
            "max_width": null,
            "min_height": null,
            "min_width": null,
            "object_fit": null,
            "object_position": null,
            "order": null,
            "overflow": null,
            "overflow_x": null,
            "overflow_y": null,
            "padding": null,
            "right": null,
            "top": null,
            "visibility": null,
            "width": null
          }
        },
        "c4fe6d1c767b41bea3c25664423610b0": {
          "model_module": "@jupyter-widgets/controls",
          "model_name": "ProgressStyleModel",
          "model_module_version": "1.5.0",
          "state": {
            "_model_module": "@jupyter-widgets/controls",
            "_model_module_version": "1.5.0",
            "_model_name": "ProgressStyleModel",
            "_view_count": null,
            "_view_module": "@jupyter-widgets/base",
            "_view_module_version": "1.2.0",
            "_view_name": "StyleView",
            "bar_color": null,
            "description_width": ""
          }
        },
        "2338e20fbf5e47f893a3064c702ce09f": {
          "model_module": "@jupyter-widgets/base",
          "model_name": "LayoutModel",
          "model_module_version": "1.2.0",
          "state": {
            "_model_module": "@jupyter-widgets/base",
            "_model_module_version": "1.2.0",
            "_model_name": "LayoutModel",
            "_view_count": null,
            "_view_module": "@jupyter-widgets/base",
            "_view_module_version": "1.2.0",
            "_view_name": "LayoutView",
            "align_content": null,
            "align_items": null,
            "align_self": null,
            "border": null,
            "bottom": null,
            "display": null,
            "flex": null,
            "flex_flow": null,
            "grid_area": null,
            "grid_auto_columns": null,
            "grid_auto_flow": null,
            "grid_auto_rows": null,
            "grid_column": null,
            "grid_gap": null,
            "grid_row": null,
            "grid_template_areas": null,
            "grid_template_columns": null,
            "grid_template_rows": null,
            "height": null,
            "justify_content": null,
            "justify_items": null,
            "left": null,
            "margin": null,
            "max_height": null,
            "max_width": null,
            "min_height": null,
            "min_width": null,
            "object_fit": null,
            "object_position": null,
            "order": null,
            "overflow": null,
            "overflow_x": null,
            "overflow_y": null,
            "padding": null,
            "right": null,
            "top": null,
            "visibility": null,
            "width": null
          }
        },
        "e2c479bbbe924244b81755dfcf81c107": {
          "model_module": "@jupyter-widgets/controls",
          "model_name": "DescriptionStyleModel",
          "model_module_version": "1.5.0",
          "state": {
            "_model_module": "@jupyter-widgets/controls",
            "_model_module_version": "1.5.0",
            "_model_name": "DescriptionStyleModel",
            "_view_count": null,
            "_view_module": "@jupyter-widgets/base",
            "_view_module_version": "1.2.0",
            "_view_name": "StyleView",
            "description_width": ""
          }
        },
        "754170ac77f040408f86b2df7696f4b6": {
          "model_module": "@jupyter-widgets/controls",
          "model_name": "HBoxModel",
          "model_module_version": "1.5.0",
          "state": {
            "_dom_classes": [],
            "_model_module": "@jupyter-widgets/controls",
            "_model_module_version": "1.5.0",
            "_model_name": "HBoxModel",
            "_view_count": null,
            "_view_module": "@jupyter-widgets/controls",
            "_view_module_version": "1.5.0",
            "_view_name": "HBoxView",
            "box_style": "",
            "children": [
              "IPY_MODEL_2543e8f7ac2a4dca96b12295f3b3174f",
              "IPY_MODEL_5d35637852ab497ab01fe44a0d5fab64",
              "IPY_MODEL_583acbcf2f0c41c7a80af69e91899cd3"
            ],
            "layout": "IPY_MODEL_25f240dae8804d0683cc10887739bf0b"
          }
        },
        "2543e8f7ac2a4dca96b12295f3b3174f": {
          "model_module": "@jupyter-widgets/controls",
          "model_name": "HTMLModel",
          "model_module_version": "1.5.0",
          "state": {
            "_dom_classes": [],
            "_model_module": "@jupyter-widgets/controls",
            "_model_module_version": "1.5.0",
            "_model_name": "HTMLModel",
            "_view_count": null,
            "_view_module": "@jupyter-widgets/controls",
            "_view_module_version": "1.5.0",
            "_view_name": "HTMLView",
            "description": "",
            "description_tooltip": null,
            "layout": "IPY_MODEL_eb54a3bc1b3a41958e1fc509bb97b388",
            "placeholder": "​",
            "style": "IPY_MODEL_c89af08e6d004d1fb06388285f07e008",
            "value": "special_tokens_map.json: 100%"
          }
        },
        "5d35637852ab497ab01fe44a0d5fab64": {
          "model_module": "@jupyter-widgets/controls",
          "model_name": "FloatProgressModel",
          "model_module_version": "1.5.0",
          "state": {
            "_dom_classes": [],
            "_model_module": "@jupyter-widgets/controls",
            "_model_module_version": "1.5.0",
            "_model_name": "FloatProgressModel",
            "_view_count": null,
            "_view_module": "@jupyter-widgets/controls",
            "_view_module_version": "1.5.0",
            "_view_name": "ProgressView",
            "bar_style": "success",
            "description": "",
            "description_tooltip": null,
            "layout": "IPY_MODEL_f23086f180044a91ba0a7cd730fe1935",
            "max": 112,
            "min": 0,
            "orientation": "horizontal",
            "style": "IPY_MODEL_6f96a9ba436f4aeb9fd4c42c0e8451c9",
            "value": 112
          }
        },
        "583acbcf2f0c41c7a80af69e91899cd3": {
          "model_module": "@jupyter-widgets/controls",
          "model_name": "HTMLModel",
          "model_module_version": "1.5.0",
          "state": {
            "_dom_classes": [],
            "_model_module": "@jupyter-widgets/controls",
            "_model_module_version": "1.5.0",
            "_model_name": "HTMLModel",
            "_view_count": null,
            "_view_module": "@jupyter-widgets/controls",
            "_view_module_version": "1.5.0",
            "_view_name": "HTMLView",
            "description": "",
            "description_tooltip": null,
            "layout": "IPY_MODEL_b8f708b6df46469db7945cb23a485beb",
            "placeholder": "​",
            "style": "IPY_MODEL_e088874dd9ce45b494b071ec4bbb782e",
            "value": " 112/112 [00:00&lt;00:00, 8.00kB/s]"
          }
        },
        "25f240dae8804d0683cc10887739bf0b": {
          "model_module": "@jupyter-widgets/base",
          "model_name": "LayoutModel",
          "model_module_version": "1.2.0",
          "state": {
            "_model_module": "@jupyter-widgets/base",
            "_model_module_version": "1.2.0",
            "_model_name": "LayoutModel",
            "_view_count": null,
            "_view_module": "@jupyter-widgets/base",
            "_view_module_version": "1.2.0",
            "_view_name": "LayoutView",
            "align_content": null,
            "align_items": null,
            "align_self": null,
            "border": null,
            "bottom": null,
            "display": null,
            "flex": null,
            "flex_flow": null,
            "grid_area": null,
            "grid_auto_columns": null,
            "grid_auto_flow": null,
            "grid_auto_rows": null,
            "grid_column": null,
            "grid_gap": null,
            "grid_row": null,
            "grid_template_areas": null,
            "grid_template_columns": null,
            "grid_template_rows": null,
            "height": null,
            "justify_content": null,
            "justify_items": null,
            "left": null,
            "margin": null,
            "max_height": null,
            "max_width": null,
            "min_height": null,
            "min_width": null,
            "object_fit": null,
            "object_position": null,
            "order": null,
            "overflow": null,
            "overflow_x": null,
            "overflow_y": null,
            "padding": null,
            "right": null,
            "top": null,
            "visibility": null,
            "width": null
          }
        },
        "eb54a3bc1b3a41958e1fc509bb97b388": {
          "model_module": "@jupyter-widgets/base",
          "model_name": "LayoutModel",
          "model_module_version": "1.2.0",
          "state": {
            "_model_module": "@jupyter-widgets/base",
            "_model_module_version": "1.2.0",
            "_model_name": "LayoutModel",
            "_view_count": null,
            "_view_module": "@jupyter-widgets/base",
            "_view_module_version": "1.2.0",
            "_view_name": "LayoutView",
            "align_content": null,
            "align_items": null,
            "align_self": null,
            "border": null,
            "bottom": null,
            "display": null,
            "flex": null,
            "flex_flow": null,
            "grid_area": null,
            "grid_auto_columns": null,
            "grid_auto_flow": null,
            "grid_auto_rows": null,
            "grid_column": null,
            "grid_gap": null,
            "grid_row": null,
            "grid_template_areas": null,
            "grid_template_columns": null,
            "grid_template_rows": null,
            "height": null,
            "justify_content": null,
            "justify_items": null,
            "left": null,
            "margin": null,
            "max_height": null,
            "max_width": null,
            "min_height": null,
            "min_width": null,
            "object_fit": null,
            "object_position": null,
            "order": null,
            "overflow": null,
            "overflow_x": null,
            "overflow_y": null,
            "padding": null,
            "right": null,
            "top": null,
            "visibility": null,
            "width": null
          }
        },
        "c89af08e6d004d1fb06388285f07e008": {
          "model_module": "@jupyter-widgets/controls",
          "model_name": "DescriptionStyleModel",
          "model_module_version": "1.5.0",
          "state": {
            "_model_module": "@jupyter-widgets/controls",
            "_model_module_version": "1.5.0",
            "_model_name": "DescriptionStyleModel",
            "_view_count": null,
            "_view_module": "@jupyter-widgets/base",
            "_view_module_version": "1.2.0",
            "_view_name": "StyleView",
            "description_width": ""
          }
        },
        "f23086f180044a91ba0a7cd730fe1935": {
          "model_module": "@jupyter-widgets/base",
          "model_name": "LayoutModel",
          "model_module_version": "1.2.0",
          "state": {
            "_model_module": "@jupyter-widgets/base",
            "_model_module_version": "1.2.0",
            "_model_name": "LayoutModel",
            "_view_count": null,
            "_view_module": "@jupyter-widgets/base",
            "_view_module_version": "1.2.0",
            "_view_name": "LayoutView",
            "align_content": null,
            "align_items": null,
            "align_self": null,
            "border": null,
            "bottom": null,
            "display": null,
            "flex": null,
            "flex_flow": null,
            "grid_area": null,
            "grid_auto_columns": null,
            "grid_auto_flow": null,
            "grid_auto_rows": null,
            "grid_column": null,
            "grid_gap": null,
            "grid_row": null,
            "grid_template_areas": null,
            "grid_template_columns": null,
            "grid_template_rows": null,
            "height": null,
            "justify_content": null,
            "justify_items": null,
            "left": null,
            "margin": null,
            "max_height": null,
            "max_width": null,
            "min_height": null,
            "min_width": null,
            "object_fit": null,
            "object_position": null,
            "order": null,
            "overflow": null,
            "overflow_x": null,
            "overflow_y": null,
            "padding": null,
            "right": null,
            "top": null,
            "visibility": null,
            "width": null
          }
        },
        "6f96a9ba436f4aeb9fd4c42c0e8451c9": {
          "model_module": "@jupyter-widgets/controls",
          "model_name": "ProgressStyleModel",
          "model_module_version": "1.5.0",
          "state": {
            "_model_module": "@jupyter-widgets/controls",
            "_model_module_version": "1.5.0",
            "_model_name": "ProgressStyleModel",
            "_view_count": null,
            "_view_module": "@jupyter-widgets/base",
            "_view_module_version": "1.2.0",
            "_view_name": "StyleView",
            "bar_color": null,
            "description_width": ""
          }
        },
        "b8f708b6df46469db7945cb23a485beb": {
          "model_module": "@jupyter-widgets/base",
          "model_name": "LayoutModel",
          "model_module_version": "1.2.0",
          "state": {
            "_model_module": "@jupyter-widgets/base",
            "_model_module_version": "1.2.0",
            "_model_name": "LayoutModel",
            "_view_count": null,
            "_view_module": "@jupyter-widgets/base",
            "_view_module_version": "1.2.0",
            "_view_name": "LayoutView",
            "align_content": null,
            "align_items": null,
            "align_self": null,
            "border": null,
            "bottom": null,
            "display": null,
            "flex": null,
            "flex_flow": null,
            "grid_area": null,
            "grid_auto_columns": null,
            "grid_auto_flow": null,
            "grid_auto_rows": null,
            "grid_column": null,
            "grid_gap": null,
            "grid_row": null,
            "grid_template_areas": null,
            "grid_template_columns": null,
            "grid_template_rows": null,
            "height": null,
            "justify_content": null,
            "justify_items": null,
            "left": null,
            "margin": null,
            "max_height": null,
            "max_width": null,
            "min_height": null,
            "min_width": null,
            "object_fit": null,
            "object_position": null,
            "order": null,
            "overflow": null,
            "overflow_x": null,
            "overflow_y": null,
            "padding": null,
            "right": null,
            "top": null,
            "visibility": null,
            "width": null
          }
        },
        "e088874dd9ce45b494b071ec4bbb782e": {
          "model_module": "@jupyter-widgets/controls",
          "model_name": "DescriptionStyleModel",
          "model_module_version": "1.5.0",
          "state": {
            "_model_module": "@jupyter-widgets/controls",
            "_model_module_version": "1.5.0",
            "_model_name": "DescriptionStyleModel",
            "_view_count": null,
            "_view_module": "@jupyter-widgets/base",
            "_view_module_version": "1.2.0",
            "_view_name": "StyleView",
            "description_width": ""
          }
        },
        "f12423a093ce4d2fb4b53b8b510c8880": {
          "model_module": "@jupyter-widgets/controls",
          "model_name": "HBoxModel",
          "model_module_version": "1.5.0",
          "state": {
            "_dom_classes": [],
            "_model_module": "@jupyter-widgets/controls",
            "_model_module_version": "1.5.0",
            "_model_name": "HBoxModel",
            "_view_count": null,
            "_view_module": "@jupyter-widgets/controls",
            "_view_module_version": "1.5.0",
            "_view_name": "HBoxView",
            "box_style": "",
            "children": [
              "IPY_MODEL_1d50ea41e3594141a346bfa4ffca1af1",
              "IPY_MODEL_70bf60746b6042ec9819b2134ad5a175",
              "IPY_MODEL_86c39c0a73b247ae8099dc17a430403a"
            ],
            "layout": "IPY_MODEL_88b633563cd54c5f9fb607eb8f252979"
          }
        },
        "1d50ea41e3594141a346bfa4ffca1af1": {
          "model_module": "@jupyter-widgets/controls",
          "model_name": "HTMLModel",
          "model_module_version": "1.5.0",
          "state": {
            "_dom_classes": [],
            "_model_module": "@jupyter-widgets/controls",
            "_model_module_version": "1.5.0",
            "_model_name": "HTMLModel",
            "_view_count": null,
            "_view_module": "@jupyter-widgets/controls",
            "_view_module_version": "1.5.0",
            "_view_name": "HTMLView",
            "description": "",
            "description_tooltip": null,
            "layout": "IPY_MODEL_ea15c2d5576a45c0aef6aea4a8988a85",
            "placeholder": "​",
            "style": "IPY_MODEL_3d9e634617ea4a999255da469f790a9c",
            "value": "1_Pooling/config.json: 100%"
          }
        },
        "70bf60746b6042ec9819b2134ad5a175": {
          "model_module": "@jupyter-widgets/controls",
          "model_name": "FloatProgressModel",
          "model_module_version": "1.5.0",
          "state": {
            "_dom_classes": [],
            "_model_module": "@jupyter-widgets/controls",
            "_model_module_version": "1.5.0",
            "_model_name": "FloatProgressModel",
            "_view_count": null,
            "_view_module": "@jupyter-widgets/controls",
            "_view_module_version": "1.5.0",
            "_view_name": "ProgressView",
            "bar_style": "success",
            "description": "",
            "description_tooltip": null,
            "layout": "IPY_MODEL_26553e08158d469fa4f7472103eda218",
            "max": 190,
            "min": 0,
            "orientation": "horizontal",
            "style": "IPY_MODEL_d2245f9d489c45bea3033abfb671e9c5",
            "value": 190
          }
        },
        "86c39c0a73b247ae8099dc17a430403a": {
          "model_module": "@jupyter-widgets/controls",
          "model_name": "HTMLModel",
          "model_module_version": "1.5.0",
          "state": {
            "_dom_classes": [],
            "_model_module": "@jupyter-widgets/controls",
            "_model_module_version": "1.5.0",
            "_model_name": "HTMLModel",
            "_view_count": null,
            "_view_module": "@jupyter-widgets/controls",
            "_view_module_version": "1.5.0",
            "_view_name": "HTMLView",
            "description": "",
            "description_tooltip": null,
            "layout": "IPY_MODEL_dfb40530be0147e1a8fb032a2d11b8d3",
            "placeholder": "​",
            "style": "IPY_MODEL_ce6cf50c50c34722a902a2277c275354",
            "value": " 190/190 [00:00&lt;00:00, 15.1kB/s]"
          }
        },
        "88b633563cd54c5f9fb607eb8f252979": {
          "model_module": "@jupyter-widgets/base",
          "model_name": "LayoutModel",
          "model_module_version": "1.2.0",
          "state": {
            "_model_module": "@jupyter-widgets/base",
            "_model_module_version": "1.2.0",
            "_model_name": "LayoutModel",
            "_view_count": null,
            "_view_module": "@jupyter-widgets/base",
            "_view_module_version": "1.2.0",
            "_view_name": "LayoutView",
            "align_content": null,
            "align_items": null,
            "align_self": null,
            "border": null,
            "bottom": null,
            "display": null,
            "flex": null,
            "flex_flow": null,
            "grid_area": null,
            "grid_auto_columns": null,
            "grid_auto_flow": null,
            "grid_auto_rows": null,
            "grid_column": null,
            "grid_gap": null,
            "grid_row": null,
            "grid_template_areas": null,
            "grid_template_columns": null,
            "grid_template_rows": null,
            "height": null,
            "justify_content": null,
            "justify_items": null,
            "left": null,
            "margin": null,
            "max_height": null,
            "max_width": null,
            "min_height": null,
            "min_width": null,
            "object_fit": null,
            "object_position": null,
            "order": null,
            "overflow": null,
            "overflow_x": null,
            "overflow_y": null,
            "padding": null,
            "right": null,
            "top": null,
            "visibility": null,
            "width": null
          }
        },
        "ea15c2d5576a45c0aef6aea4a8988a85": {
          "model_module": "@jupyter-widgets/base",
          "model_name": "LayoutModel",
          "model_module_version": "1.2.0",
          "state": {
            "_model_module": "@jupyter-widgets/base",
            "_model_module_version": "1.2.0",
            "_model_name": "LayoutModel",
            "_view_count": null,
            "_view_module": "@jupyter-widgets/base",
            "_view_module_version": "1.2.0",
            "_view_name": "LayoutView",
            "align_content": null,
            "align_items": null,
            "align_self": null,
            "border": null,
            "bottom": null,
            "display": null,
            "flex": null,
            "flex_flow": null,
            "grid_area": null,
            "grid_auto_columns": null,
            "grid_auto_flow": null,
            "grid_auto_rows": null,
            "grid_column": null,
            "grid_gap": null,
            "grid_row": null,
            "grid_template_areas": null,
            "grid_template_columns": null,
            "grid_template_rows": null,
            "height": null,
            "justify_content": null,
            "justify_items": null,
            "left": null,
            "margin": null,
            "max_height": null,
            "max_width": null,
            "min_height": null,
            "min_width": null,
            "object_fit": null,
            "object_position": null,
            "order": null,
            "overflow": null,
            "overflow_x": null,
            "overflow_y": null,
            "padding": null,
            "right": null,
            "top": null,
            "visibility": null,
            "width": null
          }
        },
        "3d9e634617ea4a999255da469f790a9c": {
          "model_module": "@jupyter-widgets/controls",
          "model_name": "DescriptionStyleModel",
          "model_module_version": "1.5.0",
          "state": {
            "_model_module": "@jupyter-widgets/controls",
            "_model_module_version": "1.5.0",
            "_model_name": "DescriptionStyleModel",
            "_view_count": null,
            "_view_module": "@jupyter-widgets/base",
            "_view_module_version": "1.2.0",
            "_view_name": "StyleView",
            "description_width": ""
          }
        },
        "26553e08158d469fa4f7472103eda218": {
          "model_module": "@jupyter-widgets/base",
          "model_name": "LayoutModel",
          "model_module_version": "1.2.0",
          "state": {
            "_model_module": "@jupyter-widgets/base",
            "_model_module_version": "1.2.0",
            "_model_name": "LayoutModel",
            "_view_count": null,
            "_view_module": "@jupyter-widgets/base",
            "_view_module_version": "1.2.0",
            "_view_name": "LayoutView",
            "align_content": null,
            "align_items": null,
            "align_self": null,
            "border": null,
            "bottom": null,
            "display": null,
            "flex": null,
            "flex_flow": null,
            "grid_area": null,
            "grid_auto_columns": null,
            "grid_auto_flow": null,
            "grid_auto_rows": null,
            "grid_column": null,
            "grid_gap": null,
            "grid_row": null,
            "grid_template_areas": null,
            "grid_template_columns": null,
            "grid_template_rows": null,
            "height": null,
            "justify_content": null,
            "justify_items": null,
            "left": null,
            "margin": null,
            "max_height": null,
            "max_width": null,
            "min_height": null,
            "min_width": null,
            "object_fit": null,
            "object_position": null,
            "order": null,
            "overflow": null,
            "overflow_x": null,
            "overflow_y": null,
            "padding": null,
            "right": null,
            "top": null,
            "visibility": null,
            "width": null
          }
        },
        "d2245f9d489c45bea3033abfb671e9c5": {
          "model_module": "@jupyter-widgets/controls",
          "model_name": "ProgressStyleModel",
          "model_module_version": "1.5.0",
          "state": {
            "_model_module": "@jupyter-widgets/controls",
            "_model_module_version": "1.5.0",
            "_model_name": "ProgressStyleModel",
            "_view_count": null,
            "_view_module": "@jupyter-widgets/base",
            "_view_module_version": "1.2.0",
            "_view_name": "StyleView",
            "bar_color": null,
            "description_width": ""
          }
        },
        "dfb40530be0147e1a8fb032a2d11b8d3": {
          "model_module": "@jupyter-widgets/base",
          "model_name": "LayoutModel",
          "model_module_version": "1.2.0",
          "state": {
            "_model_module": "@jupyter-widgets/base",
            "_model_module_version": "1.2.0",
            "_model_name": "LayoutModel",
            "_view_count": null,
            "_view_module": "@jupyter-widgets/base",
            "_view_module_version": "1.2.0",
            "_view_name": "LayoutView",
            "align_content": null,
            "align_items": null,
            "align_self": null,
            "border": null,
            "bottom": null,
            "display": null,
            "flex": null,
            "flex_flow": null,
            "grid_area": null,
            "grid_auto_columns": null,
            "grid_auto_flow": null,
            "grid_auto_rows": null,
            "grid_column": null,
            "grid_gap": null,
            "grid_row": null,
            "grid_template_areas": null,
            "grid_template_columns": null,
            "grid_template_rows": null,
            "height": null,
            "justify_content": null,
            "justify_items": null,
            "left": null,
            "margin": null,
            "max_height": null,
            "max_width": null,
            "min_height": null,
            "min_width": null,
            "object_fit": null,
            "object_position": null,
            "order": null,
            "overflow": null,
            "overflow_x": null,
            "overflow_y": null,
            "padding": null,
            "right": null,
            "top": null,
            "visibility": null,
            "width": null
          }
        },
        "ce6cf50c50c34722a902a2277c275354": {
          "model_module": "@jupyter-widgets/controls",
          "model_name": "DescriptionStyleModel",
          "model_module_version": "1.5.0",
          "state": {
            "_model_module": "@jupyter-widgets/controls",
            "_model_module_version": "1.5.0",
            "_model_name": "DescriptionStyleModel",
            "_view_count": null,
            "_view_module": "@jupyter-widgets/base",
            "_view_module_version": "1.2.0",
            "_view_name": "StyleView",
            "description_width": ""
          }
        }
      }
    }
  },
  "nbformat": 4,
  "nbformat_minor": 0
}